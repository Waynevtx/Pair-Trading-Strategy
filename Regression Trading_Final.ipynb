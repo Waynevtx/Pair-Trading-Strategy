{
 "cells": [
  {
   "cell_type": "markdown",
   "metadata": {},
   "source": [
    "## Regression Trading Strategy in Python\n",
    "\n",
    "The principle of regression trading strategy is as follows. Let's say you have a combination of stocks in your portfolio that have some underlying economic link. An assumption to be made here is that they are always linked to each other in the same degree. If there is a deviation in this relationship, we trade them such that we assume that they will come back."
   ]
  },
  {
   "cell_type": "code",
   "execution_count": 1,
   "metadata": {},
   "outputs": [
    {
     "name": "stderr",
     "output_type": "stream",
     "text": [
      "c:\\Users\\OuiWeinJien\\anaconda3\\lib\\site-packages\\pandas\\core\\arrays\\masked.py:60: UserWarning: Pandas requires version '1.3.6' or newer of 'bottleneck' (version '1.3.5' currently installed).\n",
      "  from pandas.core import (\n"
     ]
    }
   ],
   "source": [
    "import numpy as np\n",
    "import pandas as pd\n",
    "import statsmodels\n",
    "import statsmodels.api as sm\n",
    "from statsmodels.tsa.stattools import coint, adfuller\n",
    "import warnings\n",
    "import plotly.express as px\n",
    "import yfinance as yf\n",
    "from datetime import datetime, timedelta\n",
    "from dateutil.relativedelta import relativedelta\n",
    "import plotly.graph_objects as go\n",
    "warnings.filterwarnings('ignore')\n",
    "\n",
    "import matplotlib.pyplot as plt\n",
    "import seaborn as sns; sns.set(style=\"whitegrid\")"
   ]
  },
  {
   "cell_type": "markdown",
   "metadata": {},
   "source": [
    "## Helper Function\n",
    "\n",
    "### Stationary test , Extracting data"
   ]
  },
  {
   "cell_type": "code",
   "execution_count": 2,
   "metadata": {},
   "outputs": [],
   "source": [
    "def stationarity_test(X, cutoff=0.15):\n",
    "    # H_0 in adfuller is unit root exists (non-stationary)\n",
    "    # We must observe significant p-value to convince ourselves that the series is stationary\n",
    "    pvalue = adfuller(X)[1]\n",
    "    if pvalue < cutoff:\n",
    "        print('p-value = ' + str(pvalue) + ' The series is likely stationary.')\n",
    "    else:\n",
    "        print('p-value = ' + str(pvalue) + ' The series is likely non-stationary.')"
   ]
  },
  {
   "cell_type": "code",
   "execution_count": 3,
   "metadata": {},
   "outputs": [],
   "source": [
    "def get_multiple_stock_data(tickers, start_date, end_date, interval='1d'):\n",
    "    \"\"\"\n",
    "    Fetch historical 'Close' stock data for multiple tickers from Yahoo Finance.\n",
    "\n",
    "    Parameters:\n",
    "    tickers (list of str): List of stock ticker symbols (e.g., ['AAPL', 'MSFT']).\n",
    "    start_date (str): Start date in the format 'YYYY-MM-DD'.\n",
    "    end_date (str): End date in the format 'YYYY-MM-DD'.\n",
    "    interval (str): Data interval ('1d', '1wk', '1mo').\n",
    "\n",
    "    Returns:\n",
    "    pd.DataFrame: DataFrame containing the 'Close' prices for each ticker.\n",
    "    \"\"\"\n",
    "    data = yf.download(tickers, start=start_date, end=end_date, interval=interval)['Close']\n",
    "    return data"
   ]
  },
  {
   "cell_type": "code",
   "execution_count": 4,
   "metadata": {},
   "outputs": [],
   "source": [
    "# Regression on three stock prices (ADSK and EA on TXN) using OLS\n",
    "def regression_on_three_stocks(df):\n",
    "    X = df.iloc[:,:-1]\n",
    "    Y = df.iloc[:,-1]\n",
    "    X = sm.add_constant(X)\n",
    "    model = sm.OLS(Y, X).fit()\n",
    "    spread = Y - (model.params[1] * df.iloc[:,0] + model.params[2] * df.iloc[:,1] + model.params[0])\n",
    "    return model.rsquared, spread, model.params"
   ]
  },
  {
   "cell_type": "code",
   "execution_count": 5,
   "metadata": {},
   "outputs": [],
   "source": [
    "## Helper function:\n",
    "# Compute the spread and z-score\n",
    "def compute_spread_and_zscore(df, params):\n",
    "    spread = df.iloc[:,2] - (params[1] * df.iloc[:,0] + params[2] * df.iloc[:,1] + params[0])\n",
    "    zscore = (spread - np.mean(spread)) / np.std(spread)\n",
    "    return spread, zscore"
   ]
  },
  {
   "cell_type": "code",
   "execution_count": 6,
   "metadata": {},
   "outputs": [],
   "source": [
    "# Step 3: Function to calculate the longest streak of True values\n",
    "def longest_streak(boolean_array):\n",
    "    max_streak = 0\n",
    "    current_streak = 0\n",
    "    for value in boolean_array[0]:\n",
    "        if value:\n",
    "            current_streak += 1\n",
    "            max_streak = max(max_streak, current_streak)\n",
    "        else:\n",
    "            current_streak = 0\n",
    "    return max_streak\n",
    "\n",
    "## Calculate number of consetsutive days the z-score is above or below the threshold\n",
    "def max_drawback(data, weightage_list, zscore):\n",
    "    \n",
    "    daily_capital = weightage_list[0]* np.mean(data.iloc[:,0]) + weightage_list[1] * np.mean(data.iloc[:,1]) + weightage_list[2] * np.mean(data.iloc[:,2])\n",
    "    time_series = np.array([zscore])\n",
    "\n",
    "    # Step 2: Identify if each day is above or below the mean\n",
    "    above_mean = time_series > 0\n",
    "    below_mean = time_series < 0\n",
    "\n",
    "    # Calculate the longest streak of days above the mean\n",
    "    longest_above_streak = longest_streak(above_mean)\n",
    "\n",
    "    # Calculate the longest streak of days below the mean\n",
    "    longest_below_streak = longest_streak(below_mean)\n",
    "    return max(longest_above_streak, longest_below_streak)* abs(daily_capital)"
   ]
  },
  {
   "cell_type": "code",
   "execution_count": 7,
   "metadata": {},
   "outputs": [],
   "source": [
    "def trade_spread(zscore, data, weightage, initial_capital, initial_position, alpha, clear_position_end = False):\n",
    "    ## Initial capital\n",
    "    ## Params: weightage, data (stocks)\n",
    "    capital = initial_capital\n",
    "    capital_progress = []\n",
    "    count_stock_1 = initial_position[0]\n",
    "    count_stock_2 = initial_position[1]\n",
    "    count_stock_3 = initial_position[2]\n",
    "    \n",
    "    # alpha = capital/max_drawback(data,weightage,zscore) #(enlargement factor)\n",
    "    print('alpha',alpha)\n",
    "    action_threshold = 1\n",
    "    clear_position_threshold = 0.1\n",
    "    stop_loss_threshold = 2\n",
    "\n",
    "    #Check\n",
    "    count1 = []\n",
    "    count2 = []\n",
    "    count3 = []\n",
    "    action_description = []\n",
    "    current_zscore = []\n",
    "    value_list = []\n",
    "    action = 0\n",
    "    EOD_position=0 ### add by Shihan \n",
    "    return_daily=[] ### add by Shihan \n",
    "\n",
    "\n",
    "\n",
    "    \n",
    "    # Simulate trading\n",
    "    for i in range(len(zscore)):\n",
    "        ### add by Shihan\n",
    "        \n",
    "        Open_position=count_stock_1 * data.iloc[i,0] + count_stock_2 * data.iloc[i,1] + count_stock_3 * data.iloc[i,2] \n",
    "        return_in_cash=Open_position-EOD_position \n",
    "        if EOD_position==0: \n",
    "            return_in_percentage=0 \n",
    "        else:\n",
    "            return_in_percentage=return_in_cash/abs(EOD_position) \n",
    "        return_daily.append(return_in_percentage) \n",
    "        \n",
    "        ### add by Shihan\n",
    "        \n",
    "        # If previously bought and zscore < 0, clear the portfolio; if previously sold and zscore > 0, clear the portfolio\n",
    "        if (action > 0 and zscore[i] < clear_position_threshold) or (action < 0 and zscore[i] > -clear_position_threshold):\n",
    "            capital += count_stock_1 * data.iloc[i,0] + count_stock_2 * data.iloc[i,1] + count_stock_3 * data.iloc[i,2]\n",
    "            count_stock_1 = 0\n",
    "            count_stock_2 = 0\n",
    "            count_stock_3 = 0\n",
    "        # If zscore > 1, sell the portfolio\n",
    "        if (zscore[i] > action_threshold) and (np.abs(zscore[i]) < stop_loss_threshold):\n",
    "            capital += weightage[0]*alpha * data.iloc[i,0] + weightage[1] *alpha* data.iloc[i,1] + weightage[2] *alpha* data.iloc[i,2]\n",
    "            count_stock_1 -= weightage[0]*alpha\n",
    "            count_stock_2 -= weightage[1]*alpha\n",
    "            count_stock_3 -= weightage[2]*alpha\n",
    "            capital_progress.append(capital)\n",
    "            count1.append(count_stock_1)\n",
    "            count2.append(count_stock_2)\n",
    "            count3.append(count_stock_3)\n",
    "            current_zscore.append(zscore[i])\n",
    "            action_description.append('Sell')\n",
    "            action += 1\n",
    "        # If zscore < -1, buy the portfolio\n",
    "        elif (zscore[i] < -action_threshold) and (np.abs(zscore[i]) < stop_loss_threshold):\n",
    "            capital -= weightage[0] *alpha* data.iloc[i,0] + weightage[1] *alpha* data.iloc[i,1] + weightage[2] *alpha* data.iloc[i,2]\n",
    "            count_stock_1 += weightage[0]*alpha\n",
    "            count_stock_2 += weightage[1]*alpha\n",
    "            count_stock_3 += weightage[2]*alpha\n",
    "            capital_progress.append(capital)\n",
    "            count1.append(count_stock_1)\n",
    "            count2.append(count_stock_2)\n",
    "            count3.append(count_stock_3)\n",
    "            current_zscore.append(zscore[i])\n",
    "            action_description.append('Buy')\n",
    "            action += -1\n",
    "        # If trade volume is 0 AND z-score between -.5 and .5, clear the position\n",
    "        elif (np.abs(zscore[i]) < clear_position_threshold):\n",
    "            capital += count_stock_1 * data.iloc[i,0] + count_stock_2 * data.iloc[i,1] + count_stock_3 * data.iloc[i,2]\n",
    "            count_stock_1 = 0\n",
    "            count_stock_2 = 0\n",
    "            count_stock_3 = 0\n",
    "            capital_progress.append(capital)\n",
    "            count1.append(count_stock_1)\n",
    "            count2.append(count_stock_2)\n",
    "            count3.append(count_stock_3)\n",
    "            action_description.append('Clear Position')\n",
    "            action = 0\n",
    "        elif (np.abs(zscore[i]) >= stop_loss_threshold):\n",
    "            capital += count_stock_1 * data.iloc[i,0] + count_stock_2 * data.iloc[i,1] + count_stock_3 * data.iloc[i,2]\n",
    "            count_stock_1 = 0\n",
    "            count_stock_2 = 0\n",
    "            count_stock_3 = 0\n",
    "            capital_progress.append(capital)\n",
    "            count1.append(count_stock_1)\n",
    "            count2.append(count_stock_2)\n",
    "            count3.append(count_stock_3)\n",
    "            action_description.append('Stop Loss')\n",
    "            action = 0\n",
    "        else:\n",
    "            capital_progress.append(capital)\n",
    "            count1.append(count_stock_1)\n",
    "            count2.append(count_stock_2)\n",
    "            count3.append(count_stock_3)\n",
    "            action_description.append('Hold')\n",
    "            action += 0\n",
    "        value = capital + count_stock_1 * data.iloc[i,0] + count_stock_2 * data.iloc[i,1] + count_stock_3 * data.iloc[i,2]\n",
    "        value_list.append(value)\n",
    "\n",
    "        EOD_position=count_stock_1 * data.iloc[i,0] + count_stock_2 * data.iloc[i,1] + count_stock_3 * data.iloc[i,2] ### add by Shihan\n",
    "\n",
    "    \n",
    "    if clear_position_end == True:\n",
    "        # Clear all positions at the end\n",
    "        capital += count_stock_1 * data.iloc[-1,0] + count_stock_2 * data.iloc[-1,1] + count_stock_3 * data.iloc[-1,2]\n",
    "        count_stock_1 = 0\n",
    "        count_stock_2 = 0\n",
    "        count_stock_3 = 0 \n",
    "        capital_progress.append(capital)\n",
    "        count1.append(count_stock_1)\n",
    "        count2.append(count_stock_2)\n",
    "        count3.append(count_stock_3)\n",
    "        action_description.append('Hold')\n",
    "        capital_progress = pd.Series(capital_progress)\n",
    "    return capital_progress, count1, count2, count3, zscore, action_description, value_list, return_daily"
   ]
  },
  {
   "cell_type": "code",
   "execution_count": 8,
   "metadata": {},
   "outputs": [],
   "source": [
    "def trade_train_zscore(train_data, initial_capital, initial_position, alpha = True, clear_position_end = False):\n",
    "    # Regression on three stock prices (ADSK and EA on TXN) using OLS\n",
    "    r, spread, param = regression_on_three_stocks(train_data)\n",
    "    \n",
    "    # Compute the spread and z-score\n",
    "    zscore_train = (spread - np.mean(spread)) / np.std(spread)\n",
    "    \n",
    "    ## Convert coefficient to weightage\n",
    "    weightage = [-param[1], -param[2], 1]\n",
    "    \n",
    "    if alpha == True:\n",
    "        alpha = initial_capital/max_drawback(train_data,weightage,zscore_train)\n",
    "    else: \n",
    "        alpha = alpha\n",
    "    \n",
    "    # Trade the spread\n",
    "    capital_progress, count1, count2, count3, zscore, action_description, value_list, return_daily = trade_spread(zscore_train, train_data, weightage, initial_capital, initial_position, alpha, clear_position_end)\n",
    "   \n",
    "    return capital_progress, count1, count2, count3, zscore, action_description, value_list, return_daily, r"
   ]
  },
  {
   "cell_type": "code",
   "execution_count": 9,
   "metadata": {},
   "outputs": [],
   "source": [
    "def trade_test_zscore(train_data, test_data, initial_capital, initial_position, alpha= True):\n",
    "    ## Obtain weightage from train_date\n",
    "    r, spread, param = regression_on_three_stocks(train_data)\n",
    "    \n",
    "    z_score_train = (spread - np.mean(spread)) / np.std(spread)\n",
    "\n",
    "    print(\"R-squared: \",r)\n",
    "    ## Compute spread and zscore for test data using param from train data\n",
    "    spread_test, zscore_test = compute_spread_and_zscore(test_data, param)\n",
    "\n",
    "    ## Convert coefficient to weightage\n",
    "    weightage = [-param[1], -param[2], 1]\n",
    "    \n",
    "    if alpha == True:\n",
    "        alpha = initial_capital/max_drawback(train_data,weightage,z_score_train)\n",
    "    else:\n",
    "        alpha = alpha\n",
    "    ## Trade spread\n",
    "    capital_progress, count1, count2, count3, _, action, value_list, return_daily = trade_spread(zscore_test, test_data, weightage, initial_capital, initial_position,alpha, False)\n",
    "    return capital_progress, count1, count2, count3, value_list, zscore_test, weightage, action, return_daily, r\n",
    "\n"
   ]
  },
  {
   "cell_type": "code",
   "execution_count": 10,
   "metadata": {},
   "outputs": [],
   "source": [
    "def compute_volatility(data, weights):\n",
    "    # Ensure the weights and data are pandas DataFrames\n",
    "    if not isinstance(data, pd.DataFrame) or not isinstance(weights, pd.DataFrame):\n",
    "        raise ValueError(\"Both data and weights must be pandas DataFrames.\")\n",
    "    \n",
    "    # Compute the covariance matrix of asset returns\n",
    "    cov_matrix = np.cov(data, rowvar=False)\n",
    "    \n",
    "    assert cov_matrix.shape[0] == 9, \"Please select 9 stocks\"\n",
    "    \n",
    "    # Convert DataFrames to numpy arrays\n",
    "    weights_matrix = weights.values  # Shape: (t, a)\n",
    "    \n",
    "    assert weights_matrix.shape[1] == 9, \"Please select 9 stocks\"\n",
    "    assert weights_matrix.shape[0] == data.shape[0], \"The number of rows in the weights matrix must match the number of rows in the data DataFrame.\"\n",
    "    \n",
    "    # Initialize an array to hold volatilities for each time point\n",
    "    num_time_points = weights_matrix.shape[0]\n",
    "    volatilities = np.zeros(num_time_points)\n",
    "    \n",
    "    # Compute portfolio volatility for each time point\n",
    "    for t in range(num_time_points):\n",
    "        weight_vector = weights_matrix[t, :]  # Shape: (a,)\n",
    "        # Portfolio variance = weight_vector^T * cov_matrix * weight_vector\n",
    "        portfolio_variance = np.dot(weight_vector.T, np.dot(cov_matrix, weight_vector))\n",
    "        volatilities[t] = np.sqrt(portfolio_variance)    \n",
    "    return volatilities\n"
   ]
  },
  {
   "cell_type": "code",
   "execution_count": 11,
   "metadata": {},
   "outputs": [],
   "source": [
    "import statistics\n",
    "def sharpe_ratio(return_daily):\n",
    "    mean_value = statistics.mean(return_daily) ##add by SH\n",
    "    std_dev = statistics.stdev(return_daily) ##add by SH\n",
    "    if std_dev == 0:\n",
    "        return 0\n",
    "    else:\n",
    "        return mean_value/std_dev ##add by SH\n",
    "    "
   ]
  },
  {
   "cell_type": "markdown",
   "metadata": {},
   "source": [
    "## Choose the best stock to trade"
   ]
  },
  {
   "cell_type": "markdown",
   "metadata": {},
   "source": [
    "### 1. To Look at Train Sharpe Ratio & R-squared"
   ]
  },
  {
   "cell_type": "code",
   "execution_count": 13,
   "metadata": {},
   "outputs": [
    {
     "name": "stderr",
     "output_type": "stream",
     "text": [
      "[*********************100%%**********************]  3 of 3 completed\n",
      "[**********************67%%******                ]  2 of 3 completed"
     ]
    },
    {
     "name": "stdout",
     "output_type": "stream",
     "text": [
      "alpha 121.1828073613308\n"
     ]
    },
    {
     "name": "stderr",
     "output_type": "stream",
     "text": [
      "[*********************100%%**********************]  3 of 3 completed\n",
      "[*********************100%%**********************]  3 of 3 completed\n"
     ]
    },
    {
     "name": "stdout",
     "output_type": "stream",
     "text": [
      "alpha 674.5745608628893\n",
      "alpha 83.9443591647751\n"
     ]
    },
    {
     "name": "stderr",
     "output_type": "stream",
     "text": [
      "[*********************100%%**********************]  3 of 3 completed\n",
      "[*********************100%%**********************]  3 of 3 completed\n"
     ]
    },
    {
     "name": "stdout",
     "output_type": "stream",
     "text": [
      "alpha 1198.21766140939\n",
      "alpha 1555.7319164207925\n"
     ]
    },
    {
     "name": "stderr",
     "output_type": "stream",
     "text": [
      "[*********************100%%**********************]  3 of 3 completed\n",
      "[*********************100%%**********************]  3 of 3 completed\n"
     ]
    },
    {
     "name": "stdout",
     "output_type": "stream",
     "text": [
      "alpha 4967.4656090174285\n",
      "alpha 333.6945263056176\n"
     ]
    },
    {
     "name": "stderr",
     "output_type": "stream",
     "text": [
      "[*********************100%%**********************]  3 of 3 completed\n",
      "[*********************100%%**********************]  3 of 3 completed\n"
     ]
    },
    {
     "name": "stdout",
     "output_type": "stream",
     "text": [
      "alpha 2745.009493347819\n",
      "alpha 3489.776819913739\n"
     ]
    },
    {
     "name": "stderr",
     "output_type": "stream",
     "text": [
      "[*********************100%%**********************]  3 of 3 completed\n",
      "[*********************100%%**********************]  3 of 3 completed\n"
     ]
    },
    {
     "name": "stdout",
     "output_type": "stream",
     "text": [
      "alpha 4690.246360097887\n",
      "alpha 2086.9306459644663\n"
     ]
    },
    {
     "name": "stderr",
     "output_type": "stream",
     "text": [
      "[*********************100%%**********************]  3 of 3 completed\n",
      "[*********************100%%**********************]  3 of 3 completed\n"
     ]
    },
    {
     "name": "stdout",
     "output_type": "stream",
     "text": [
      "alpha 772.0697266633193\n"
     ]
    },
    {
     "name": "stderr",
     "output_type": "stream",
     "text": [
      "[*********************100%%**********************]  3 of 3 completed\n"
     ]
    },
    {
     "name": "stdout",
     "output_type": "stream",
     "text": [
      "alpha 658.2945973272801\n",
      "alpha 104.9102234077738\n"
     ]
    },
    {
     "name": "stderr",
     "output_type": "stream",
     "text": [
      "[*********************100%%**********************]  3 of 3 completed\n",
      "[*********************100%%**********************]  3 of 3 completed"
     ]
    },
    {
     "name": "stdout",
     "output_type": "stream",
     "text": [
      "alpha 549.9937563353867\n"
     ]
    },
    {
     "name": "stderr",
     "output_type": "stream",
     "text": [
      "\n",
      "[*********************100%%**********************]  3 of 3 completed\n"
     ]
    },
    {
     "name": "stdout",
     "output_type": "stream",
     "text": [
      "alpha 1655.1518467585977\n",
      "alpha 23812.25945397085\n"
     ]
    },
    {
     "name": "stderr",
     "output_type": "stream",
     "text": [
      "[*********************100%%**********************]  3 of 3 completed\n",
      "[*********************100%%**********************]  3 of 3 completed\n"
     ]
    },
    {
     "name": "stdout",
     "output_type": "stream",
     "text": [
      "alpha 4615.598073342404\n",
      "alpha 2083.7864151553067\n"
     ]
    },
    {
     "name": "stderr",
     "output_type": "stream",
     "text": [
      "[*********************100%%**********************]  3 of 3 completed\n",
      "[*********************100%%**********************]  3 of 3 completed"
     ]
    },
    {
     "name": "stdout",
     "output_type": "stream",
     "text": [
      "alpha 74.1534483449518\n",
      "alpha 1294.3669621311635\n"
     ]
    },
    {
     "name": "stderr",
     "output_type": "stream",
     "text": [
      "\n",
      "[*********************100%%**********************]  3 of 3 completed\n",
      "[*********************100%%**********************]  3 of 3 completed\n"
     ]
    },
    {
     "name": "stdout",
     "output_type": "stream",
     "text": [
      "alpha 19425.03567602019\n",
      "alpha 14704.312485132965\n"
     ]
    },
    {
     "name": "stderr",
     "output_type": "stream",
     "text": [
      "[*********************100%%**********************]  3 of 3 completed\n",
      "[*********************100%%**********************]  3 of 3 completed\n"
     ]
    },
    {
     "name": "stdout",
     "output_type": "stream",
     "text": [
      "alpha 11026.411197612078\n",
      "alpha 2809.415599900556\n"
     ]
    },
    {
     "name": "stderr",
     "output_type": "stream",
     "text": [
      "[*********************100%%**********************]  3 of 3 completed\n",
      "[*********************100%%**********************]  3 of 3 completed"
     ]
    },
    {
     "name": "stdout",
     "output_type": "stream",
     "text": [
      "alpha 183.2075913696024\n",
      "alpha 4449.488934409531\n"
     ]
    },
    {
     "name": "stderr",
     "output_type": "stream",
     "text": [
      "\n",
      "[*********************100%%**********************]  3 of 3 completed\n",
      "[*********************100%%**********************]  3 of 3 completed\n"
     ]
    },
    {
     "name": "stdout",
     "output_type": "stream",
     "text": [
      "alpha 570.2387458757804\n",
      "alpha 3328.1054831702295\n"
     ]
    },
    {
     "name": "stderr",
     "output_type": "stream",
     "text": [
      "[*********************100%%**********************]  3 of 3 completed\n",
      "[*********************100%%**********************]  3 of 3 completed\n"
     ]
    },
    {
     "name": "stdout",
     "output_type": "stream",
     "text": [
      "alpha 66642.57414670067\n",
      "alpha 1374.0940980106\n"
     ]
    },
    {
     "name": "stderr",
     "output_type": "stream",
     "text": [
      "[*********************100%%**********************]  3 of 3 completed\n",
      "[**********************67%%******                ]  2 of 3 completed"
     ]
    },
    {
     "name": "stdout",
     "output_type": "stream",
     "text": [
      "alpha 15481.304541530506\n"
     ]
    },
    {
     "name": "stderr",
     "output_type": "stream",
     "text": [
      "[*********************100%%**********************]  3 of 3 completed\n",
      "[*********************100%%**********************]  3 of 3 completed"
     ]
    },
    {
     "name": "stdout",
     "output_type": "stream",
     "text": [
      "alpha 13323.851842897408\n",
      "alpha 534.5374406465348\n"
     ]
    },
    {
     "name": "stderr",
     "output_type": "stream",
     "text": [
      "\n",
      "[*********************100%%**********************]  3 of 3 completed\n",
      "[*********************100%%**********************]  3 of 3 completed\n"
     ]
    },
    {
     "name": "stdout",
     "output_type": "stream",
     "text": [
      "alpha 1417.9224354385904\n",
      "alpha 30055.18822677234\n"
     ]
    },
    {
     "name": "stderr",
     "output_type": "stream",
     "text": [
      "[*********************100%%**********************]  3 of 3 completed\n",
      "[*********************100%%**********************]  3 of 3 completed\n"
     ]
    },
    {
     "name": "stdout",
     "output_type": "stream",
     "text": [
      "alpha 338.567793612465\n",
      "alpha 9770.460142358294\n"
     ]
    },
    {
     "name": "stderr",
     "output_type": "stream",
     "text": [
      "[*********************100%%**********************]  3 of 3 completed\n",
      "[                       0%%                      ]"
     ]
    },
    {
     "name": "stdout",
     "output_type": "stream",
     "text": [
      "alpha 563.5275964430531\n"
     ]
    },
    {
     "name": "stderr",
     "output_type": "stream",
     "text": [
      "[*********************100%%**********************]  3 of 3 completed\n",
      "[*********************100%%**********************]  3 of 3 completed"
     ]
    },
    {
     "name": "stdout",
     "output_type": "stream",
     "text": [
      "alpha 343.39896051164925\n"
     ]
    },
    {
     "name": "stderr",
     "output_type": "stream",
     "text": [
      "\n",
      "[*********************100%%**********************]  3 of 3 completed\n"
     ]
    },
    {
     "name": "stdout",
     "output_type": "stream",
     "text": [
      "alpha 2576.4022448301603\n",
      "alpha 1089.0149062260516\n"
     ]
    },
    {
     "name": "stderr",
     "output_type": "stream",
     "text": [
      "[*********************100%%**********************]  3 of 3 completed\n",
      "[*********************100%%**********************]  3 of 3 completed"
     ]
    },
    {
     "name": "stdout",
     "output_type": "stream",
     "text": [
      "alpha 25364.54025351271\n"
     ]
    },
    {
     "name": "stderr",
     "output_type": "stream",
     "text": [
      "\n"
     ]
    },
    {
     "name": "stdout",
     "output_type": "stream",
     "text": [
      "alpha 4459.489485041939\n"
     ]
    },
    {
     "name": "stderr",
     "output_type": "stream",
     "text": [
      "[*********************100%%**********************]  3 of 3 completed\n",
      "[                       0%%                      ]"
     ]
    },
    {
     "name": "stdout",
     "output_type": "stream",
     "text": [
      "alpha 616.4747523057794\n"
     ]
    },
    {
     "name": "stderr",
     "output_type": "stream",
     "text": [
      "[*********************100%%**********************]  3 of 3 completed\n",
      "[*********************100%%**********************]  3 of 3 completed"
     ]
    },
    {
     "name": "stdout",
     "output_type": "stream",
     "text": [
      "alpha 496.16982548416524\n",
      "alpha 1135.540910203634\n"
     ]
    },
    {
     "name": "stderr",
     "output_type": "stream",
     "text": [
      "\n",
      "[*********************100%%**********************]  3 of 3 completed\n",
      "[*********************100%%**********************]  3 of 3 completed"
     ]
    },
    {
     "name": "stdout",
     "output_type": "stream",
     "text": [
      "alpha 605.3822290328791\n"
     ]
    },
    {
     "name": "stderr",
     "output_type": "stream",
     "text": [
      "\n",
      "[**********************67%%******                ]  2 of 3 completed"
     ]
    },
    {
     "name": "stdout",
     "output_type": "stream",
     "text": [
      "alpha 219.1127279803995\n"
     ]
    },
    {
     "name": "stderr",
     "output_type": "stream",
     "text": [
      "[*********************100%%**********************]  3 of 3 completed\n",
      "[**********************67%%******                ]  2 of 3 completed"
     ]
    },
    {
     "name": "stdout",
     "output_type": "stream",
     "text": [
      "alpha 1584.591473247222\n"
     ]
    },
    {
     "name": "stderr",
     "output_type": "stream",
     "text": [
      "[*********************100%%**********************]  3 of 3 completed\n",
      "[*********************100%%**********************]  3 of 3 completed\n"
     ]
    },
    {
     "name": "stdout",
     "output_type": "stream",
     "text": [
      "alpha 1898.6050815771864\n",
      "alpha 424.70707981368963\n"
     ]
    },
    {
     "name": "stderr",
     "output_type": "stream",
     "text": [
      "[*********************100%%**********************]  3 of 3 completed\n",
      "[*********************100%%**********************]  3 of 3 completed"
     ]
    },
    {
     "name": "stdout",
     "output_type": "stream",
     "text": [
      "alpha 725.9317200468423\n",
      "alpha 9402.743177611941\n"
     ]
    },
    {
     "name": "stderr",
     "output_type": "stream",
     "text": [
      "\n",
      "[*********************100%%**********************]  3 of 3 completed\n",
      "[*********************100%%**********************]  3 of 3 completed\n"
     ]
    },
    {
     "name": "stdout",
     "output_type": "stream",
     "text": [
      "alpha 726.9369481297314\n",
      "alpha 371.2013600200258\n"
     ]
    },
    {
     "name": "stderr",
     "output_type": "stream",
     "text": [
      "[*********************100%%**********************]  3 of 3 completed\n",
      "[*********************100%%**********************]  3 of 3 completed\n"
     ]
    },
    {
     "name": "stdout",
     "output_type": "stream",
     "text": [
      "alpha 229.37193205739808\n",
      "alpha 284.19090220787876\n"
     ]
    },
    {
     "name": "stderr",
     "output_type": "stream",
     "text": [
      "[*********************100%%**********************]  3 of 3 completed\n",
      "[*********************100%%**********************]  3 of 3 completed\n"
     ]
    },
    {
     "name": "stdout",
     "output_type": "stream",
     "text": [
      "alpha 3729.3269490086354\n",
      "alpha 661.1947008583453\n"
     ]
    },
    {
     "name": "stderr",
     "output_type": "stream",
     "text": [
      "[*********************100%%**********************]  3 of 3 completed\n",
      "[*********************100%%**********************]  3 of 3 completed"
     ]
    },
    {
     "name": "stdout",
     "output_type": "stream",
     "text": [
      "alpha 256.67932347677265\n",
      "alpha 343.82607861540833\n"
     ]
    },
    {
     "name": "stderr",
     "output_type": "stream",
     "text": [
      "\n",
      "[*********************100%%**********************]  3 of 3 completed\n",
      "[*********************100%%**********************]  3 of 3 completed\n"
     ]
    },
    {
     "name": "stdout",
     "output_type": "stream",
     "text": [
      "alpha 7191.059239067784\n",
      "alpha 1019.8150219513718\n"
     ]
    },
    {
     "name": "stderr",
     "output_type": "stream",
     "text": [
      "[*********************100%%**********************]  3 of 3 completed\n",
      "[*********************100%%**********************]  3 of 3 completed\n"
     ]
    },
    {
     "name": "stdout",
     "output_type": "stream",
     "text": [
      "alpha 16054.189139460663\n",
      "alpha 303.62528748413405\n"
     ]
    },
    {
     "name": "stderr",
     "output_type": "stream",
     "text": [
      "[*********************100%%**********************]  3 of 3 completed\n",
      "[*********************100%%**********************]  3 of 3 completed\n"
     ]
    },
    {
     "name": "stdout",
     "output_type": "stream",
     "text": [
      "alpha 681.7145673461627\n",
      "alpha 1513.9837190635903\n"
     ]
    },
    {
     "name": "stderr",
     "output_type": "stream",
     "text": [
      "[*********************100%%**********************]  3 of 3 completed\n",
      "[                       0%%                      ]"
     ]
    },
    {
     "name": "stdout",
     "output_type": "stream",
     "text": [
      "alpha 403.16729681664543\n"
     ]
    },
    {
     "name": "stderr",
     "output_type": "stream",
     "text": [
      "[*********************100%%**********************]  3 of 3 completed\n",
      "[**********************67%%******                ]  2 of 3 completed"
     ]
    },
    {
     "name": "stdout",
     "output_type": "stream",
     "text": [
      "alpha 1108.798998794032\n"
     ]
    },
    {
     "name": "stderr",
     "output_type": "stream",
     "text": [
      "[*********************100%%**********************]  3 of 3 completed\n",
      "[*********************100%%**********************]  3 of 3 completed\n"
     ]
    },
    {
     "name": "stdout",
     "output_type": "stream",
     "text": [
      "alpha 264.07821321768813\n",
      "alpha 1114.2221003415596\n"
     ]
    },
    {
     "name": "stderr",
     "output_type": "stream",
     "text": [
      "[*********************100%%**********************]  3 of 3 completed\n",
      "[*********************100%%**********************]  3 of 3 completed\n"
     ]
    },
    {
     "name": "stdout",
     "output_type": "stream",
     "text": [
      "alpha 649.6933183701881\n",
      "alpha 184.5449034852761\n"
     ]
    },
    {
     "name": "stderr",
     "output_type": "stream",
     "text": [
      "[*********************100%%**********************]  3 of 3 completed\n",
      "[*********************100%%**********************]  3 of 3 completed"
     ]
    },
    {
     "name": "stdout",
     "output_type": "stream",
     "text": [
      "alpha 961.2111257157163\n"
     ]
    },
    {
     "name": "stderr",
     "output_type": "stream",
     "text": [
      "\n",
      "[*********************100%%**********************]  3 of 3 completed\n"
     ]
    },
    {
     "name": "stdout",
     "output_type": "stream",
     "text": [
      "alpha 557.7113512644556\n",
      "alpha 287.474563402467\n"
     ]
    },
    {
     "name": "stderr",
     "output_type": "stream",
     "text": [
      "[*********************100%%**********************]  3 of 3 completed\n",
      "[*********************100%%**********************]  3 of 3 completed\n"
     ]
    },
    {
     "name": "stdout",
     "output_type": "stream",
     "text": [
      "alpha 268.9035075361592\n",
      "alpha 585.7765398056571\n"
     ]
    },
    {
     "name": "stderr",
     "output_type": "stream",
     "text": [
      "[*********************100%%**********************]  3 of 3 completed\n",
      "[*********************100%%**********************]  3 of 3 completed\n"
     ]
    },
    {
     "name": "stdout",
     "output_type": "stream",
     "text": [
      "alpha 271.19842172485215\n",
      "alpha 39853.11115746425\n"
     ]
    },
    {
     "name": "stderr",
     "output_type": "stream",
     "text": [
      "[*********************100%%**********************]  3 of 3 completed\n",
      "[*********************100%%**********************]  3 of 3 completed\n"
     ]
    },
    {
     "name": "stdout",
     "output_type": "stream",
     "text": [
      "alpha 956.9117245920659\n",
      "alpha 360.93750980860426\n"
     ]
    },
    {
     "name": "stderr",
     "output_type": "stream",
     "text": [
      "[*********************100%%**********************]  3 of 3 completed\n",
      "[*********************100%%**********************]  3 of 3 completed\n"
     ]
    },
    {
     "name": "stdout",
     "output_type": "stream",
     "text": [
      "alpha 1938.9791104871745\n",
      "alpha 1161.1371699874883\n"
     ]
    },
    {
     "name": "stderr",
     "output_type": "stream",
     "text": [
      "[*********************100%%**********************]  3 of 3 completed\n",
      "[*********************100%%**********************]  3 of 3 completed\n",
      "[                       0%%                      ]"
     ]
    },
    {
     "name": "stdout",
     "output_type": "stream",
     "text": [
      "alpha 833.9924517965309\n",
      "alpha 687.5063586570164\n"
     ]
    },
    {
     "name": "stderr",
     "output_type": "stream",
     "text": [
      "[*********************100%%**********************]  3 of 3 completed\n",
      "[*********************100%%**********************]  3 of 3 completed"
     ]
    },
    {
     "name": "stdout",
     "output_type": "stream",
     "text": [
      "alpha 244.0271997268051\n",
      "alpha 269.07619473871824\n"
     ]
    },
    {
     "name": "stderr",
     "output_type": "stream",
     "text": [
      "\n",
      "[*********************100%%**********************]  3 of 3 completed\n",
      "[*********************100%%**********************]  3 of 3 completed\n"
     ]
    },
    {
     "name": "stdout",
     "output_type": "stream",
     "text": [
      "alpha 256.82855682340227\n",
      "alpha 487.5428931965775\n"
     ]
    },
    {
     "name": "stderr",
     "output_type": "stream",
     "text": [
      "[*********************100%%**********************]  3 of 3 completed\n",
      "[*********************100%%**********************]  3 of 3 completed\n"
     ]
    },
    {
     "name": "stdout",
     "output_type": "stream",
     "text": [
      "alpha 552.160758448778\n",
      "alpha 227.09687885731967\n"
     ]
    },
    {
     "name": "stderr",
     "output_type": "stream",
     "text": [
      "[*********************100%%**********************]  3 of 3 completed\n",
      "[**********************67%%******                ]  2 of 3 completed"
     ]
    },
    {
     "name": "stdout",
     "output_type": "stream",
     "text": [
      "alpha 10430.759948011746\n"
     ]
    },
    {
     "name": "stderr",
     "output_type": "stream",
     "text": [
      "[*********************100%%**********************]  3 of 3 completed\n",
      "[                       0%%                      ]"
     ]
    },
    {
     "name": "stdout",
     "output_type": "stream",
     "text": [
      "alpha 149.07815324757803\n"
     ]
    },
    {
     "name": "stderr",
     "output_type": "stream",
     "text": [
      "[*********************100%%**********************]  3 of 3 completed\n",
      "[*********************100%%**********************]  3 of 3 completed"
     ]
    },
    {
     "name": "stdout",
     "output_type": "stream",
     "text": [
      "alpha 1141.3668174373117\n",
      "alpha 1907.2928276215216\n"
     ]
    },
    {
     "name": "stderr",
     "output_type": "stream",
     "text": [
      "\n",
      "[*********************100%%**********************]  3 of 3 completed\n",
      "[*********************100%%**********************]  3 of 3 completed\n"
     ]
    },
    {
     "name": "stdout",
     "output_type": "stream",
     "text": [
      "alpha 213.59724884632092\n",
      "alpha 2299.197635266069\n"
     ]
    },
    {
     "name": "stderr",
     "output_type": "stream",
     "text": [
      "[*********************100%%**********************]  3 of 3 completed\n",
      "[*********************100%%**********************]  3 of 3 completed\n",
      "[                       0%%                      ]"
     ]
    },
    {
     "name": "stdout",
     "output_type": "stream",
     "text": [
      "alpha 332.2158583197501\n",
      "alpha 8155.188595948973\n"
     ]
    },
    {
     "name": "stderr",
     "output_type": "stream",
     "text": [
      "[*********************100%%**********************]  3 of 3 completed\n",
      "[*********************100%%**********************]  3 of 3 completed\n"
     ]
    },
    {
     "name": "stdout",
     "output_type": "stream",
     "text": [
      "alpha 1390.728706596202\n",
      "alpha 131.82491456161475\n"
     ]
    },
    {
     "name": "stderr",
     "output_type": "stream",
     "text": [
      "[*********************100%%**********************]  3 of 3 completed\n",
      "[*********************100%%**********************]  3 of 3 completed\n"
     ]
    },
    {
     "name": "stdout",
     "output_type": "stream",
     "text": [
      "alpha 1258.977779630763\n",
      "alpha 811.9194283543827\n"
     ]
    },
    {
     "name": "stderr",
     "output_type": "stream",
     "text": [
      "[*********************100%%**********************]  3 of 3 completed\n",
      "[*********************100%%**********************]  3 of 3 completed\n"
     ]
    },
    {
     "name": "stdout",
     "output_type": "stream",
     "text": [
      "alpha 402.4142615720795\n",
      "alpha 999.3858004837016\n"
     ]
    },
    {
     "name": "stderr",
     "output_type": "stream",
     "text": [
      "[*********************100%%**********************]  3 of 3 completed\n",
      "[*********************100%%**********************]  3 of 3 completed\n"
     ]
    },
    {
     "name": "stdout",
     "output_type": "stream",
     "text": [
      "alpha 155.12177061861564\n",
      "alpha 262.765901510004\n"
     ]
    },
    {
     "name": "stderr",
     "output_type": "stream",
     "text": [
      "[*********************100%%**********************]  3 of 3 completed\n",
      "[*********************100%%**********************]  3 of 3 completed\n"
     ]
    },
    {
     "name": "stdout",
     "output_type": "stream",
     "text": [
      "alpha 675.8316223593333\n",
      "alpha 1644.6024846444361\n"
     ]
    },
    {
     "name": "stderr",
     "output_type": "stream",
     "text": [
      "[*********************100%%**********************]  3 of 3 completed\n",
      "[                       0%%                      ]"
     ]
    },
    {
     "name": "stdout",
     "output_type": "stream",
     "text": [
      "alpha 463.7992108030916\n"
     ]
    },
    {
     "name": "stderr",
     "output_type": "stream",
     "text": [
      "[*********************100%%**********************]  3 of 3 completed\n",
      "[*********************100%%**********************]  3 of 3 completed"
     ]
    },
    {
     "name": "stdout",
     "output_type": "stream",
     "text": [
      "alpha 3699.6863043014355\n",
      "alpha 1303.412207211983\n"
     ]
    },
    {
     "name": "stderr",
     "output_type": "stream",
     "text": [
      "\n",
      "[*********************100%%**********************]  3 of 3 completed\n",
      "[*********************100%%**********************]  3 of 3 completed\n"
     ]
    },
    {
     "name": "stdout",
     "output_type": "stream",
     "text": [
      "alpha 1022.9775134194658\n",
      "alpha 209.90200754436864\n"
     ]
    },
    {
     "name": "stderr",
     "output_type": "stream",
     "text": [
      "[*********************100%%**********************]  3 of 3 completed\n",
      "[*********************100%%**********************]  3 of 3 completed\n"
     ]
    },
    {
     "name": "stdout",
     "output_type": "stream",
     "text": [
      "alpha 3674.3371330471086\n",
      "alpha 1302.1810079408551\n"
     ]
    },
    {
     "name": "stderr",
     "output_type": "stream",
     "text": [
      "[*********************100%%**********************]  3 of 3 completed\n",
      "[*********************100%%**********************]  3 of 3 completed\n"
     ]
    },
    {
     "name": "stdout",
     "output_type": "stream",
     "text": [
      "alpha 169.06398697351256\n",
      "alpha 52662.18775335159\n"
     ]
    },
    {
     "name": "stderr",
     "output_type": "stream",
     "text": [
      "[*********************100%%**********************]  3 of 3 completed\n",
      "[*********************100%%**********************]  3 of 3 completed"
     ]
    },
    {
     "name": "stdout",
     "output_type": "stream",
     "text": [
      "alpha 15154.525826540228\n",
      "alpha 3955.6120103732846\n"
     ]
    },
    {
     "name": "stderr",
     "output_type": "stream",
     "text": [
      "\n",
      "[*********************100%%**********************]  3 of 3 completed\n",
      "[*********************100%%**********************]  3 of 3 completed\n"
     ]
    },
    {
     "name": "stdout",
     "output_type": "stream",
     "text": [
      "alpha 10386.63514687473\n",
      "alpha 23680.776244952795\n"
     ]
    },
    {
     "name": "stderr",
     "output_type": "stream",
     "text": [
      "[*********************100%%**********************]  3 of 3 completed\n",
      "[*********************100%%**********************]  3 of 3 completed\n"
     ]
    },
    {
     "name": "stdout",
     "output_type": "stream",
     "text": [
      "alpha 3615.382769693464\n",
      "alpha 913.7644182237647\n"
     ]
    },
    {
     "name": "stderr",
     "output_type": "stream",
     "text": [
      "[*********************100%%**********************]  3 of 3 completed\n",
      "[*********************100%%**********************]  3 of 3 completed\n"
     ]
    },
    {
     "name": "stdout",
     "output_type": "stream",
     "text": [
      "alpha 10765.473404640716\n",
      "alpha 9314.453619994632\n"
     ]
    },
    {
     "name": "stderr",
     "output_type": "stream",
     "text": [
      "[*********************100%%**********************]  3 of 3 completed\n",
      "[*********************100%%**********************]  3 of 3 completed\n"
     ]
    },
    {
     "name": "stdout",
     "output_type": "stream",
     "text": [
      "alpha 3838.4864613646846\n",
      "alpha 4264.3505988182205\n"
     ]
    },
    {
     "name": "stderr",
     "output_type": "stream",
     "text": [
      "[*********************100%%**********************]  3 of 3 completed\n",
      "[*********************100%%**********************]  3 of 3 completed\n"
     ]
    },
    {
     "name": "stdout",
     "output_type": "stream",
     "text": [
      "alpha 7280.130863245443\n",
      "alpha 698.807599255489\n"
     ]
    },
    {
     "name": "stderr",
     "output_type": "stream",
     "text": [
      "[*********************100%%**********************]  3 of 3 completed\n",
      "[*********************100%%**********************]  3 of 3 completed\n"
     ]
    },
    {
     "name": "stdout",
     "output_type": "stream",
     "text": [
      "alpha 7824.04265750341\n",
      "alpha 6665.971092847458\n"
     ]
    },
    {
     "name": "stderr",
     "output_type": "stream",
     "text": [
      "[*********************100%%**********************]  3 of 3 completed\n",
      "[*********************100%%**********************]  3 of 3 completed\n"
     ]
    },
    {
     "name": "stdout",
     "output_type": "stream",
     "text": [
      "alpha 1552.4991060095974\n",
      "alpha 191203.52367855897\n"
     ]
    },
    {
     "name": "stderr",
     "output_type": "stream",
     "text": [
      "[*********************100%%**********************]  3 of 3 completed\n",
      "[*********************100%%**********************]  3 of 3 completed\n"
     ]
    },
    {
     "name": "stdout",
     "output_type": "stream",
     "text": [
      "alpha 15309.029933905358\n",
      "alpha 371410.0525630508\n"
     ]
    },
    {
     "name": "stderr",
     "output_type": "stream",
     "text": [
      "[*********************100%%**********************]  3 of 3 completed\n",
      "[*********************100%%**********************]  3 of 3 completed\n"
     ]
    },
    {
     "name": "stdout",
     "output_type": "stream",
     "text": [
      "alpha 5110.096329336886\n",
      "alpha 1742.5721258015342\n"
     ]
    },
    {
     "name": "stderr",
     "output_type": "stream",
     "text": [
      "[*********************100%%**********************]  3 of 3 completed\n",
      "[*********************100%%**********************]  3 of 3 completed\n"
     ]
    },
    {
     "name": "stdout",
     "output_type": "stream",
     "text": [
      "alpha 23387.73197465055\n",
      "alpha 7929.075084456137\n"
     ]
    },
    {
     "name": "stderr",
     "output_type": "stream",
     "text": [
      "[*********************100%%**********************]  3 of 3 completed\n",
      "[*********************100%%**********************]  3 of 3 completed\n"
     ]
    },
    {
     "name": "stdout",
     "output_type": "stream",
     "text": [
      "alpha 12932.410957230904\n",
      "alpha 13533.535393139871\n"
     ]
    },
    {
     "name": "stderr",
     "output_type": "stream",
     "text": [
      "[*********************100%%**********************]  3 of 3 completed\n",
      "[*********************100%%**********************]  3 of 3 completed\n"
     ]
    },
    {
     "name": "stdout",
     "output_type": "stream",
     "text": [
      "alpha 16666.070214329153\n",
      "alpha 545.4950447486465\n"
     ]
    },
    {
     "name": "stderr",
     "output_type": "stream",
     "text": [
      "[*********************100%%**********************]  3 of 3 completed\n",
      "[*********************100%%**********************]  3 of 3 completed\n"
     ]
    },
    {
     "name": "stdout",
     "output_type": "stream",
     "text": [
      "alpha 3010.2297319108343\n",
      "alpha 2457.5558045311323\n"
     ]
    },
    {
     "name": "stderr",
     "output_type": "stream",
     "text": [
      "[*********************100%%**********************]  3 of 3 completed\n",
      "[*********************100%%**********************]  3 of 3 completed\n"
     ]
    },
    {
     "name": "stdout",
     "output_type": "stream",
     "text": [
      "alpha 5132.467391812291\n",
      "alpha 12397.828708882635\n"
     ]
    },
    {
     "name": "stderr",
     "output_type": "stream",
     "text": [
      "[*********************100%%**********************]  3 of 3 completed\n",
      "[*********************100%%**********************]  3 of 3 completed\n"
     ]
    },
    {
     "name": "stdout",
     "output_type": "stream",
     "text": [
      "alpha 3204.929903547753\n",
      "alpha 2414.189797699841\n"
     ]
    },
    {
     "name": "stderr",
     "output_type": "stream",
     "text": [
      "[*********************100%%**********************]  3 of 3 completed\n",
      "[*********************100%%**********************]  3 of 3 completed\n"
     ]
    },
    {
     "name": "stdout",
     "output_type": "stream",
     "text": [
      "alpha 28256.75171246402\n",
      "alpha 201174.2850792265\n"
     ]
    },
    {
     "name": "stderr",
     "output_type": "stream",
     "text": [
      "[*********************100%%**********************]  3 of 3 completed\n",
      "[*********************100%%**********************]  3 of 3 completed\n"
     ]
    },
    {
     "name": "stdout",
     "output_type": "stream",
     "text": [
      "alpha 3824.0433030556073\n",
      "alpha 46337.10013315107\n"
     ]
    },
    {
     "name": "stderr",
     "output_type": "stream",
     "text": [
      "[*********************100%%**********************]  3 of 3 completed\n",
      "[*********************100%%**********************]  3 of 3 completed\n"
     ]
    },
    {
     "name": "stdout",
     "output_type": "stream",
     "text": [
      "alpha 2191.762181071752\n",
      "alpha 8523.852370058148\n"
     ]
    },
    {
     "name": "stderr",
     "output_type": "stream",
     "text": [
      "[*********************100%%**********************]  3 of 3 completed\n",
      "[*********************100%%**********************]  3 of 3 completed\n"
     ]
    },
    {
     "name": "stdout",
     "output_type": "stream",
     "text": [
      "alpha 8966.997898736412\n",
      "alpha 11206.93201033942\n"
     ]
    },
    {
     "name": "stderr",
     "output_type": "stream",
     "text": [
      "[*********************100%%**********************]  3 of 3 completed\n",
      "[*********************100%%**********************]  3 of 3 completed\n"
     ]
    },
    {
     "name": "stdout",
     "output_type": "stream",
     "text": [
      "alpha 2727.3988638397077\n",
      "alpha 4655.467273173103\n"
     ]
    },
    {
     "name": "stderr",
     "output_type": "stream",
     "text": [
      "[*********************100%%**********************]  3 of 3 completed\n",
      "[*********************100%%**********************]  3 of 3 completed\n"
     ]
    },
    {
     "name": "stdout",
     "output_type": "stream",
     "text": [
      "alpha 11153.722889919249\n",
      "alpha 11555.141146729333\n"
     ]
    },
    {
     "name": "stderr",
     "output_type": "stream",
     "text": [
      "[*********************100%%**********************]  3 of 3 completed\n",
      "[*********************100%%**********************]  3 of 3 completed\n",
      "[                       0%%                      ]"
     ]
    },
    {
     "name": "stdout",
     "output_type": "stream",
     "text": [
      "alpha 4944.4508925258915\n",
      "alpha 2803.669816577623\n"
     ]
    },
    {
     "name": "stderr",
     "output_type": "stream",
     "text": [
      "[*********************100%%**********************]  3 of 3 completed\n"
     ]
    },
    {
     "name": "stdout",
     "output_type": "stream",
     "text": [
      "alpha 1433.527601189602\n"
     ]
    },
    {
     "name": "stderr",
     "output_type": "stream",
     "text": [
      "[*********************100%%**********************]  3 of 3 completed\n",
      "[*********************100%%**********************]  3 of 3 completed\n"
     ]
    },
    {
     "name": "stdout",
     "output_type": "stream",
     "text": [
      "alpha 2280.357252707615\n",
      "alpha 2330.1012118079248\n"
     ]
    },
    {
     "name": "stderr",
     "output_type": "stream",
     "text": [
      "[*********************100%%**********************]  3 of 3 completed\n",
      "[*********************100%%**********************]  3 of 3 completed\n"
     ]
    },
    {
     "name": "stdout",
     "output_type": "stream",
     "text": [
      "alpha 4921.801147426486\n",
      "alpha 3612.284672400918\n"
     ]
    },
    {
     "name": "stderr",
     "output_type": "stream",
     "text": [
      "[*********************100%%**********************]  3 of 3 completed\n",
      "[*********************100%%**********************]  3 of 3 completed\n"
     ]
    },
    {
     "name": "stdout",
     "output_type": "stream",
     "text": [
      "alpha 3051.8562471266555\n",
      "alpha 2727.064591359117\n"
     ]
    },
    {
     "name": "stderr",
     "output_type": "stream",
     "text": [
      "[*********************100%%**********************]  3 of 3 completed\n",
      "[*********************100%%**********************]  3 of 3 completed\n"
     ]
    },
    {
     "name": "stdout",
     "output_type": "stream",
     "text": [
      "alpha 23734.315190186502\n",
      "alpha 6531.969892032379\n"
     ]
    },
    {
     "name": "stderr",
     "output_type": "stream",
     "text": [
      "[*********************100%%**********************]  3 of 3 completed\n",
      "[*********************100%%**********************]  3 of 3 completed\n"
     ]
    },
    {
     "name": "stdout",
     "output_type": "stream",
     "text": [
      "alpha 2465.326867849469\n",
      "alpha 3760.1540039532215\n"
     ]
    },
    {
     "name": "stderr",
     "output_type": "stream",
     "text": [
      "[*********************100%%**********************]  3 of 3 completed\n",
      "[*********************100%%**********************]  3 of 3 completed"
     ]
    },
    {
     "name": "stdout",
     "output_type": "stream",
     "text": [
      "alpha 256679.4043092842\n"
     ]
    },
    {
     "name": "stderr",
     "output_type": "stream",
     "text": [
      "\n",
      "[*********************100%%**********************]  3 of 3 completed\n"
     ]
    },
    {
     "name": "stdout",
     "output_type": "stream",
     "text": [
      "alpha 3388.3959727209767\n",
      "alpha 461.9973654308515\n"
     ]
    },
    {
     "name": "stderr",
     "output_type": "stream",
     "text": [
      "[*********************100%%**********************]  3 of 3 completed\n",
      "[**********************67%%******                ]  2 of 3 completed"
     ]
    },
    {
     "name": "stdout",
     "output_type": "stream",
     "text": [
      "alpha 1296.1661667013523\n"
     ]
    },
    {
     "name": "stderr",
     "output_type": "stream",
     "text": [
      "[*********************100%%**********************]  3 of 3 completed\n",
      "[*********************100%%**********************]  3 of 3 completed\n"
     ]
    },
    {
     "name": "stdout",
     "output_type": "stream",
     "text": [
      "alpha 13520.386263976763\n",
      "alpha 45280.08531636145\n"
     ]
    },
    {
     "name": "stderr",
     "output_type": "stream",
     "text": [
      "[*********************100%%**********************]  3 of 3 completed\n",
      "[*********************100%%**********************]  3 of 3 completed\n"
     ]
    },
    {
     "name": "stdout",
     "output_type": "stream",
     "text": [
      "alpha 27016.339735043795\n",
      "alpha 5667.668719814465\n"
     ]
    },
    {
     "name": "stderr",
     "output_type": "stream",
     "text": [
      "[*********************100%%**********************]  3 of 3 completed\n",
      "[*********************100%%**********************]  3 of 3 completed\n"
     ]
    },
    {
     "name": "stdout",
     "output_type": "stream",
     "text": [
      "alpha 3050.291440882274\n",
      "alpha 4263.237071750792\n"
     ]
    },
    {
     "name": "stderr",
     "output_type": "stream",
     "text": [
      "[*********************100%%**********************]  3 of 3 completed\n",
      "[*********************100%%**********************]  3 of 3 completed\n"
     ]
    },
    {
     "name": "stdout",
     "output_type": "stream",
     "text": [
      "alpha 6368.907263319481\n",
      "alpha 20182.59392912596\n"
     ]
    },
    {
     "name": "stderr",
     "output_type": "stream",
     "text": [
      "[*********************100%%**********************]  3 of 3 completed\n",
      "[*********************100%%**********************]  3 of 3 completed\n"
     ]
    },
    {
     "name": "stdout",
     "output_type": "stream",
     "text": [
      "alpha 2200.9281730490793\n",
      "alpha 3816.782360769858\n"
     ]
    },
    {
     "name": "stderr",
     "output_type": "stream",
     "text": [
      "[*********************100%%**********************]  3 of 3 completed\n"
     ]
    },
    {
     "name": "stdout",
     "output_type": "stream",
     "text": [
      "alpha 4764.368575852913\n"
     ]
    },
    {
     "name": "stderr",
     "output_type": "stream",
     "text": [
      "[*********************100%%**********************]  3 of 3 completed\n",
      "[*********************100%%**********************]  3 of 3 completed\n"
     ]
    },
    {
     "name": "stdout",
     "output_type": "stream",
     "text": [
      "alpha 957.6564744552661\n",
      "alpha 3929.7444699529965\n"
     ]
    },
    {
     "name": "stderr",
     "output_type": "stream",
     "text": [
      "[*********************100%%**********************]  3 of 3 completed\n",
      "[*********************100%%**********************]  3 of 3 completed\n"
     ]
    },
    {
     "name": "stdout",
     "output_type": "stream",
     "text": [
      "alpha 2438.383761536219\n",
      "alpha 5404.681526904754\n"
     ]
    },
    {
     "name": "stderr",
     "output_type": "stream",
     "text": [
      "[*********************100%%**********************]  3 of 3 completed\n",
      "[*********************100%%**********************]  3 of 3 completed\n"
     ]
    },
    {
     "name": "stdout",
     "output_type": "stream",
     "text": [
      "alpha 18444.74675324029\n",
      "alpha 5529.410236217208\n"
     ]
    },
    {
     "name": "stderr",
     "output_type": "stream",
     "text": [
      "[*********************100%%**********************]  3 of 3 completed\n",
      "[*********************100%%**********************]  3 of 3 completed\n"
     ]
    },
    {
     "name": "stdout",
     "output_type": "stream",
     "text": [
      "alpha 1273.0563312665222\n",
      "alpha 8569.09202037778\n"
     ]
    },
    {
     "name": "stderr",
     "output_type": "stream",
     "text": [
      "[*********************100%%**********************]  3 of 3 completed\n",
      "[*********************100%%**********************]  3 of 3 completed\n"
     ]
    },
    {
     "name": "stdout",
     "output_type": "stream",
     "text": [
      "alpha 18623.00454263775\n",
      "alpha 231.79907672230613\n"
     ]
    },
    {
     "name": "stderr",
     "output_type": "stream",
     "text": [
      "[*********************100%%**********************]  3 of 3 completed\n",
      "[*********************100%%**********************]  3 of 3 completed\n"
     ]
    },
    {
     "name": "stdout",
     "output_type": "stream",
     "text": [
      "alpha 5881.374882754851\n",
      "alpha 3589.259584200439\n"
     ]
    },
    {
     "name": "stderr",
     "output_type": "stream",
     "text": [
      "[*********************100%%**********************]  3 of 3 completed\n",
      "[*********************100%%**********************]  3 of 3 completed"
     ]
    },
    {
     "name": "stdout",
     "output_type": "stream",
     "text": [
      "alpha 3555.07172418715\n"
     ]
    },
    {
     "name": "stderr",
     "output_type": "stream",
     "text": [
      "\n",
      "[*********************100%%**********************]  3 of 3 completed\n"
     ]
    },
    {
     "name": "stdout",
     "output_type": "stream",
     "text": [
      "alpha 5198.871564005617\n",
      "alpha 3074.2601926329567\n"
     ]
    },
    {
     "name": "stderr",
     "output_type": "stream",
     "text": [
      "[*********************100%%**********************]  3 of 3 completed\n",
      "[*********************100%%**********************]  3 of 3 completed\n"
     ]
    },
    {
     "name": "stdout",
     "output_type": "stream",
     "text": [
      "alpha 129060.49374674005\n",
      "alpha 51677.35373883992\n"
     ]
    },
    {
     "name": "stderr",
     "output_type": "stream",
     "text": [
      "[*********************100%%**********************]  3 of 3 completed\n",
      "[*********************100%%**********************]  3 of 3 completed\n"
     ]
    },
    {
     "name": "stdout",
     "output_type": "stream",
     "text": [
      "alpha 7355.184748979632\n",
      "alpha 2291.077163465347\n"
     ]
    },
    {
     "name": "stderr",
     "output_type": "stream",
     "text": [
      "[*********************100%%**********************]  3 of 3 completed\n",
      "[*********************100%%**********************]  3 of 3 completed\n"
     ]
    },
    {
     "name": "stdout",
     "output_type": "stream",
     "text": [
      "alpha 363.9240942845209\n",
      "alpha 12163.653268888867\n"
     ]
    },
    {
     "name": "stderr",
     "output_type": "stream",
     "text": [
      "[*********************100%%**********************]  3 of 3 completed\n",
      "[*********************100%%**********************]  3 of 3 completed\n"
     ]
    },
    {
     "name": "stdout",
     "output_type": "stream",
     "text": [
      "alpha 3624.249426599233\n",
      "alpha 10821.403665695643\n"
     ]
    },
    {
     "name": "stderr",
     "output_type": "stream",
     "text": [
      "[*********************100%%**********************]  3 of 3 completed\n",
      "[*********************100%%**********************]  3 of 3 completed\n"
     ]
    },
    {
     "name": "stdout",
     "output_type": "stream",
     "text": [
      "alpha 9135.354730414343\n",
      "alpha 4817.2407648344915\n"
     ]
    },
    {
     "name": "stderr",
     "output_type": "stream",
     "text": [
      "[*********************100%%**********************]  3 of 3 completed\n",
      "[*********************100%%**********************]  3 of 3 completed\n"
     ]
    },
    {
     "name": "stdout",
     "output_type": "stream",
     "text": [
      "alpha 8182.4930227554405\n",
      "alpha 26732.37612439277\n"
     ]
    },
    {
     "name": "stderr",
     "output_type": "stream",
     "text": [
      "[*********************100%%**********************]  3 of 3 completed\n",
      "[*********************100%%**********************]  3 of 3 completed\n"
     ]
    },
    {
     "name": "stdout",
     "output_type": "stream",
     "text": [
      "alpha 3335.004476170143\n",
      "alpha 4287.9787132490865\n"
     ]
    },
    {
     "data": {
      "text/html": [
       "<div>\n",
       "<style scoped>\n",
       "    .dataframe tbody tr th:only-of-type {\n",
       "        vertical-align: middle;\n",
       "    }\n",
       "\n",
       "    .dataframe tbody tr th {\n",
       "        vertical-align: top;\n",
       "    }\n",
       "\n",
       "    .dataframe thead th {\n",
       "        text-align: right;\n",
       "    }\n",
       "</style>\n",
       "<table border=\"1\" class=\"dataframe\">\n",
       "  <thead>\n",
       "    <tr style=\"text-align: right;\">\n",
       "      <th></th>\n",
       "      <th>\"['AAON', 'BYU', 'LIN']\"</th>\n",
       "      <th>\"['AAON', 'CSWI', 'STRL']\"</th>\n",
       "      <th>\"['AAON', 'AGRI', 'RETO']\"</th>\n",
       "      <th>\"['AAON', 'BNGO', 'OMIC']\"</th>\n",
       "      <th>\"['AAON', 'AKYA', 'OMIC']\"</th>\n",
       "      <th>\"['AAON', 'AKYA', 'MNTS']\"</th>\n",
       "      <th>\"['AAOI', 'AAPL', 'MANH']\"</th>\n",
       "      <th>\"['AAOI', 'ALKT', 'VRNS']\"</th>\n",
       "      <th>\"['AAOI', 'ALKT', 'NTNX']\"</th>\n",
       "      <th>\"['AAOI', 'AAPL', 'TTWO']\"</th>\n",
       "      <th>...</th>\n",
       "      <th>\"['AADI', 'ACET', 'NUWE']\"</th>\n",
       "      <th>\"['AADI', 'ABCL', 'BACK']\"</th>\n",
       "      <th>\"['AADI', 'ABVC', 'PYPD']\"</th>\n",
       "      <th>\"['AADI', 'ACET', 'KZR']\"</th>\n",
       "      <th>\"['AADI', 'ACB', 'KZR']\"</th>\n",
       "      <th>\"['AADI', 'ACHL', 'KZR']\"</th>\n",
       "      <th>\"['AADI', 'ABOS', 'INGN']\"</th>\n",
       "      <th>\"['AADI', 'ABEO', 'INGN']\"</th>\n",
       "      <th>\"['AADI', 'ACHL', 'INGN']\"</th>\n",
       "      <th>\"['AADI', 'ACET', 'CARA']\"</th>\n",
       "    </tr>\n",
       "  </thead>\n",
       "  <tbody>\n",
       "    <tr>\n",
       "      <th>0</th>\n",
       "      <td>0.000000</td>\n",
       "      <td>0.000000</td>\n",
       "      <td>0.0</td>\n",
       "      <td>0.000000</td>\n",
       "      <td>0.000000</td>\n",
       "      <td>0.000000</td>\n",
       "      <td>0.000000</td>\n",
       "      <td>0.000000</td>\n",
       "      <td>0.000000</td>\n",
       "      <td>0.000000</td>\n",
       "      <td>...</td>\n",
       "      <td>0.000000</td>\n",
       "      <td>0.000000</td>\n",
       "      <td>0.000000</td>\n",
       "      <td>0.000000</td>\n",
       "      <td>0.000000</td>\n",
       "      <td>0.000000</td>\n",
       "      <td>0.000000</td>\n",
       "      <td>0.0</td>\n",
       "      <td>0.0</td>\n",
       "      <td>0.000000</td>\n",
       "    </tr>\n",
       "    <tr>\n",
       "      <th>1</th>\n",
       "      <td>0.000000</td>\n",
       "      <td>0.059938</td>\n",
       "      <td>0.0</td>\n",
       "      <td>0.000000</td>\n",
       "      <td>0.000000</td>\n",
       "      <td>-0.232705</td>\n",
       "      <td>0.000000</td>\n",
       "      <td>0.000000</td>\n",
       "      <td>0.000000</td>\n",
       "      <td>-0.197114</td>\n",
       "      <td>...</td>\n",
       "      <td>0.000000</td>\n",
       "      <td>0.000000</td>\n",
       "      <td>0.000000</td>\n",
       "      <td>-0.148983</td>\n",
       "      <td>0.030167</td>\n",
       "      <td>0.036528</td>\n",
       "      <td>0.157312</td>\n",
       "      <td>0.0</td>\n",
       "      <td>0.0</td>\n",
       "      <td>0.000000</td>\n",
       "    </tr>\n",
       "    <tr>\n",
       "      <th>2</th>\n",
       "      <td>0.000000</td>\n",
       "      <td>0.012821</td>\n",
       "      <td>0.0</td>\n",
       "      <td>0.000000</td>\n",
       "      <td>0.000000</td>\n",
       "      <td>0.000000</td>\n",
       "      <td>0.000000</td>\n",
       "      <td>0.000000</td>\n",
       "      <td>0.000000</td>\n",
       "      <td>0.000000</td>\n",
       "      <td>...</td>\n",
       "      <td>0.000000</td>\n",
       "      <td>0.000000</td>\n",
       "      <td>-0.091401</td>\n",
       "      <td>0.219758</td>\n",
       "      <td>0.016263</td>\n",
       "      <td>0.065896</td>\n",
       "      <td>0.117065</td>\n",
       "      <td>0.0</td>\n",
       "      <td>0.0</td>\n",
       "      <td>0.000000</td>\n",
       "    </tr>\n",
       "    <tr>\n",
       "      <th>3</th>\n",
       "      <td>0.034074</td>\n",
       "      <td>0.053096</td>\n",
       "      <td>0.0</td>\n",
       "      <td>0.000000</td>\n",
       "      <td>0.000000</td>\n",
       "      <td>0.000000</td>\n",
       "      <td>0.000000</td>\n",
       "      <td>0.092094</td>\n",
       "      <td>0.000000</td>\n",
       "      <td>0.000000</td>\n",
       "      <td>...</td>\n",
       "      <td>0.000000</td>\n",
       "      <td>0.000000</td>\n",
       "      <td>0.264709</td>\n",
       "      <td>0.107506</td>\n",
       "      <td>-0.000598</td>\n",
       "      <td>0.065763</td>\n",
       "      <td>0.058935</td>\n",
       "      <td>0.0</td>\n",
       "      <td>0.0</td>\n",
       "      <td>0.000000</td>\n",
       "    </tr>\n",
       "    <tr>\n",
       "      <th>4</th>\n",
       "      <td>0.009072</td>\n",
       "      <td>0.008986</td>\n",
       "      <td>0.0</td>\n",
       "      <td>0.000000</td>\n",
       "      <td>0.000000</td>\n",
       "      <td>0.000000</td>\n",
       "      <td>0.000000</td>\n",
       "      <td>0.013863</td>\n",
       "      <td>0.000000</td>\n",
       "      <td>0.021552</td>\n",
       "      <td>...</td>\n",
       "      <td>0.000000</td>\n",
       "      <td>0.000000</td>\n",
       "      <td>0.247571</td>\n",
       "      <td>0.143461</td>\n",
       "      <td>0.116244</td>\n",
       "      <td>0.012881</td>\n",
       "      <td>0.147242</td>\n",
       "      <td>0.0</td>\n",
       "      <td>0.0</td>\n",
       "      <td>0.000000</td>\n",
       "    </tr>\n",
       "    <tr>\n",
       "      <th>...</th>\n",
       "      <td>...</td>\n",
       "      <td>...</td>\n",
       "      <td>...</td>\n",
       "      <td>...</td>\n",
       "      <td>...</td>\n",
       "      <td>...</td>\n",
       "      <td>...</td>\n",
       "      <td>...</td>\n",
       "      <td>...</td>\n",
       "      <td>...</td>\n",
       "      <td>...</td>\n",
       "      <td>...</td>\n",
       "      <td>...</td>\n",
       "      <td>...</td>\n",
       "      <td>...</td>\n",
       "      <td>...</td>\n",
       "      <td>...</td>\n",
       "      <td>...</td>\n",
       "      <td>...</td>\n",
       "      <td>...</td>\n",
       "      <td>...</td>\n",
       "    </tr>\n",
       "    <tr>\n",
       "      <th>245</th>\n",
       "      <td>0.000000</td>\n",
       "      <td>-0.017376</td>\n",
       "      <td>0.0</td>\n",
       "      <td>-0.010683</td>\n",
       "      <td>0.000942</td>\n",
       "      <td>0.000000</td>\n",
       "      <td>0.026456</td>\n",
       "      <td>0.086212</td>\n",
       "      <td>0.087650</td>\n",
       "      <td>0.000000</td>\n",
       "      <td>...</td>\n",
       "      <td>0.030740</td>\n",
       "      <td>0.000000</td>\n",
       "      <td>0.082196</td>\n",
       "      <td>0.054159</td>\n",
       "      <td>0.000000</td>\n",
       "      <td>0.000000</td>\n",
       "      <td>0.000000</td>\n",
       "      <td>0.0</td>\n",
       "      <td>0.0</td>\n",
       "      <td>-0.030340</td>\n",
       "    </tr>\n",
       "    <tr>\n",
       "      <th>246</th>\n",
       "      <td>0.000000</td>\n",
       "      <td>-0.002644</td>\n",
       "      <td>0.0</td>\n",
       "      <td>0.051081</td>\n",
       "      <td>0.028113</td>\n",
       "      <td>0.000000</td>\n",
       "      <td>-0.060842</td>\n",
       "      <td>0.051587</td>\n",
       "      <td>0.101592</td>\n",
       "      <td>0.000000</td>\n",
       "      <td>...</td>\n",
       "      <td>0.035178</td>\n",
       "      <td>-0.530460</td>\n",
       "      <td>0.466640</td>\n",
       "      <td>0.028461</td>\n",
       "      <td>0.000000</td>\n",
       "      <td>0.000000</td>\n",
       "      <td>0.000000</td>\n",
       "      <td>0.0</td>\n",
       "      <td>0.0</td>\n",
       "      <td>0.013507</td>\n",
       "    </tr>\n",
       "    <tr>\n",
       "      <th>247</th>\n",
       "      <td>0.000000</td>\n",
       "      <td>0.016317</td>\n",
       "      <td>0.0</td>\n",
       "      <td>-0.019149</td>\n",
       "      <td>-0.016944</td>\n",
       "      <td>0.000000</td>\n",
       "      <td>-0.044435</td>\n",
       "      <td>-0.032021</td>\n",
       "      <td>0.000000</td>\n",
       "      <td>0.000000</td>\n",
       "      <td>...</td>\n",
       "      <td>0.049576</td>\n",
       "      <td>0.000000</td>\n",
       "      <td>-0.242854</td>\n",
       "      <td>-0.111406</td>\n",
       "      <td>-0.051772</td>\n",
       "      <td>0.000000</td>\n",
       "      <td>0.000000</td>\n",
       "      <td>0.0</td>\n",
       "      <td>0.0</td>\n",
       "      <td>0.074911</td>\n",
       "    </tr>\n",
       "    <tr>\n",
       "      <th>248</th>\n",
       "      <td>0.000000</td>\n",
       "      <td>0.028875</td>\n",
       "      <td>0.0</td>\n",
       "      <td>-0.037236</td>\n",
       "      <td>-0.034225</td>\n",
       "      <td>0.000000</td>\n",
       "      <td>0.010023</td>\n",
       "      <td>-0.046642</td>\n",
       "      <td>0.000000</td>\n",
       "      <td>0.000000</td>\n",
       "      <td>...</td>\n",
       "      <td>0.002202</td>\n",
       "      <td>0.364767</td>\n",
       "      <td>0.311416</td>\n",
       "      <td>-0.015370</td>\n",
       "      <td>0.000000</td>\n",
       "      <td>0.000000</td>\n",
       "      <td>0.000000</td>\n",
       "      <td>0.0</td>\n",
       "      <td>0.0</td>\n",
       "      <td>-0.053635</td>\n",
       "    </tr>\n",
       "    <tr>\n",
       "      <th>249</th>\n",
       "      <td>0.000000</td>\n",
       "      <td>0.000000</td>\n",
       "      <td>0.0</td>\n",
       "      <td>-0.008619</td>\n",
       "      <td>-0.024396</td>\n",
       "      <td>0.000000</td>\n",
       "      <td>0.070782</td>\n",
       "      <td>-0.081721</td>\n",
       "      <td>0.000000</td>\n",
       "      <td>0.000000</td>\n",
       "      <td>...</td>\n",
       "      <td>0.030612</td>\n",
       "      <td>-0.082919</td>\n",
       "      <td>-0.174871</td>\n",
       "      <td>0.083182</td>\n",
       "      <td>0.000000</td>\n",
       "      <td>0.000000</td>\n",
       "      <td>0.000000</td>\n",
       "      <td>0.0</td>\n",
       "      <td>0.0</td>\n",
       "      <td>-0.007142</td>\n",
       "    </tr>\n",
       "  </tbody>\n",
       "</table>\n",
       "<p>250 rows × 221 columns</p>\n",
       "</div>"
      ],
      "text/plain": [
       "     \"['AAON', 'BYU', 'LIN']\"  \"['AAON', 'CSWI', 'STRL']\"  \\\n",
       "0                    0.000000                    0.000000   \n",
       "1                    0.000000                    0.059938   \n",
       "2                    0.000000                    0.012821   \n",
       "3                    0.034074                    0.053096   \n",
       "4                    0.009072                    0.008986   \n",
       "..                        ...                         ...   \n",
       "245                  0.000000                   -0.017376   \n",
       "246                  0.000000                   -0.002644   \n",
       "247                  0.000000                    0.016317   \n",
       "248                  0.000000                    0.028875   \n",
       "249                  0.000000                    0.000000   \n",
       "\n",
       "     \"['AAON', 'AGRI', 'RETO']\"  \"['AAON', 'BNGO', 'OMIC']\"  \\\n",
       "0                           0.0                    0.000000   \n",
       "1                           0.0                    0.000000   \n",
       "2                           0.0                    0.000000   \n",
       "3                           0.0                    0.000000   \n",
       "4                           0.0                    0.000000   \n",
       "..                          ...                         ...   \n",
       "245                         0.0                   -0.010683   \n",
       "246                         0.0                    0.051081   \n",
       "247                         0.0                   -0.019149   \n",
       "248                         0.0                   -0.037236   \n",
       "249                         0.0                   -0.008619   \n",
       "\n",
       "     \"['AAON', 'AKYA', 'OMIC']\"  \"['AAON', 'AKYA', 'MNTS']\"  \\\n",
       "0                      0.000000                    0.000000   \n",
       "1                      0.000000                   -0.232705   \n",
       "2                      0.000000                    0.000000   \n",
       "3                      0.000000                    0.000000   \n",
       "4                      0.000000                    0.000000   \n",
       "..                          ...                         ...   \n",
       "245                    0.000942                    0.000000   \n",
       "246                    0.028113                    0.000000   \n",
       "247                   -0.016944                    0.000000   \n",
       "248                   -0.034225                    0.000000   \n",
       "249                   -0.024396                    0.000000   \n",
       "\n",
       "     \"['AAOI', 'AAPL', 'MANH']\"  \"['AAOI', 'ALKT', 'VRNS']\"  \\\n",
       "0                      0.000000                    0.000000   \n",
       "1                      0.000000                    0.000000   \n",
       "2                      0.000000                    0.000000   \n",
       "3                      0.000000                    0.092094   \n",
       "4                      0.000000                    0.013863   \n",
       "..                          ...                         ...   \n",
       "245                    0.026456                    0.086212   \n",
       "246                   -0.060842                    0.051587   \n",
       "247                   -0.044435                   -0.032021   \n",
       "248                    0.010023                   -0.046642   \n",
       "249                    0.070782                   -0.081721   \n",
       "\n",
       "     \"['AAOI', 'ALKT', 'NTNX']\"  \"['AAOI', 'AAPL', 'TTWO']\"  ...  \\\n",
       "0                      0.000000                    0.000000  ...   \n",
       "1                      0.000000                   -0.197114  ...   \n",
       "2                      0.000000                    0.000000  ...   \n",
       "3                      0.000000                    0.000000  ...   \n",
       "4                      0.000000                    0.021552  ...   \n",
       "..                          ...                         ...  ...   \n",
       "245                    0.087650                    0.000000  ...   \n",
       "246                    0.101592                    0.000000  ...   \n",
       "247                    0.000000                    0.000000  ...   \n",
       "248                    0.000000                    0.000000  ...   \n",
       "249                    0.000000                    0.000000  ...   \n",
       "\n",
       "     \"['AADI', 'ACET', 'NUWE']\"  \"['AADI', 'ABCL', 'BACK']\"  \\\n",
       "0                      0.000000                    0.000000   \n",
       "1                      0.000000                    0.000000   \n",
       "2                      0.000000                    0.000000   \n",
       "3                      0.000000                    0.000000   \n",
       "4                      0.000000                    0.000000   \n",
       "..                          ...                         ...   \n",
       "245                    0.030740                    0.000000   \n",
       "246                    0.035178                   -0.530460   \n",
       "247                    0.049576                    0.000000   \n",
       "248                    0.002202                    0.364767   \n",
       "249                    0.030612                   -0.082919   \n",
       "\n",
       "     \"['AADI', 'ABVC', 'PYPD']\"  \"['AADI', 'ACET', 'KZR']\"  \\\n",
       "0                      0.000000                   0.000000   \n",
       "1                      0.000000                  -0.148983   \n",
       "2                     -0.091401                   0.219758   \n",
       "3                      0.264709                   0.107506   \n",
       "4                      0.247571                   0.143461   \n",
       "..                          ...                        ...   \n",
       "245                    0.082196                   0.054159   \n",
       "246                    0.466640                   0.028461   \n",
       "247                   -0.242854                  -0.111406   \n",
       "248                    0.311416                  -0.015370   \n",
       "249                   -0.174871                   0.083182   \n",
       "\n",
       "     \"['AADI', 'ACB', 'KZR']\"  \"['AADI', 'ACHL', 'KZR']\"  \\\n",
       "0                    0.000000                   0.000000   \n",
       "1                    0.030167                   0.036528   \n",
       "2                    0.016263                   0.065896   \n",
       "3                   -0.000598                   0.065763   \n",
       "4                    0.116244                   0.012881   \n",
       "..                        ...                        ...   \n",
       "245                  0.000000                   0.000000   \n",
       "246                  0.000000                   0.000000   \n",
       "247                 -0.051772                   0.000000   \n",
       "248                  0.000000                   0.000000   \n",
       "249                  0.000000                   0.000000   \n",
       "\n",
       "     \"['AADI', 'ABOS', 'INGN']\"  \"['AADI', 'ABEO', 'INGN']\"  \\\n",
       "0                      0.000000                         0.0   \n",
       "1                      0.157312                         0.0   \n",
       "2                      0.117065                         0.0   \n",
       "3                      0.058935                         0.0   \n",
       "4                      0.147242                         0.0   \n",
       "..                          ...                         ...   \n",
       "245                    0.000000                         0.0   \n",
       "246                    0.000000                         0.0   \n",
       "247                    0.000000                         0.0   \n",
       "248                    0.000000                         0.0   \n",
       "249                    0.000000                         0.0   \n",
       "\n",
       "     \"['AADI', 'ACHL', 'INGN']\"  \"['AADI', 'ACET', 'CARA']\"  \n",
       "0                           0.0                    0.000000  \n",
       "1                           0.0                    0.000000  \n",
       "2                           0.0                    0.000000  \n",
       "3                           0.0                    0.000000  \n",
       "4                           0.0                    0.000000  \n",
       "..                          ...                         ...  \n",
       "245                         0.0                   -0.030340  \n",
       "246                         0.0                    0.013507  \n",
       "247                         0.0                    0.074911  \n",
       "248                         0.0                   -0.053635  \n",
       "249                         0.0                   -0.007142  \n",
       "\n",
       "[250 rows x 221 columns]"
      ]
     },
     "execution_count": 13,
     "metadata": {},
     "output_type": "execute_result"
    }
   ],
   "source": [
    "#### Train add by Shihan\n",
    "import ast\n",
    "start = datetime(2023, 1, 1)\n",
    "end = datetime(2024, 7, 30)\n",
    "train_date_end = datetime(2024,1,1)\n",
    "capital = 1000000\n",
    "position = (0,0,0)\n",
    "Return_Matrix_train = pd.DataFrame()\n",
    "\n",
    "Sharpe_ratio_train = {}\n",
    "R_squared_train = {}\n",
    "\n",
    "Triplet_Selections = pd.read_csv('triplets_after_coefficient_tests_revised.csv')\n",
    "# Triplet_Selections = pd.read_excel('triplets_after_coefficient_tests_revised.csv', sheet_name='Sheet1')\n",
    "tickers_list_size=len(Triplet_Selections['tickers'])\n",
    "\n",
    "for i in range (1, tickers_list_size):\n",
    "    combinations = ast.literal_eval(Triplet_Selections['tickers'][i])\n",
    "    #print(combinations)\n",
    "    \n",
    "    df = get_multiple_stock_data(combinations, start, end)\n",
    "    df_train = df.loc[:train_date_end - relativedelta(days=1)]\n",
    "\n",
    "    capital_progress_train_1, count1, count2, count3, zcore_train_1, action, value_list_train_1, return_daily_train_1, r1_train = trade_train_zscore(df_train, capital, position)\n",
    "    #print(\"Return 1\", np.mean(return_daily_train_1))\n",
    "    #print(\"Sharpe Ratio 1\", np.mean(return_daily_train_1)/np.std(return_daily_train_1))\n",
    "    \n",
    "    column_name = f'\"{combinations}\"'\n",
    "    Return_Matrix_train[column_name] = return_daily_train_1\n",
    "    Sharpe_ratio_train[column_name] = sharpe_ratio(return_daily_train_1)\n",
    "    R_squared_train[column_name] = r1_train\n",
    "\n",
    "Return_Matrix_train"
   ]
  },
  {
   "cell_type": "markdown",
   "metadata": {},
   "source": [
    "### 2. To Look at Test R-squared"
   ]
  },
  {
   "cell_type": "code",
   "execution_count": 14,
   "metadata": {},
   "outputs": [
    {
     "name": "stderr",
     "output_type": "stream",
     "text": [
      "[*********************100%%**********************]  3 of 3 completed\n",
      "[*********************100%%**********************]  3 of 3 completed\n",
      "[*********************100%%**********************]  3 of 3 completed"
     ]
    },
    {
     "name": "stdout",
     "output_type": "stream",
     "text": [
      "R-squared:  0.8473321450070156\n",
      "alpha 84.27249694324323\n",
      "R-squared:  0.8357463754661251\n",
      "alpha 809.2576911835251\n"
     ]
    },
    {
     "name": "stderr",
     "output_type": "stream",
     "text": [
      "\n",
      "[*********************100%%**********************]  3 of 3 completed\n",
      "[*********************100%%**********************]  3 of 3 completed\n",
      "[                       0%%                      ]"
     ]
    },
    {
     "name": "stdout",
     "output_type": "stream",
     "text": [
      "R-squared:  0.36639800657786425\n",
      "alpha 2545.06799854972\n",
      "R-squared:  0.7462207143331734\n",
      "alpha 4387.005981276496\n",
      "R-squared:  0.7156297572267286\n",
      "alpha 12973.399775501059\n"
     ]
    },
    {
     "name": "stderr",
     "output_type": "stream",
     "text": [
      "[*********************100%%**********************]  3 of 3 completed\n",
      "[*********************100%%**********************]  3 of 3 completed\n",
      "[**********************67%%******                ]  2 of 3 completed"
     ]
    },
    {
     "name": "stdout",
     "output_type": "stream",
     "text": [
      "R-squared:  0.5282389640766695\n",
      "alpha 2419.6163779203653\n",
      "R-squared:  0.1715472490512624\n",
      "alpha 80.31473419389421\n"
     ]
    },
    {
     "name": "stderr",
     "output_type": "stream",
     "text": [
      "[*********************100%%**********************]  3 of 3 completed\n",
      "[*********************100%%**********************]  3 of 3 completed\n",
      "[*********************100%%**********************]  3 of 3 completed\n",
      "[                       0%%                      ]"
     ]
    },
    {
     "name": "stdout",
     "output_type": "stream",
     "text": [
      "R-squared:  0.8718649766189422\n",
      "alpha 24763.89026271643\n",
      "R-squared:  0.7885599317122677\n",
      "alpha 1055.8302548173567\n",
      "R-squared:  0.6387134982890015\n",
      "alpha 686.8848355684329\n"
     ]
    },
    {
     "name": "stderr",
     "output_type": "stream",
     "text": [
      "[*********************100%%**********************]  3 of 3 completed\n",
      "[*********************100%%**********************]  3 of 3 completed\n",
      "[                       0%%                      ]"
     ]
    },
    {
     "name": "stdout",
     "output_type": "stream",
     "text": [
      "R-squared:  0.033112210771391815\n",
      "alpha 1085.2786663852862\n",
      "R-squared:  0.07777387610531095\n",
      "alpha 24.446789878058066\n"
     ]
    },
    {
     "name": "stderr",
     "output_type": "stream",
     "text": [
      "[*********************100%%**********************]  3 of 3 completed\n",
      "[*********************100%%**********************]  3 of 3 completed\n",
      "[*********************100%%**********************]  3 of 3 completed"
     ]
    },
    {
     "name": "stdout",
     "output_type": "stream",
     "text": [
      "R-squared:  0.12354843207173627\n",
      "alpha 40.464148106239584\n",
      "R-squared:  0.3380145080592284\n",
      "alpha 23.36295329868883\n",
      "R-squared:  0.6345006697420478\n",
      "alpha 100.82089073514548\n"
     ]
    },
    {
     "name": "stderr",
     "output_type": "stream",
     "text": [
      "\n",
      "[*********************100%%**********************]  3 of 3 completed\n",
      "[*********************100%%**********************]  3 of 3 completed\n",
      "[*********************100%%**********************]  3 of 3 completed"
     ]
    },
    {
     "name": "stdout",
     "output_type": "stream",
     "text": [
      "R-squared:  0.11478927213182977\n",
      "alpha 444.2177926872158\n",
      "R-squared:  0.08989708550065978\n",
      "alpha 1154.2770236986928\n",
      "R-squared:  0.4515400632847242\n"
     ]
    },
    {
     "name": "stderr",
     "output_type": "stream",
     "text": [
      "\n",
      "[*********************100%%**********************]  3 of 3 completed\n",
      "[*********************100%%**********************]  3 of 3 completed\n",
      "[                       0%%                      ]"
     ]
    },
    {
     "name": "stdout",
     "output_type": "stream",
     "text": [
      "alpha 1021.6739386197778\n",
      "R-squared:  0.7275163743185451\n",
      "alpha 375.9982126459866\n",
      "R-squared:  0.02668263438195917\n",
      "alpha 21.336225845011413\n"
     ]
    },
    {
     "name": "stderr",
     "output_type": "stream",
     "text": [
      "[*********************100%%**********************]  3 of 3 completed\n",
      "[*********************100%%**********************]  3 of 3 completed\n",
      "[*********************100%%**********************]  3 of 3 completed\n",
      "[                       0%%                      ]"
     ]
    },
    {
     "name": "stdout",
     "output_type": "stream",
     "text": [
      "R-squared:  0.7786512883247447\n",
      "alpha 85461.01619707204\n",
      "R-squared:  0.7864319495223402\n",
      "alpha 7659.100626319083\n",
      "R-squared:  0.7720821128501596\n",
      "alpha 12877.128174289883\n"
     ]
    },
    {
     "name": "stderr",
     "output_type": "stream",
     "text": [
      "[*********************100%%**********************]  3 of 3 completed\n",
      "[*********************100%%**********************]  3 of 3 completed\n",
      "[*********************100%%**********************]  3 of 3 completed\n",
      "[                       0%%                      ]"
     ]
    },
    {
     "name": "stdout",
     "output_type": "stream",
     "text": [
      "R-squared:  0.8023636580516169\n",
      "alpha 2611.8935381960214\n",
      "R-squared:  0.14178989100034556\n",
      "alpha 66.2442849778955\n",
      "R-squared:  0.3117679169338581\n",
      "alpha 39.91059326591382\n"
     ]
    },
    {
     "name": "stderr",
     "output_type": "stream",
     "text": [
      "[*********************100%%**********************]  3 of 3 completed\n",
      "[*********************100%%**********************]  3 of 3 completed\n",
      "[*********************100%%**********************]  3 of 3 completed"
     ]
    },
    {
     "name": "stdout",
     "output_type": "stream",
     "text": [
      "R-squared:  0.7700298517951979\n",
      "alpha 3481.474807832314\n",
      "R-squared:  0.8718003615169354\n",
      "alpha 5971.48266017627\n",
      "R-squared:  0.7900266363249389\n",
      "alpha 3811.189525141045\n"
     ]
    },
    {
     "name": "stderr",
     "output_type": "stream",
     "text": [
      "\n",
      "[*********************100%%**********************]  3 of 3 completed\n",
      "[*********************100%%**********************]  3 of 3 completed"
     ]
    },
    {
     "name": "stdout",
     "output_type": "stream",
     "text": [
      "R-squared:  0.6279245949036616\n",
      "alpha 3220.4697598141997\n",
      "R-squared:  0.8112276881973323\n",
      "alpha 7542.021212857562\n"
     ]
    },
    {
     "name": "stderr",
     "output_type": "stream",
     "text": [
      "\n",
      "[*********************100%%**********************]  3 of 3 completed\n",
      "[*********************100%%**********************]  3 of 3 completed\n",
      "[*********************100%%**********************]  3 of 3 completed\n"
     ]
    },
    {
     "name": "stdout",
     "output_type": "stream",
     "text": [
      "R-squared:  0.7859775798221446\n",
      "alpha 4013.907244445459\n",
      "R-squared:  0.8104627500389892\n",
      "alpha 2036.7007234565278\n",
      "R-squared:  0.6353496573260404\n",
      "alpha 6501.937933215709\n"
     ]
    },
    {
     "name": "stderr",
     "output_type": "stream",
     "text": [
      "[*********************100%%**********************]  3 of 3 completed\n",
      "[*********************100%%**********************]  3 of 3 completed\n",
      "[*********************100%%**********************]  3 of 3 completed"
     ]
    },
    {
     "name": "stdout",
     "output_type": "stream",
     "text": [
      "R-squared:  0.9251718660707853\n",
      "alpha 2929.463509849416\n",
      "R-squared:  0.5511315980974554\n",
      "alpha 7359.557028301255\n"
     ]
    },
    {
     "name": "stderr",
     "output_type": "stream",
     "text": [
      "\n",
      "[*********************100%%**********************]  3 of 3 completed\n",
      "[*********************100%%**********************]  3 of 3 completed\n"
     ]
    },
    {
     "name": "stdout",
     "output_type": "stream",
     "text": [
      "R-squared:  0.7832397478122268\n",
      "alpha 641.3918175664194\n",
      "R-squared:  0.9303968833956763\n",
      "alpha 6137.038130768987\n",
      "R-squared:  0.8468244689832125\n",
      "alpha 907.866912973518\n"
     ]
    },
    {
     "name": "stderr",
     "output_type": "stream",
     "text": [
      "[*********************100%%**********************]  3 of 3 completed\n",
      "[*********************100%%**********************]  3 of 3 completed\n",
      "[*********************100%%**********************]  3 of 3 completed\n",
      "[                       0%%                      ]"
     ]
    },
    {
     "name": "stdout",
     "output_type": "stream",
     "text": [
      "R-squared:  0.5770595989251532\n",
      "alpha 355.11412911145237\n",
      "R-squared:  0.9408059358266601\n",
      "alpha 7478.218282572379\n",
      "R-squared:  0.8596606405859472\n",
      "alpha 1789.843947144695\n"
     ]
    },
    {
     "name": "stderr",
     "output_type": "stream",
     "text": [
      "[*********************100%%**********************]  3 of 3 completed\n",
      "[*********************100%%**********************]  3 of 3 completed\n",
      "[**********************67%%******                ]  2 of 3 completed"
     ]
    },
    {
     "name": "stdout",
     "output_type": "stream",
     "text": [
      "R-squared:  0.5725852054464831\n",
      "alpha 1637.2914882072864\n",
      "R-squared:  0.04050008137403205\n",
      "alpha 1087.304438181296\n"
     ]
    },
    {
     "name": "stderr",
     "output_type": "stream",
     "text": [
      "[*********************100%%**********************]  3 of 3 completed\n",
      "[*********************100%%**********************]  3 of 3 completed\n",
      "[**********************67%%******                ]  2 of 3 completed"
     ]
    },
    {
     "name": "stdout",
     "output_type": "stream",
     "text": [
      "R-squared:  0.6767970767311713\n",
      "alpha 296.26942787645606\n",
      "R-squared:  0.8796106034231801\n",
      "alpha 725.3967432447638\n"
     ]
    },
    {
     "name": "stderr",
     "output_type": "stream",
     "text": [
      "[*********************100%%**********************]  3 of 3 completed\n",
      "[*********************100%%**********************]  3 of 3 completed\n",
      "[*********************100%%**********************]  3 of 3 completed\n",
      "[                       0%%                      ]"
     ]
    },
    {
     "name": "stdout",
     "output_type": "stream",
     "text": [
      "R-squared:  0.8997032086256189\n",
      "alpha 3351.2723186056332\n",
      "R-squared:  0.8803312697823966\n",
      "alpha 9121.492632259895\n",
      "R-squared:  0.7977221090057303\n",
      "alpha 229.420410461722\n"
     ]
    },
    {
     "name": "stderr",
     "output_type": "stream",
     "text": [
      "[*********************100%%**********************]  3 of 3 completed\n",
      "[*********************100%%**********************]  3 of 3 completed\n",
      "[**********************67%%******                ]  2 of 3 completed"
     ]
    },
    {
     "name": "stdout",
     "output_type": "stream",
     "text": [
      "R-squared:  0.9193893241962555\n",
      "alpha 1982.3268675244922\n",
      "R-squared:  0.9048624720382835\n",
      "alpha 2154.2277722797116\n"
     ]
    },
    {
     "name": "stderr",
     "output_type": "stream",
     "text": [
      "[*********************100%%**********************]  3 of 3 completed\n",
      "[*********************100%%**********************]  3 of 3 completed\n",
      "[**********************67%%******                ]  2 of 3 completed"
     ]
    },
    {
     "name": "stdout",
     "output_type": "stream",
     "text": [
      "R-squared:  0.877209577811943\n",
      "alpha 481.44905839668746\n",
      "R-squared:  0.914653995495021\n",
      "alpha 1963.65920350482\n"
     ]
    },
    {
     "name": "stderr",
     "output_type": "stream",
     "text": [
      "[*********************100%%**********************]  3 of 3 completed\n",
      "[*********************100%%**********************]  3 of 3 completed\n",
      "[                       0%%                      ]"
     ]
    },
    {
     "name": "stdout",
     "output_type": "stream",
     "text": [
      "R-squared:  0.858945836965363\n",
      "alpha 2275.3850555928852\n",
      "R-squared:  0.771794537486986\n",
      "alpha 505.2056990418361\n"
     ]
    },
    {
     "name": "stderr",
     "output_type": "stream",
     "text": [
      "[*********************100%%**********************]  3 of 3 completed\n",
      "[*********************100%%**********************]  3 of 3 completed\n",
      "[**********************67%%******                ]  2 of 3 completed"
     ]
    },
    {
     "name": "stdout",
     "output_type": "stream",
     "text": [
      "R-squared:  0.8675006013603976\n",
      "alpha 760.7497477596481\n",
      "R-squared:  0.7806006203752114\n",
      "alpha 697.4262943486434\n"
     ]
    },
    {
     "name": "stderr",
     "output_type": "stream",
     "text": [
      "[*********************100%%**********************]  3 of 3 completed\n",
      "[*********************100%%**********************]  3 of 3 completed\n",
      "[*********************100%%**********************]  3 of 3 completed"
     ]
    },
    {
     "name": "stdout",
     "output_type": "stream",
     "text": [
      "R-squared:  0.7059444841810931\n",
      "alpha 328.0849279644845\n",
      "R-squared:  0.7151377345771428\n",
      "alpha 5189.014389894618\n"
     ]
    },
    {
     "name": "stderr",
     "output_type": "stream",
     "text": [
      "\n",
      "[*********************100%%**********************]  3 of 3 completed\n",
      "[**********************67%%******                ]  2 of 3 completed"
     ]
    },
    {
     "name": "stdout",
     "output_type": "stream",
     "text": [
      "R-squared:  0.8210987838645134\n",
      "alpha 1043.4240151891413\n",
      "R-squared:  0.7770455532200442\n",
      "alpha 333.21739902772856\n"
     ]
    },
    {
     "name": "stderr",
     "output_type": "stream",
     "text": [
      "[*********************100%%**********************]  3 of 3 completed\n",
      "[*********************100%%**********************]  3 of 3 completed\n",
      "[*********************100%%**********************]  3 of 3 completed\n",
      "[                       0%%                      ]"
     ]
    },
    {
     "name": "stdout",
     "output_type": "stream",
     "text": [
      "R-squared:  0.8855202056722888\n",
      "alpha 1497.2251091664189\n",
      "R-squared:  0.9110198223150878\n",
      "alpha 1009.1774983697421\n",
      "R-squared:  0.9294764739342161\n",
      "alpha 2530.0229621460862\n"
     ]
    },
    {
     "name": "stderr",
     "output_type": "stream",
     "text": [
      "[*********************100%%**********************]  3 of 3 completed\n",
      "[*********************100%%**********************]  3 of 3 completed\n",
      "[*********************100%%**********************]  3 of 3 completed"
     ]
    },
    {
     "name": "stdout",
     "output_type": "stream",
     "text": [
      "R-squared:  0.9059860069433361\n",
      "alpha 4958.842655865619\n",
      "R-squared:  0.8558865056276506\n",
      "alpha 661.1381339067353\n"
     ]
    },
    {
     "name": "stderr",
     "output_type": "stream",
     "text": [
      "\n",
      "[*********************100%%**********************]  3 of 3 completed\n",
      "[*********************100%%**********************]  3 of 3 completed\n",
      "[**********************67%%******                ]  2 of 3 completed"
     ]
    },
    {
     "name": "stdout",
     "output_type": "stream",
     "text": [
      "R-squared:  0.8225400117192407\n",
      "alpha 593.6658612285646\n",
      "R-squared:  0.8915871783276889\n",
      "alpha 783.7061854420085\n",
      "R-squared:  0.9104339467189314\n",
      "alpha 1178.3420761627729\n"
     ]
    },
    {
     "name": "stderr",
     "output_type": "stream",
     "text": [
      "[*********************100%%**********************]  3 of 3 completed\n",
      "[*********************100%%**********************]  3 of 3 completed\n",
      "[**********************67%%******                ]  2 of 3 completed"
     ]
    },
    {
     "name": "stdout",
     "output_type": "stream",
     "text": [
      "R-squared:  0.8930339734509387\n",
      "alpha 461.60919753862595\n",
      "R-squared:  0.8918953364912202\n",
      "alpha 881.324067823541\n"
     ]
    },
    {
     "name": "stderr",
     "output_type": "stream",
     "text": [
      "[*********************100%%**********************]  3 of 3 completed\n",
      "[*********************100%%**********************]  3 of 3 completed\n",
      "[                       0%%                      ]"
     ]
    },
    {
     "name": "stdout",
     "output_type": "stream",
     "text": [
      "R-squared:  0.8354000217981075\n",
      "alpha 363.71873131729166\n",
      "R-squared:  0.8774852640992294\n",
      "alpha 939.1251521914296\n"
     ]
    },
    {
     "name": "stderr",
     "output_type": "stream",
     "text": [
      "[*********************100%%**********************]  3 of 3 completed\n",
      "[*********************100%%**********************]  3 of 3 completed\n",
      "[*********************100%%**********************]  3 of 3 completed"
     ]
    },
    {
     "name": "stdout",
     "output_type": "stream",
     "text": [
      "R-squared:  0.68696274189877\n",
      "alpha 314.09205563732314\n",
      "R-squared:  0.9491257163798158\n",
      "alpha 2859.809452677906\n"
     ]
    },
    {
     "name": "stderr",
     "output_type": "stream",
     "text": [
      "\n",
      "[*********************100%%**********************]  3 of 3 completed\n",
      "[                       0%%                      ]"
     ]
    },
    {
     "name": "stdout",
     "output_type": "stream",
     "text": [
      "R-squared:  0.89178272678383\n",
      "alpha 993.801189043937\n",
      "R-squared:  0.7540728962897065\n",
      "alpha 387.97965714194106\n"
     ]
    },
    {
     "name": "stderr",
     "output_type": "stream",
     "text": [
      "[*********************100%%**********************]  3 of 3 completed\n",
      "[*********************100%%**********************]  3 of 3 completed\n"
     ]
    },
    {
     "name": "stdout",
     "output_type": "stream",
     "text": [
      "R-squared:  0.7574393060849347\n",
      "alpha 382.0244356581435\n",
      "R-squared:  0.7250167684170014\n",
      "alpha 2650.1815171426483\n"
     ]
    },
    {
     "name": "stderr",
     "output_type": "stream",
     "text": [
      "[*********************100%%**********************]  3 of 3 completed\n",
      "[*********************100%%**********************]  3 of 3 completed\n",
      "[**********************67%%******                ]  2 of 3 completed"
     ]
    },
    {
     "name": "stdout",
     "output_type": "stream",
     "text": [
      "R-squared:  0.8677426557991831\n",
      "alpha 104942.13791554724\n",
      "R-squared:  0.8877594808926181\n",
      "alpha 2017.7241467722429\n"
     ]
    },
    {
     "name": "stderr",
     "output_type": "stream",
     "text": [
      "[*********************100%%**********************]  3 of 3 completed\n",
      "[*********************100%%**********************]  3 of 3 completed\n",
      "[**********************67%%******                ]  2 of 3 completed"
     ]
    },
    {
     "name": "stdout",
     "output_type": "stream",
     "text": [
      "R-squared:  0.7473068544888775\n",
      "alpha 612.009885017698\n",
      "R-squared:  0.7928616151560652\n",
      "alpha 1062.8344548066316\n"
     ]
    },
    {
     "name": "stderr",
     "output_type": "stream",
     "text": [
      "[*********************100%%**********************]  3 of 3 completed\n",
      "[*********************100%%**********************]  3 of 3 completed\n",
      "[**********************67%%******                ]  2 of 3 completed"
     ]
    },
    {
     "name": "stdout",
     "output_type": "stream",
     "text": [
      "R-squared:  0.9516216876790967\n",
      "alpha 1338.2992453878917\n",
      "R-squared:  0.7894071026795618\n",
      "alpha 586.0444845653317\n"
     ]
    },
    {
     "name": "stderr",
     "output_type": "stream",
     "text": [
      "[*********************100%%**********************]  3 of 3 completed\n",
      "[*********************100%%**********************]  3 of 3 completed\n",
      "[*********************100%%**********************]  3 of 3 completed\n"
     ]
    },
    {
     "name": "stdout",
     "output_type": "stream",
     "text": [
      "R-squared:  0.7294045541864778\n",
      "alpha 111.68935317996615\n",
      "R-squared:  0.9478898922013532\n",
      "alpha 1873.8008415993736\n",
      "R-squared:  0.8324552307382989\n",
      "alpha 1228.744166409366\n"
     ]
    },
    {
     "name": "stderr",
     "output_type": "stream",
     "text": [
      "[*********************100%%**********************]  3 of 3 completed\n",
      "[*********************100%%**********************]  3 of 3 completed\n",
      "[                       0%%                      ]"
     ]
    },
    {
     "name": "stdout",
     "output_type": "stream",
     "text": [
      "R-squared:  0.8487337359845069\n",
      "alpha 594.2456768034484\n",
      "R-squared:  0.7349933771947188\n",
      "alpha 468.99789710412745\n"
     ]
    },
    {
     "name": "stderr",
     "output_type": "stream",
     "text": [
      "[*********************100%%**********************]  3 of 3 completed\n",
      "[*********************100%%**********************]  3 of 3 completed\n",
      "[**********************67%%******                ]  2 of 3 completed"
     ]
    },
    {
     "name": "stdout",
     "output_type": "stream",
     "text": [
      "R-squared:  0.6433082799529728\n",
      "alpha 244.00830435278195\n",
      "R-squared:  0.8840306913618619\n",
      "alpha 1096.9669927558014\n"
     ]
    },
    {
     "name": "stderr",
     "output_type": "stream",
     "text": [
      "[*********************100%%**********************]  3 of 3 completed\n",
      "[*********************100%%**********************]  3 of 3 completed\n",
      "[*********************100%%**********************]  3 of 3 completed\n",
      "[                       0%%                      ]"
     ]
    },
    {
     "name": "stdout",
     "output_type": "stream",
     "text": [
      "R-squared:  0.878052624900452\n",
      "alpha 590.7732189292016\n",
      "R-squared:  0.8781057494850957\n",
      "alpha 3910.9378885987358\n",
      "R-squared:  0.7675630803984856\n",
      "alpha 252.617651477222\n"
     ]
    },
    {
     "name": "stderr",
     "output_type": "stream",
     "text": [
      "[*********************100%%**********************]  3 of 3 completed\n",
      "[*********************100%%**********************]  3 of 3 completed\n",
      "[**********************67%%******                ]  2 of 3 completed"
     ]
    },
    {
     "name": "stdout",
     "output_type": "stream",
     "text": [
      "R-squared:  0.9174763327472164\n",
      "alpha 544.7380730139048\n",
      "R-squared:  0.8340043580213357\n",
      "alpha 289.9541458101925\n"
     ]
    },
    {
     "name": "stderr",
     "output_type": "stream",
     "text": [
      "[*********************100%%**********************]  3 of 3 completed\n",
      "[*********************100%%**********************]  3 of 3 completed\n",
      "[*********************100%%**********************]  3 of 3 completed"
     ]
    },
    {
     "name": "stdout",
     "output_type": "stream",
     "text": [
      "R-squared:  0.9084515419693542\n",
      "alpha 328.0212235800329\n",
      "R-squared:  0.534938591751428\n",
      "alpha 3181.7356000348605\n"
     ]
    },
    {
     "name": "stderr",
     "output_type": "stream",
     "text": [
      "\n",
      "[*********************100%%**********************]  3 of 3 completed\n",
      "[*********************100%%**********************]  3 of 3 completed\n",
      "[*********************100%%**********************]  3 of 3 completed"
     ]
    },
    {
     "name": "stdout",
     "output_type": "stream",
     "text": [
      "R-squared:  0.86234466493052\n",
      "alpha 204.70781258349595\n",
      "R-squared:  0.846129296079249\n",
      "alpha 3873.600973605838\n",
      "R-squared:  0.5633082679654375\n",
      "alpha 639.2640816587254\n"
     ]
    },
    {
     "name": "stderr",
     "output_type": "stream",
     "text": [
      "\n",
      "[*********************100%%**********************]  3 of 3 completed\n",
      "[**********************67%%******                ]  2 of 3 completed"
     ]
    },
    {
     "name": "stdout",
     "output_type": "stream",
     "text": [
      "R-squared:  0.8145913503197787\n",
      "alpha 428.99414491966195\n",
      "R-squared:  0.8440393332031709\n",
      "alpha 1375.6727996768466\n"
     ]
    },
    {
     "name": "stderr",
     "output_type": "stream",
     "text": [
      "[*********************100%%**********************]  3 of 3 completed\n",
      "[*********************100%%**********************]  3 of 3 completed\n",
      "[*********************100%%**********************]  3 of 3 completed\n"
     ]
    },
    {
     "name": "stdout",
     "output_type": "stream",
     "text": [
      "R-squared:  0.7816643321508081\n",
      "alpha 1452.1348996162976\n",
      "R-squared:  0.7255071544237255\n",
      "alpha 203.35963618692932\n",
      "R-squared:  0.6062329377830985\n",
      "alpha 422.9165842684242\n"
     ]
    },
    {
     "name": "stderr",
     "output_type": "stream",
     "text": [
      "[*********************100%%**********************]  3 of 3 completed\n",
      "[*********************100%%**********************]  3 of 3 completed\n",
      "[*********************100%%**********************]  3 of 3 completed\n",
      "[                       0%%                      ]"
     ]
    },
    {
     "name": "stdout",
     "output_type": "stream",
     "text": [
      "R-squared:  0.8619650047232152\n",
      "alpha 1376.7491504438742\n",
      "R-squared:  0.8898372320254563\n",
      "alpha 1118.1188426710085\n",
      "R-squared:  0.504422712040331\n",
      "alpha 492.04864379497116\n"
     ]
    },
    {
     "name": "stderr",
     "output_type": "stream",
     "text": [
      "[*********************100%%**********************]  3 of 3 completed\n",
      "[*********************100%%**********************]  3 of 3 completed\n",
      "[                       0%%                      ]"
     ]
    },
    {
     "name": "stdout",
     "output_type": "stream",
     "text": [
      "R-squared:  0.2160591217542327\n",
      "alpha 293680.8902969512\n",
      "R-squared:  0.881360254611059\n",
      "alpha 293.20123319414773\n"
     ]
    },
    {
     "name": "stderr",
     "output_type": "stream",
     "text": [
      "[*********************100%%**********************]  3 of 3 completed\n",
      "[*********************100%%**********************]  3 of 3 completed\n",
      "[                       0%%                      ]"
     ]
    },
    {
     "name": "stdout",
     "output_type": "stream",
     "text": [
      "R-squared:  0.3367459849458335\n",
      "alpha 3103.2943136333347\n",
      "R-squared:  0.8243250604404354\n",
      "alpha 1157.9940356894915\n"
     ]
    },
    {
     "name": "stderr",
     "output_type": "stream",
     "text": [
      "[*********************100%%**********************]  3 of 3 completed\n",
      "[*********************100%%**********************]  3 of 3 completed\n"
     ]
    },
    {
     "name": "stdout",
     "output_type": "stream",
     "text": [
      "R-squared:  0.7550565529127458\n",
      "alpha 1743.424951619403\n",
      "R-squared:  0.8564263204170209\n",
      "alpha 940.8269603243373\n"
     ]
    },
    {
     "name": "stderr",
     "output_type": "stream",
     "text": [
      "[*********************100%%**********************]  3 of 3 completed\n",
      "[*********************100%%**********************]  3 of 3 completed\n",
      "[                       0%%                      ]"
     ]
    },
    {
     "name": "stdout",
     "output_type": "stream",
     "text": [
      "R-squared:  0.8730947331104746\n",
      "alpha 3695.7208995274764\n",
      "R-squared:  0.7587065254253099\n",
      "alpha 1695.0486083586864\n"
     ]
    },
    {
     "name": "stderr",
     "output_type": "stream",
     "text": [
      "[*********************100%%**********************]  3 of 3 completed\n",
      "[*********************100%%**********************]  3 of 3 completed\n",
      "[                       0%%                      ]"
     ]
    },
    {
     "name": "stdout",
     "output_type": "stream",
     "text": [
      "R-squared:  0.7158141531078264\n",
      "alpha 149.82945747559663\n",
      "R-squared:  0.9164383556658164\n",
      "alpha 27929.646148475615\n"
     ]
    },
    {
     "name": "stderr",
     "output_type": "stream",
     "text": [
      "[*********************100%%**********************]  3 of 3 completed\n",
      "[*********************100%%**********************]  3 of 3 completed\n",
      "[                       0%%                      ]"
     ]
    },
    {
     "name": "stdout",
     "output_type": "stream",
     "text": [
      "R-squared:  0.49321275915768814\n",
      "alpha 16696.048495624873\n",
      "R-squared:  0.7060209664252254\n",
      "alpha 6646.534984292653\n"
     ]
    },
    {
     "name": "stderr",
     "output_type": "stream",
     "text": [
      "[*********************100%%**********************]  3 of 3 completed\n",
      "[*********************100%%**********************]  3 of 3 completed\n",
      "[*********************100%%**********************]  3 of 3 completed"
     ]
    },
    {
     "name": "stdout",
     "output_type": "stream",
     "text": [
      "R-squared:  0.4227277523691414\n",
      "alpha 17052.614191213383\n",
      "R-squared:  0.4751939556943847\n",
      "alpha 42064.878402119386\n"
     ]
    },
    {
     "name": "stderr",
     "output_type": "stream",
     "text": [
      "\n",
      "[*********************100%%**********************]  3 of 3 completed\n",
      "[*********************100%%**********************]  3 of 3 completed\n",
      "[                       0%%                      ]"
     ]
    },
    {
     "name": "stdout",
     "output_type": "stream",
     "text": [
      "R-squared:  0.45304085621806645\n",
      "alpha 7504.99885206861\n",
      "R-squared:  0.5833927228514799\n",
      "alpha 1047.1790575289458\n",
      "R-squared:  0.7693657371415934\n",
      "alpha 88684.96191352917\n"
     ]
    },
    {
     "name": "stderr",
     "output_type": "stream",
     "text": [
      "[*********************100%%**********************]  3 of 3 completed\n",
      "[*********************100%%**********************]  3 of 3 completed\n",
      "[*********************100%%**********************]  3 of 3 completed"
     ]
    },
    {
     "name": "stdout",
     "output_type": "stream",
     "text": [
      "R-squared:  0.5784604358612269\n",
      "alpha 43748.75708053299\n",
      "R-squared:  0.8077614660985752\n",
      "alpha 19136.406581329797\n",
      "R-squared:  0.8384212949417389\n",
      "alpha 14655.153569085287\n"
     ]
    },
    {
     "name": "stderr",
     "output_type": "stream",
     "text": [
      "\n",
      "[*********************100%%**********************]  3 of 3 completed\n",
      "[*********************100%%**********************]  3 of 3 completed\n",
      "[*********************100%%**********************]  3 of 3 completed"
     ]
    },
    {
     "name": "stdout",
     "output_type": "stream",
     "text": [
      "R-squared:  0.869724356499787\n",
      "alpha 10477.359179496598\n",
      "R-squared:  0.6153190061964415\n",
      "alpha 729.6557226988324\n"
     ]
    },
    {
     "name": "stderr",
     "output_type": "stream",
     "text": [
      "\n",
      "[*********************100%%**********************]  3 of 3 completed\n",
      "[*********************100%%**********************]  3 of 3 completed\n",
      "[                       0%%                      ]"
     ]
    },
    {
     "name": "stdout",
     "output_type": "stream",
     "text": [
      "R-squared:  0.8720472382108349\n",
      "alpha 5011.3398568734165\n",
      "R-squared:  0.6416062216905029\n",
      "alpha 65789.72139746686\n",
      "R-squared:  0.428756048573973\n",
      "alpha 4125.804376255652\n"
     ]
    },
    {
     "name": "stderr",
     "output_type": "stream",
     "text": [
      "[*********************100%%**********************]  3 of 3 completed\n",
      "[*********************100%%**********************]  3 of 3 completed\n",
      "[*********************100%%**********************]  3 of 3 completed\n",
      "[**********************67%%******                ]  2 of 3 completed"
     ]
    },
    {
     "name": "stdout",
     "output_type": "stream",
     "text": [
      "R-squared:  0.6131581359220225\n",
      "alpha 375273.9667448148\n",
      "R-squared:  0.7958227333965063\n",
      "alpha 20276.460789655524\n",
      "R-squared:  0.2903756229683514\n",
      "alpha 17863.409022451026\n"
     ]
    },
    {
     "name": "stderr",
     "output_type": "stream",
     "text": [
      "[*********************100%%**********************]  3 of 3 completed\n",
      "[*********************100%%**********************]  3 of 3 completed\n",
      "[*********************100%%**********************]  3 of 3 completed\n",
      "[**********************67%%******                ]  2 of 3 completed"
     ]
    },
    {
     "name": "stdout",
     "output_type": "stream",
     "text": [
      "R-squared:  0.370646047771368\n",
      "alpha 25344.533471870476\n",
      "R-squared:  0.7708087771074943\n",
      "alpha 11570.421159546586\n",
      "R-squared:  0.2612171533180764\n",
      "alpha 51083.77036559541\n"
     ]
    },
    {
     "name": "stderr",
     "output_type": "stream",
     "text": [
      "[*********************100%%**********************]  3 of 3 completed\n",
      "[*********************100%%**********************]  3 of 3 completed\n",
      "[*********************100%%**********************]  3 of 3 completed\n",
      "[                       0%%                      ]"
     ]
    },
    {
     "name": "stdout",
     "output_type": "stream",
     "text": [
      "R-squared:  0.7657624143549351\n",
      "alpha 6643.671427833179\n",
      "R-squared:  0.17613736801543145\n",
      "alpha 119293.09527756173\n",
      "R-squared:  0.24884634151013807\n",
      "alpha 96216.89895819349\n"
     ]
    },
    {
     "name": "stderr",
     "output_type": "stream",
     "text": [
      "[*********************100%%**********************]  3 of 3 completed\n",
      "[*********************100%%**********************]  3 of 3 completed\n",
      "[*********************100%%**********************]  3 of 3 completed\n",
      "[**********************67%%******                ]  2 of 3 completed"
     ]
    },
    {
     "name": "stdout",
     "output_type": "stream",
     "text": [
      "R-squared:  0.5529181328902356\n",
      "alpha 4662.819213272272\n",
      "R-squared:  0.4010309369721994\n",
      "alpha 2238.9199998203217\n",
      "R-squared:  0.6738827501487954\n",
      "alpha 1604.3205826011972\n"
     ]
    },
    {
     "name": "stderr",
     "output_type": "stream",
     "text": [
      "[*********************100%%**********************]  3 of 3 completed\n",
      "[*********************100%%**********************]  3 of 3 completed\n",
      "[*********************100%%**********************]  3 of 3 completed\n",
      "[*********************100%%**********************]  3 of 3 completed\n"
     ]
    },
    {
     "name": "stdout",
     "output_type": "stream",
     "text": [
      "R-squared:  0.46164098195442504\n",
      "alpha 8858.221789250572\n",
      "R-squared:  0.47340478317053847\n",
      "alpha 20472.86276458782\n",
      "R-squared:  0.45950510741573636\n",
      "alpha 1710.9340494822036\n"
     ]
    },
    {
     "name": "stderr",
     "output_type": "stream",
     "text": [
      "[*********************100%%**********************]  3 of 3 completed\n",
      "[*********************100%%**********************]  3 of 3 completed\n",
      "[*********************100%%**********************]  3 of 3 completed"
     ]
    },
    {
     "name": "stdout",
     "output_type": "stream",
     "text": [
      "R-squared:  0.023601250646597127\n",
      "alpha 10143.884250796978\n",
      "R-squared:  0.8720800336165543\n",
      "alpha 1483.6454460386456\n",
      "R-squared:  0.16757978772856386\n",
      "alpha 1277.8650984440962\n"
     ]
    },
    {
     "name": "stderr",
     "output_type": "stream",
     "text": [
      "\n",
      "[*********************100%%**********************]  3 of 3 completed\n",
      "[*********************100%%**********************]  3 of 3 completed\n"
     ]
    },
    {
     "name": "stdout",
     "output_type": "stream",
     "text": [
      "R-squared:  0.5827527107819631\n",
      "alpha 3420.456632609101\n",
      "R-squared:  0.3161918933137038\n",
      "alpha 6647.64816629709\n",
      "R-squared:  0.12357269602501186\n",
      "alpha 963.527988661896\n"
     ]
    },
    {
     "name": "stderr",
     "output_type": "stream",
     "text": [
      "[*********************100%%**********************]  3 of 3 completed\n",
      "[*********************100%%**********************]  3 of 3 completed\n"
     ]
    },
    {
     "name": "stdout",
     "output_type": "stream",
     "text": [
      "R-squared:  0.12979782831444564\n",
      "alpha 901.6827518217309\n",
      "R-squared:  0.01556716182590423\n",
      "alpha 687.2648102677673\n"
     ]
    },
    {
     "name": "stderr",
     "output_type": "stream",
     "text": [
      "[*********************100%%**********************]  3 of 3 completed\n",
      "[*********************100%%**********************]  3 of 3 completed\n",
      "[                       0%%                      ]"
     ]
    },
    {
     "name": "stdout",
     "output_type": "stream",
     "text": [
      "R-squared:  0.2512174415783567\n",
      "alpha 86796.58420419009\n",
      "R-squared:  0.570293013872851\n",
      "alpha 50600.2682615914\n"
     ]
    },
    {
     "name": "stderr",
     "output_type": "stream",
     "text": [
      "[*********************100%%**********************]  3 of 3 completed\n",
      "[*********************100%%**********************]  3 of 3 completed\n",
      "[*********************100%%**********************]  3 of 3 completed\n",
      "[                       0%%                      ]"
     ]
    },
    {
     "name": "stdout",
     "output_type": "stream",
     "text": [
      "R-squared:  0.5293814078983045\n",
      "alpha 4751.1939188335145\n",
      "R-squared:  0.3760114999687516\n",
      "alpha 34860.89253537331\n",
      "R-squared:  0.3531874650857647\n",
      "alpha 5002.421989375151\n"
     ]
    },
    {
     "name": "stderr",
     "output_type": "stream",
     "text": [
      "[*********************100%%**********************]  3 of 3 completed\n",
      "[*********************100%%**********************]  3 of 3 completed\n",
      "[*********************100%%**********************]  3 of 3 completed\n",
      "[**********************67%%******                ]  2 of 3 completed"
     ]
    },
    {
     "name": "stdout",
     "output_type": "stream",
     "text": [
      "R-squared:  0.256497730405403\n",
      "alpha 3511.819385359353\n",
      "R-squared:  0.23835548369954884\n",
      "alpha 759.1342101871743\n",
      "R-squared:  0.5968208837956553\n",
      "alpha 4745.990896726746\n"
     ]
    },
    {
     "name": "stderr",
     "output_type": "stream",
     "text": [
      "[*********************100%%**********************]  3 of 3 completed\n",
      "[*********************100%%**********************]  3 of 3 completed\n",
      "[*********************100%%**********************]  3 of 3 completed\n",
      "[**********************67%%******                ]  2 of 3 completed"
     ]
    },
    {
     "name": "stdout",
     "output_type": "stream",
     "text": [
      "R-squared:  0.253830721302422\n",
      "alpha 2539.31605651887\n",
      "R-squared:  0.6405696279373453\n",
      "alpha 5733.753962877989\n",
      "R-squared:  0.7817472065432771\n",
      "alpha 8181.518699896267\n"
     ]
    },
    {
     "name": "stderr",
     "output_type": "stream",
     "text": [
      "[*********************100%%**********************]  3 of 3 completed\n",
      "[*********************100%%**********************]  3 of 3 completed\n",
      "[*********************100%%**********************]  3 of 3 completed\n",
      "[                       0%%                      ]"
     ]
    },
    {
     "name": "stdout",
     "output_type": "stream",
     "text": [
      "R-squared:  0.6937024066656406\n",
      "alpha 5714.522216129189\n",
      "R-squared:  0.6648770751888777\n",
      "alpha 30724.287438946652\n",
      "R-squared:  0.0431864846965595\n",
      "alpha 754.3111862803462\n"
     ]
    },
    {
     "name": "stderr",
     "output_type": "stream",
     "text": [
      "[*********************100%%**********************]  3 of 3 completed\n",
      "[*********************100%%**********************]  3 of 3 completed\n",
      "[*********************100%%**********************]  3 of 3 completed\n",
      "[*********************100%%**********************]  3 of 3 completed"
     ]
    },
    {
     "name": "stdout",
     "output_type": "stream",
     "text": [
      "R-squared:  0.11772698875254473\n",
      "alpha 939.2001097323906\n",
      "R-squared:  0.7880516226631016\n",
      "alpha 55572.49516421999\n",
      "R-squared:  0.8156795531114386\n",
      "alpha 3532.6402357721854\n"
     ]
    },
    {
     "name": "stderr",
     "output_type": "stream",
     "text": [
      "\n",
      "[*********************100%%**********************]  3 of 3 completed\n",
      "[*********************100%%**********************]  3 of 3 completed\n",
      "[                       0%%                      ]"
     ]
    },
    {
     "name": "stdout",
     "output_type": "stream",
     "text": [
      "R-squared:  0.7545940703699322\n",
      "alpha 4570.654016410124\n",
      "R-squared:  0.5302584949656104\n",
      "alpha 57047.88511303137\n",
      "R-squared:  0.5525314725266117\n",
      "alpha 11540.692130019006\n"
     ]
    },
    {
     "name": "stderr",
     "output_type": "stream",
     "text": [
      "[*********************100%%**********************]  3 of 3 completed\n",
      "[*********************100%%**********************]  3 of 3 completed\n",
      "[*********************100%%**********************]  3 of 3 completed\n"
     ]
    },
    {
     "name": "stdout",
     "output_type": "stream",
     "text": [
      "R-squared:  0.8837449544373781\n",
      "alpha 11624.94659085316\n",
      "R-squared:  0.2102880599738064\n",
      "alpha 5670.921008954047\n",
      "R-squared:  0.3455068857254474\n",
      "alpha 3399.7560543063305\n"
     ]
    },
    {
     "name": "stderr",
     "output_type": "stream",
     "text": [
      "[*********************100%%**********************]  3 of 3 completed\n",
      "[*********************100%%**********************]  3 of 3 completed\n",
      "[*********************100%%**********************]  3 of 3 completed\n",
      "[                       0%%                      ]"
     ]
    },
    {
     "name": "stdout",
     "output_type": "stream",
     "text": [
      "R-squared:  0.6599245413223342\n",
      "alpha 77487.35867301108\n",
      "R-squared:  0.19303689314385575\n",
      "alpha 2426.5166725893046\n",
      "R-squared:  0.29913806459378856\n",
      "alpha 3980.120796816902\n"
     ]
    },
    {
     "name": "stderr",
     "output_type": "stream",
     "text": [
      "[*********************100%%**********************]  3 of 3 completed\n",
      "[*********************100%%**********************]  3 of 3 completed\n",
      "[*********************100%%**********************]  3 of 3 completed\n"
     ]
    },
    {
     "name": "stdout",
     "output_type": "stream",
     "text": [
      "R-squared:  0.6273414364677465\n",
      "alpha 26509.972327347503\n",
      "R-squared:  0.6147789093471314\n",
      "alpha 40169.56862140578\n",
      "R-squared:  0.04356708187070202\n",
      "alpha 1398.7428033022409\n"
     ]
    },
    {
     "name": "stderr",
     "output_type": "stream",
     "text": [
      "[*********************100%%**********************]  3 of 3 completed\n",
      "[*********************100%%**********************]  3 of 3 completed\n",
      "[*********************100%%**********************]  3 of 3 completed\n",
      "[                       0%%                      ]"
     ]
    },
    {
     "name": "stdout",
     "output_type": "stream",
     "text": [
      "R-squared:  0.6434376442652925\n",
      "alpha 19466.15870067959\n",
      "R-squared:  0.4940883275010648\n",
      "alpha 39087.25825046492\n",
      "R-squared:  0.3450682722898001\n",
      "alpha 3672.797354680523\n"
     ]
    },
    {
     "name": "stderr",
     "output_type": "stream",
     "text": [
      "[*********************100%%**********************]  3 of 3 completed\n",
      "[*********************100%%**********************]  3 of 3 completed\n",
      "[*********************100%%**********************]  3 of 3 completed\n"
     ]
    },
    {
     "name": "stdout",
     "output_type": "stream",
     "text": [
      "R-squared:  0.7612760878554438\n",
      "alpha 15514.413924694683\n",
      "R-squared:  0.7645717517842856\n",
      "alpha 9122.028355205432\n",
      "R-squared:  0.8466436464249174\n",
      "alpha 909.8235754428191\n"
     ]
    },
    {
     "name": "stderr",
     "output_type": "stream",
     "text": [
      "[*********************100%%**********************]  3 of 3 completed\n",
      "[*********************100%%**********************]  3 of 3 completed\n",
      "[*********************100%%**********************]  3 of 3 completed\n"
     ]
    },
    {
     "name": "stdout",
     "output_type": "stream",
     "text": [
      "R-squared:  0.683607215883788\n",
      "alpha 5182.537173455253\n",
      "R-squared:  0.13734268065683508\n",
      "alpha 1727.60696839947\n",
      "R-squared:  0.8434246289352759\n",
      "alpha 13637.081559114671\n"
     ]
    },
    {
     "name": "stderr",
     "output_type": "stream",
     "text": [
      "[*********************100%%**********************]  3 of 3 completed\n",
      "[*********************100%%**********************]  3 of 3 completed\n",
      "[*********************100%%**********************]  3 of 3 completed\n"
     ]
    },
    {
     "name": "stdout",
     "output_type": "stream",
     "text": [
      "R-squared:  0.20471972303722175\n",
      "alpha 12396.957851023732\n",
      "R-squared:  0.7619530839626384\n",
      "alpha 84987.49876117732\n",
      "R-squared:  0.8857912651875754\n",
      "alpha 948.4093749187253\n"
     ]
    },
    {
     "name": "stderr",
     "output_type": "stream",
     "text": [
      "[*********************100%%**********************]  3 of 3 completed\n",
      "[*********************100%%**********************]  3 of 3 completed\n"
     ]
    },
    {
     "name": "stdout",
     "output_type": "stream",
     "text": [
      "R-squared:  0.7895000057099776\n",
      "alpha 20427.58042325925\n",
      "R-squared:  0.5039652166996189\n",
      "alpha 12010.936652069408\n"
     ]
    },
    {
     "name": "stderr",
     "output_type": "stream",
     "text": [
      "[*********************100%%**********************]  3 of 3 completed\n",
      "[*********************100%%**********************]  3 of 3 completed\n",
      "[*********************100%%**********************]  3 of 3 completed\n",
      "[                       0%%                      ]"
     ]
    },
    {
     "name": "stdout",
     "output_type": "stream",
     "text": [
      "R-squared:  0.7977991806399214\n",
      "alpha 1075.8518563529678\n",
      "R-squared:  0.34057131414444297\n",
      "alpha 4271.660690554159\n",
      "R-squared:  0.8438674497990113\n",
      "alpha 9636.23739466552\n"
     ]
    },
    {
     "name": "stderr",
     "output_type": "stream",
     "text": [
      "[*********************100%%**********************]  3 of 3 completed\n",
      "[*********************100%%**********************]  3 of 3 completed\n",
      "[*********************100%%**********************]  3 of 3 completed"
     ]
    },
    {
     "name": "stdout",
     "output_type": "stream",
     "text": [
      "R-squared:  0.742968808101313\n",
      "alpha 74187.10246649498\n",
      "R-squared:  0.8888358331341699\n",
      "alpha 75077.23749210704\n"
     ]
    },
    {
     "name": "stderr",
     "output_type": "stream",
     "text": [
      "\n",
      "[*********************100%%**********************]  3 of 3 completed\n",
      "[*********************100%%**********************]  3 of 3 completed\n"
     ]
    },
    {
     "name": "stdout",
     "output_type": "stream",
     "text": [
      "R-squared:  0.13177912239754364\n",
      "alpha 1978.62513857724\n",
      "R-squared:  0.7617464393329711\n",
      "alpha 111809.81663895526\n",
      "R-squared:  0.2822778375248116\n",
      "alpha 669242.8452532849\n"
     ]
    },
    {
     "name": "stderr",
     "output_type": "stream",
     "text": [
      "[*********************100%%**********************]  3 of 3 completed\n",
      "[*********************100%%**********************]  3 of 3 completed\n",
      "[*********************100%%**********************]  3 of 3 completed\n"
     ]
    },
    {
     "name": "stdout",
     "output_type": "stream",
     "text": [
      "R-squared:  0.46396685540217497\n",
      "alpha 3332.7655891441837\n",
      "R-squared:  0.7972795366685892\n",
      "alpha 16139.373819466304\n",
      "R-squared:  0.8356429599790705\n",
      "alpha 687.575425668779\n"
     ]
    },
    {
     "name": "stderr",
     "output_type": "stream",
     "text": [
      "[*********************100%%**********************]  3 of 3 completed\n",
      "[*********************100%%**********************]  3 of 3 completed\n",
      "[*********************100%%**********************]  3 of 3 completed\n",
      "[**********************67%%******                ]  2 of 3 completed"
     ]
    },
    {
     "name": "stdout",
     "output_type": "stream",
     "text": [
      "R-squared:  0.03410362937784983\n",
      "alpha 7535.912620901736\n",
      "R-squared:  0.6486828437875234\n",
      "alpha 6359.707557933053\n",
      "R-squared:  0.7869475071313792\n",
      "alpha 44794.30067498663\n"
     ]
    },
    {
     "name": "stderr",
     "output_type": "stream",
     "text": [
      "[*********************100%%**********************]  3 of 3 completed\n",
      "[*********************100%%**********************]  3 of 3 completed\n",
      "[*********************100%%**********************]  3 of 3 completed\n",
      "[*********************100%%**********************]  3 of 3 completed\n"
     ]
    },
    {
     "name": "stdout",
     "output_type": "stream",
     "text": [
      "R-squared:  0.48962910567630313\n",
      "alpha 27452.37321373299\n",
      "R-squared:  0.5616440088592869\n",
      "alpha 29516.606963653056\n",
      "R-squared:  0.16888657037078336\n",
      "alpha 2290.970785879452\n",
      "R-squared:  0.041765231592647\n",
      "alpha 1352.0489748434222\n"
     ]
    },
    {
     "name": "stderr",
     "output_type": "stream",
     "text": [
      "[*********************100%%**********************]  3 of 3 completed\n",
      "[*********************100%%**********************]  3 of 3 completed"
     ]
    },
    {
     "name": "stdout",
     "output_type": "stream",
     "text": [
      "R-squared:  0.15006661650339648\n",
      "alpha 3416.245761866351\n",
      "R-squared:  0.834421279781618\n",
      "alpha 21711.678425290324\n"
     ]
    },
    {
     "name": "stderr",
     "output_type": "stream",
     "text": [
      "\n"
     ]
    }
   ],
   "source": [
    "#### Test add by Shihan \n",
    "import ast\n",
    "capital = 1000000\n",
    "position = (0,0,0)\n",
    "date_july = datetime(2024,7,1)\n",
    "start = datetime(2023, 1, 1)\n",
    "end = datetime(2024, 7, 30)\n",
    "\n",
    "\n",
    "Triplet_Selections = pd.read_csv('triplets_after_coefficient_tests_revised.csv')\n",
    "#Triplet_Selections = pd.read_excel('triplets_after_coefficient_tests_revised.xlsx', sheet_name='Sheet1')\n",
    "tickers_list_size=len(Triplet_Selections['tickers'])\n",
    "\n",
    "R_squared_test = {}\n",
    "sector = {}\n",
    "\n",
    "for i in range (1, tickers_list_size):\n",
    "    combinations = ast.literal_eval(Triplet_Selections['tickers'][i])\n",
    "    #print(combinations)\n",
    "    \n",
    "    df = get_multiple_stock_data(combinations, start, end)\n",
    "\n",
    "    train_data = df.loc[date_july - relativedelta(months = 12):date_july - relativedelta(minutes=1)]\n",
    "    test_data = df.loc[date_july:]\n",
    "    capital_progress_test_1, count1, count2, count3, value_list_test_1, zscore_test_1, w_1,action,return_daily_test_1,r1_test = trade_test_zscore(train_data, test_data, capital, position)\n",
    "    \n",
    "\n",
    "    column_name = f'\"{combinations}\"'\n",
    "    \n",
    "    R_squared_test[column_name] = r1_test\n",
    "    sector[column_name] = Triplet_Selections['sector'][i]"
   ]
  },
  {
   "cell_type": "markdown",
   "metadata": {},
   "source": [
    "### 3. Look at overall performance"
   ]
  },
  {
   "cell_type": "code",
   "execution_count": 15,
   "metadata": {},
   "outputs": [
    {
     "data": {
      "text/html": [
       "<div>\n",
       "<style scoped>\n",
       "    .dataframe tbody tr th:only-of-type {\n",
       "        vertical-align: middle;\n",
       "    }\n",
       "\n",
       "    .dataframe tbody tr th {\n",
       "        vertical-align: top;\n",
       "    }\n",
       "\n",
       "    .dataframe thead th {\n",
       "        text-align: right;\n",
       "    }\n",
       "</style>\n",
       "<table border=\"1\" class=\"dataframe\">\n",
       "  <thead>\n",
       "    <tr style=\"text-align: right;\">\n",
       "      <th></th>\n",
       "      <th>Sharpe Ratio Train</th>\n",
       "      <th>R Squared Train</th>\n",
       "      <th>R Squared Test</th>\n",
       "      <th>sector</th>\n",
       "    </tr>\n",
       "  </thead>\n",
       "  <tbody>\n",
       "    <tr>\n",
       "      <th>\"['AACI', 'ABCB', 'ORRF']\"</th>\n",
       "      <td>0.27127</td>\n",
       "      <td>0.932771</td>\n",
       "      <td>0.940806</td>\n",
       "      <td>Finance</td>\n",
       "    </tr>\n",
       "    <tr>\n",
       "      <th>\"['AACI', 'ABCB', 'THFF']\"</th>\n",
       "      <td>0.254669</td>\n",
       "      <td>0.949822</td>\n",
       "      <td>0.879611</td>\n",
       "      <td>Finance</td>\n",
       "    </tr>\n",
       "    <tr>\n",
       "      <th>\"['AACI', 'ABCB', 'WAFD']\"</th>\n",
       "      <td>0.248253</td>\n",
       "      <td>0.936979</td>\n",
       "      <td>0.754073</td>\n",
       "      <td>Finance</td>\n",
       "    </tr>\n",
       "    <tr>\n",
       "      <th>\"['AADI', 'ABEO', 'SCNI']\"</th>\n",
       "      <td>0.24356</td>\n",
       "      <td>0.904547</td>\n",
       "      <td>0.770809</td>\n",
       "      <td>Health-Care</td>\n",
       "    </tr>\n",
       "    <tr>\n",
       "      <th>\"['AADI', 'ABUS', 'SCNI']\"</th>\n",
       "      <td>0.238398</td>\n",
       "      <td>0.915288</td>\n",
       "      <td>0.781747</td>\n",
       "      <td>Health-Care</td>\n",
       "    </tr>\n",
       "    <tr>\n",
       "      <th>\"['AAON', 'BYU', 'LIN']\"</th>\n",
       "      <td>0.233415</td>\n",
       "      <td>0.906579</td>\n",
       "      <td>0.847332</td>\n",
       "      <td>Industrials</td>\n",
       "    </tr>\n",
       "    <tr>\n",
       "      <th>\"['AACI', 'ABCB', 'BWFG']\"</th>\n",
       "      <td>0.231822</td>\n",
       "      <td>0.950647</td>\n",
       "      <td>0.8354</td>\n",
       "      <td>Finance</td>\n",
       "    </tr>\n",
       "    <tr>\n",
       "      <th>\"['AACI', 'ABCB', 'LKFN']\"</th>\n",
       "      <td>0.230362</td>\n",
       "      <td>0.906252</td>\n",
       "      <td>0.861965</td>\n",
       "      <td>Finance</td>\n",
       "    </tr>\n",
       "    <tr>\n",
       "      <th>\"['AACI', 'ABCB', 'ATLO']\"</th>\n",
       "      <td>0.230325</td>\n",
       "      <td>0.933859</td>\n",
       "      <td>0.725017</td>\n",
       "      <td>Finance</td>\n",
       "    </tr>\n",
       "    <tr>\n",
       "      <th>\"['AACI', 'ABCB', 'ESSA']\"</th>\n",
       "      <td>0.226887</td>\n",
       "      <td>0.926881</td>\n",
       "      <td>0.899703</td>\n",
       "      <td>Finance</td>\n",
       "    </tr>\n",
       "    <tr>\n",
       "      <th>\"['AADI', 'ABCL', 'ITOS']\"</th>\n",
       "      <td>0.223716</td>\n",
       "      <td>0.925644</td>\n",
       "      <td>0.015567</td>\n",
       "      <td>Health-Care</td>\n",
       "    </tr>\n",
       "    <tr>\n",
       "      <th>\"['AACI', 'ACNB', 'HBCP']\"</th>\n",
       "      <td>0.222253</td>\n",
       "      <td>0.908634</td>\n",
       "      <td>0.844039</td>\n",
       "      <td>Finance</td>\n",
       "    </tr>\n",
       "    <tr>\n",
       "      <th>\"['AADI', 'ABCL', 'SXTC']\"</th>\n",
       "      <td>0.221293</td>\n",
       "      <td>0.933242</td>\n",
       "      <td>0.843425</td>\n",
       "      <td>Health-Care</td>\n",
       "    </tr>\n",
       "    <tr>\n",
       "      <th>\"['AAL', 'AMZN', 'WINA']\"</th>\n",
       "      <td>0.216519</td>\n",
       "      <td>0.913266</td>\n",
       "      <td>0.311768</td>\n",
       "      <td>Consumer-Discretionary</td>\n",
       "    </tr>\n",
       "    <tr>\n",
       "      <th>\"['AADI', 'ABSI', 'INGN']\"</th>\n",
       "      <td>0.215633</td>\n",
       "      <td>0.931748</td>\n",
       "      <td>0.316192</td>\n",
       "      <td>Health-Care</td>\n",
       "    </tr>\n",
       "    <tr>\n",
       "      <th>\"['AADI', 'ABUS', 'CLNN']\"</th>\n",
       "      <td>0.213492</td>\n",
       "      <td>0.901455</td>\n",
       "      <td>0.614779</td>\n",
       "      <td>Health-Care</td>\n",
       "    </tr>\n",
       "    <tr>\n",
       "      <th>\"['AACI', 'ABCB', 'FISI']\"</th>\n",
       "      <td>0.212206</td>\n",
       "      <td>0.937149</td>\n",
       "      <td>0.891783</td>\n",
       "      <td>Finance</td>\n",
       "    </tr>\n",
       "    <tr>\n",
       "      <th>\"['AACI', 'AEI', 'MCAA']\"</th>\n",
       "      <td>0.20956</td>\n",
       "      <td>0.943381</td>\n",
       "      <td>0.858946</td>\n",
       "      <td>Finance</td>\n",
       "    </tr>\n",
       "    <tr>\n",
       "      <th>\"['AACI', 'AEI', 'TRON']\"</th>\n",
       "      <td>0.208336</td>\n",
       "      <td>0.922621</td>\n",
       "      <td>0.551132</td>\n",
       "      <td>Finance</td>\n",
       "    </tr>\n",
       "    <tr>\n",
       "      <th>\"['AACI', 'ABCB', 'HFWA']\"</th>\n",
       "      <td>0.207699</td>\n",
       "      <td>0.905052</td>\n",
       "      <td>0.88552</td>\n",
       "      <td>Finance</td>\n",
       "    </tr>\n",
       "  </tbody>\n",
       "</table>\n",
       "</div>"
      ],
      "text/plain": [
       "                           Sharpe Ratio Train R Squared Train R Squared Test  \\\n",
       "\"['AACI', 'ABCB', 'ORRF']\"            0.27127        0.932771       0.940806   \n",
       "\"['AACI', 'ABCB', 'THFF']\"           0.254669        0.949822       0.879611   \n",
       "\"['AACI', 'ABCB', 'WAFD']\"           0.248253        0.936979       0.754073   \n",
       "\"['AADI', 'ABEO', 'SCNI']\"            0.24356        0.904547       0.770809   \n",
       "\"['AADI', 'ABUS', 'SCNI']\"           0.238398        0.915288       0.781747   \n",
       "\"['AAON', 'BYU', 'LIN']\"             0.233415        0.906579       0.847332   \n",
       "\"['AACI', 'ABCB', 'BWFG']\"           0.231822        0.950647         0.8354   \n",
       "\"['AACI', 'ABCB', 'LKFN']\"           0.230362        0.906252       0.861965   \n",
       "\"['AACI', 'ABCB', 'ATLO']\"           0.230325        0.933859       0.725017   \n",
       "\"['AACI', 'ABCB', 'ESSA']\"           0.226887        0.926881       0.899703   \n",
       "\"['AADI', 'ABCL', 'ITOS']\"           0.223716        0.925644       0.015567   \n",
       "\"['AACI', 'ACNB', 'HBCP']\"           0.222253        0.908634       0.844039   \n",
       "\"['AADI', 'ABCL', 'SXTC']\"           0.221293        0.933242       0.843425   \n",
       "\"['AAL', 'AMZN', 'WINA']\"            0.216519        0.913266       0.311768   \n",
       "\"['AADI', 'ABSI', 'INGN']\"           0.215633        0.931748       0.316192   \n",
       "\"['AADI', 'ABUS', 'CLNN']\"           0.213492        0.901455       0.614779   \n",
       "\"['AACI', 'ABCB', 'FISI']\"           0.212206        0.937149       0.891783   \n",
       "\"['AACI', 'AEI', 'MCAA']\"             0.20956        0.943381       0.858946   \n",
       "\"['AACI', 'AEI', 'TRON']\"            0.208336        0.922621       0.551132   \n",
       "\"['AACI', 'ABCB', 'HFWA']\"           0.207699        0.905052        0.88552   \n",
       "\n",
       "                                            sector  \n",
       "\"['AACI', 'ABCB', 'ORRF']\"                 Finance  \n",
       "\"['AACI', 'ABCB', 'THFF']\"                 Finance  \n",
       "\"['AACI', 'ABCB', 'WAFD']\"                 Finance  \n",
       "\"['AADI', 'ABEO', 'SCNI']\"     Health-Care          \n",
       "\"['AADI', 'ABUS', 'SCNI']\"     Health-Care          \n",
       "\"['AAON', 'BYU', 'LIN']\"               Industrials  \n",
       "\"['AACI', 'ABCB', 'BWFG']\"                 Finance  \n",
       "\"['AACI', 'ABCB', 'LKFN']\"                 Finance  \n",
       "\"['AACI', 'ABCB', 'ATLO']\"                 Finance  \n",
       "\"['AACI', 'ABCB', 'ESSA']\"                 Finance  \n",
       "\"['AADI', 'ABCL', 'ITOS']\"     Health-Care          \n",
       "\"['AACI', 'ACNB', 'HBCP']\"                 Finance  \n",
       "\"['AADI', 'ABCL', 'SXTC']\"     Health-Care          \n",
       "\"['AAL', 'AMZN', 'WINA']\"   Consumer-Discretionary  \n",
       "\"['AADI', 'ABSI', 'INGN']\"     Health-Care          \n",
       "\"['AADI', 'ABUS', 'CLNN']\"     Health-Care          \n",
       "\"['AACI', 'ABCB', 'FISI']\"                 Finance  \n",
       "\"['AACI', 'AEI', 'MCAA']\"                  Finance  \n",
       "\"['AACI', 'AEI', 'TRON']\"                  Finance  \n",
       "\"['AACI', 'ABCB', 'HFWA']\"                 Finance  "
      ]
     },
     "execution_count": 15,
     "metadata": {},
     "output_type": "execute_result"
    }
   ],
   "source": [
    "overall = pd.DataFrame([Sharpe_ratio_train, R_squared_train, R_squared_test,sector]).transpose()\n",
    "overall.columns = ['Sharpe Ratio Train', 'R Squared Train', 'R Squared Test','sector']\n",
    "overall.sort_values(by='Sharpe Ratio Train', ascending=False).head(20)"
   ]
  },
  {
   "cell_type": "markdown",
   "metadata": {},
   "source": [
    "### 4. Apply conditions to choose stocks"
   ]
  },
  {
   "cell_type": "code",
   "execution_count": 17,
   "metadata": {},
   "outputs": [
    {
     "data": {
      "text/html": [
       "<div>\n",
       "<style scoped>\n",
       "    .dataframe tbody tr th:only-of-type {\n",
       "        vertical-align: middle;\n",
       "    }\n",
       "\n",
       "    .dataframe tbody tr th {\n",
       "        vertical-align: top;\n",
       "    }\n",
       "\n",
       "    .dataframe thead th {\n",
       "        text-align: right;\n",
       "    }\n",
       "</style>\n",
       "<table border=\"1\" class=\"dataframe\">\n",
       "  <thead>\n",
       "    <tr style=\"text-align: right;\">\n",
       "      <th></th>\n",
       "      <th>Sharpe Ratio Train</th>\n",
       "      <th>R Squared Train</th>\n",
       "      <th>R Squared Test</th>\n",
       "      <th>sector</th>\n",
       "    </tr>\n",
       "  </thead>\n",
       "  <tbody>\n",
       "    <tr>\n",
       "      <th>\"['AAON', 'BYU', 'LIN']\"</th>\n",
       "      <td>0.233415</td>\n",
       "      <td>0.906579</td>\n",
       "      <td>0.847332</td>\n",
       "      <td>Industrials</td>\n",
       "    </tr>\n",
       "    <tr>\n",
       "      <th>\"['AAOI', 'ALKT', 'VRNS']\"</th>\n",
       "      <td>0.12389</td>\n",
       "      <td>0.907314</td>\n",
       "      <td>0.871865</td>\n",
       "      <td>Technology</td>\n",
       "    </tr>\n",
       "    <tr>\n",
       "      <th>\"['AAL', 'ADSE', 'MNRO']\"</th>\n",
       "      <td>0.126397</td>\n",
       "      <td>0.908631</td>\n",
       "      <td>0.8718</td>\n",
       "      <td>Consumer-Discretionary</td>\n",
       "    </tr>\n",
       "    <tr>\n",
       "      <th>\"['AAL', 'ADSE', 'ULCC']\"</th>\n",
       "      <td>0.108865</td>\n",
       "      <td>0.922391</td>\n",
       "      <td>0.810463</td>\n",
       "      <td>Consumer-Discretionary</td>\n",
       "    </tr>\n",
       "    <tr>\n",
       "      <th>\"['AACI', 'ABCB', 'MCBS']\"</th>\n",
       "      <td>0.10521</td>\n",
       "      <td>0.921624</td>\n",
       "      <td>0.925172</td>\n",
       "      <td>Finance</td>\n",
       "    </tr>\n",
       "    <tr>\n",
       "      <th>\"['AACI', 'ACGLN', 'ACGLO']\"</th>\n",
       "      <td>0.157725</td>\n",
       "      <td>0.902047</td>\n",
       "      <td>0.930397</td>\n",
       "      <td>Finance</td>\n",
       "    </tr>\n",
       "    <tr>\n",
       "      <th>\"['AACI', 'ABCB', 'ORRF']\"</th>\n",
       "      <td>0.27127</td>\n",
       "      <td>0.932771</td>\n",
       "      <td>0.940806</td>\n",
       "      <td>Finance</td>\n",
       "    </tr>\n",
       "    <tr>\n",
       "      <th>\"['AACI', 'ABCB', 'SSBK']\"</th>\n",
       "      <td>0.205262</td>\n",
       "      <td>0.922001</td>\n",
       "      <td>0.859661</td>\n",
       "      <td>Finance</td>\n",
       "    </tr>\n",
       "    <tr>\n",
       "      <th>\"['AACI', 'ABCB', 'THFF']\"</th>\n",
       "      <td>0.254669</td>\n",
       "      <td>0.949822</td>\n",
       "      <td>0.879611</td>\n",
       "      <td>Finance</td>\n",
       "    </tr>\n",
       "    <tr>\n",
       "      <th>\"['AACI', 'ABCB', 'ESSA']\"</th>\n",
       "      <td>0.226887</td>\n",
       "      <td>0.926881</td>\n",
       "      <td>0.899703</td>\n",
       "      <td>Finance</td>\n",
       "    </tr>\n",
       "    <tr>\n",
       "      <th>\"['AACI', 'ABCB', 'QCRH']\"</th>\n",
       "      <td>0.197067</td>\n",
       "      <td>0.920513</td>\n",
       "      <td>0.880331</td>\n",
       "      <td>Finance</td>\n",
       "    </tr>\n",
       "    <tr>\n",
       "      <th>\"['AACI', 'ABCB', 'HOPE']\"</th>\n",
       "      <td>0.178348</td>\n",
       "      <td>0.964588</td>\n",
       "      <td>0.919389</td>\n",
       "      <td>Finance</td>\n",
       "    </tr>\n",
       "    <tr>\n",
       "      <th>\"['AACI', 'ABCB', 'CBAN']\"</th>\n",
       "      <td>0.173116</td>\n",
       "      <td>0.963773</td>\n",
       "      <td>0.904862</td>\n",
       "      <td>Finance</td>\n",
       "    </tr>\n",
       "    <tr>\n",
       "      <th>\"['AACI', 'ABCB', 'PPBI']\"</th>\n",
       "      <td>0.18893</td>\n",
       "      <td>0.950242</td>\n",
       "      <td>0.87721</td>\n",
       "      <td>Finance</td>\n",
       "    </tr>\n",
       "    <tr>\n",
       "      <th>\"['AACI', 'ABCB', 'HBNC']\"</th>\n",
       "      <td>0.129961</td>\n",
       "      <td>0.943436</td>\n",
       "      <td>0.914654</td>\n",
       "      <td>Finance</td>\n",
       "    </tr>\n",
       "    <tr>\n",
       "      <th>\"['AACI', 'AEI', 'MCAA']\"</th>\n",
       "      <td>0.20956</td>\n",
       "      <td>0.943381</td>\n",
       "      <td>0.858946</td>\n",
       "      <td>Finance</td>\n",
       "    </tr>\n",
       "    <tr>\n",
       "      <th>\"['AACI', 'ABCB', 'MOFG']\"</th>\n",
       "      <td>0.194472</td>\n",
       "      <td>0.921173</td>\n",
       "      <td>0.867501</td>\n",
       "      <td>Finance</td>\n",
       "    </tr>\n",
       "    <tr>\n",
       "      <th>\"['AACI', 'ABCB', 'BRKL']\"</th>\n",
       "      <td>0.109449</td>\n",
       "      <td>0.913191</td>\n",
       "      <td>0.821099</td>\n",
       "      <td>Finance</td>\n",
       "    </tr>\n",
       "    <tr>\n",
       "      <th>\"['AACI', 'ABCB', 'HFWA']\"</th>\n",
       "      <td>0.207699</td>\n",
       "      <td>0.905052</td>\n",
       "      <td>0.88552</td>\n",
       "      <td>Finance</td>\n",
       "    </tr>\n",
       "    <tr>\n",
       "      <th>\"['AACI', 'ABCB', 'FMBH']\"</th>\n",
       "      <td>0.110529</td>\n",
       "      <td>0.948482</td>\n",
       "      <td>0.91102</td>\n",
       "      <td>Finance</td>\n",
       "    </tr>\n",
       "    <tr>\n",
       "      <th>\"['AACI', 'ABCB', 'MBWM']\"</th>\n",
       "      <td>0.165353</td>\n",
       "      <td>0.917849</td>\n",
       "      <td>0.929476</td>\n",
       "      <td>Finance</td>\n",
       "    </tr>\n",
       "    <tr>\n",
       "      <th>\"['AACI', 'AEAE', 'DPCS']\"</th>\n",
       "      <td>0.10355</td>\n",
       "      <td>0.915423</td>\n",
       "      <td>0.905986</td>\n",
       "      <td>Finance</td>\n",
       "    </tr>\n",
       "    <tr>\n",
       "      <th>\"['AACI', 'AEAE', 'IGIC']\"</th>\n",
       "      <td>0.171342</td>\n",
       "      <td>0.903828</td>\n",
       "      <td>0.82254</td>\n",
       "      <td>Finance</td>\n",
       "    </tr>\n",
       "    <tr>\n",
       "      <th>\"['AACI', 'ABCB', 'MSBI']\"</th>\n",
       "      <td>0.135207</td>\n",
       "      <td>0.969617</td>\n",
       "      <td>0.891587</td>\n",
       "      <td>Finance</td>\n",
       "    </tr>\n",
       "    <tr>\n",
       "      <th>\"['AACI', 'ABCB', 'PNFP']\"</th>\n",
       "      <td>0.130694</td>\n",
       "      <td>0.966421</td>\n",
       "      <td>0.910434</td>\n",
       "      <td>Finance</td>\n",
       "    </tr>\n",
       "    <tr>\n",
       "      <th>\"['AACI', 'ABCB', 'CATY']\"</th>\n",
       "      <td>0.180491</td>\n",
       "      <td>0.962263</td>\n",
       "      <td>0.893034</td>\n",
       "      <td>Finance</td>\n",
       "    </tr>\n",
       "    <tr>\n",
       "      <th>\"['AACI', 'ABCB', 'FRME']\"</th>\n",
       "      <td>0.154657</td>\n",
       "      <td>0.951043</td>\n",
       "      <td>0.891895</td>\n",
       "      <td>Finance</td>\n",
       "    </tr>\n",
       "    <tr>\n",
       "      <th>\"['AACI', 'ABCB', 'BWFG']\"</th>\n",
       "      <td>0.231822</td>\n",
       "      <td>0.950647</td>\n",
       "      <td>0.8354</td>\n",
       "      <td>Finance</td>\n",
       "    </tr>\n",
       "    <tr>\n",
       "      <th>\"['AACI', 'ABCB', 'CNOB']\"</th>\n",
       "      <td>0.170329</td>\n",
       "      <td>0.945875</td>\n",
       "      <td>0.877485</td>\n",
       "      <td>Finance</td>\n",
       "    </tr>\n",
       "    <tr>\n",
       "      <th>\"['AACI', 'ABCB', 'FULT']\"</th>\n",
       "      <td>0.14674</td>\n",
       "      <td>0.939687</td>\n",
       "      <td>0.949126</td>\n",
       "      <td>Finance</td>\n",
       "    </tr>\n",
       "    <tr>\n",
       "      <th>\"['AACI', 'ABCB', 'FISI']\"</th>\n",
       "      <td>0.212206</td>\n",
       "      <td>0.937149</td>\n",
       "      <td>0.891783</td>\n",
       "      <td>Finance</td>\n",
       "    </tr>\n",
       "    <tr>\n",
       "      <th>\"['AACI', 'ABCB', 'GABC']\"</th>\n",
       "      <td>0.125731</td>\n",
       "      <td>0.932636</td>\n",
       "      <td>0.867743</td>\n",
       "      <td>Finance</td>\n",
       "    </tr>\n",
       "    <tr>\n",
       "      <th>\"['AACI', 'AEAE', 'FNVT']\"</th>\n",
       "      <td>0.109458</td>\n",
       "      <td>0.931927</td>\n",
       "      <td>0.887759</td>\n",
       "      <td>Finance</td>\n",
       "    </tr>\n",
       "    <tr>\n",
       "      <th>\"['AACI', 'ABCB', 'AMAL']\"</th>\n",
       "      <td>0.15502</td>\n",
       "      <td>0.926372</td>\n",
       "      <td>0.951622</td>\n",
       "      <td>Finance</td>\n",
       "    </tr>\n",
       "    <tr>\n",
       "      <th>\"['AACI', 'ABCB', 'RBB']\"</th>\n",
       "      <td>0.133542</td>\n",
       "      <td>0.925598</td>\n",
       "      <td>0.94789</td>\n",
       "      <td>Finance</td>\n",
       "    </tr>\n",
       "    <tr>\n",
       "      <th>\"['AACI', 'ABCB', 'WSBC']\"</th>\n",
       "      <td>0.160888</td>\n",
       "      <td>0.922836</td>\n",
       "      <td>0.848734</td>\n",
       "      <td>Finance</td>\n",
       "    </tr>\n",
       "    <tr>\n",
       "      <th>\"['AACI', 'ABCB', 'BUSE']\"</th>\n",
       "      <td>0.174627</td>\n",
       "      <td>0.921564</td>\n",
       "      <td>0.884031</td>\n",
       "      <td>Finance</td>\n",
       "    </tr>\n",
       "    <tr>\n",
       "      <th>\"['AACI', 'ABCB', 'UBSI']\"</th>\n",
       "      <td>0.164691</td>\n",
       "      <td>0.918686</td>\n",
       "      <td>0.878053</td>\n",
       "      <td>Finance</td>\n",
       "    </tr>\n",
       "    <tr>\n",
       "      <th>\"['AACI', 'ABCB', 'PFBC']\"</th>\n",
       "      <td>0.102166</td>\n",
       "      <td>0.915832</td>\n",
       "      <td>0.917476</td>\n",
       "      <td>Finance</td>\n",
       "    </tr>\n",
       "    <tr>\n",
       "      <th>\"['AACI', 'ABCB', 'SMBC']\"</th>\n",
       "      <td>0.155782</td>\n",
       "      <td>0.914279</td>\n",
       "      <td>0.834004</td>\n",
       "      <td>Finance</td>\n",
       "    </tr>\n",
       "    <tr>\n",
       "      <th>\"['AACI', 'ABCB', 'UMBF']\"</th>\n",
       "      <td>0.117482</td>\n",
       "      <td>0.913851</td>\n",
       "      <td>0.908452</td>\n",
       "      <td>Finance</td>\n",
       "    </tr>\n",
       "    <tr>\n",
       "      <th>\"['AACI', 'ABCB', 'EWBC']\"</th>\n",
       "      <td>0.130812</td>\n",
       "      <td>0.91036</td>\n",
       "      <td>0.862345</td>\n",
       "      <td>Finance</td>\n",
       "    </tr>\n",
       "    <tr>\n",
       "      <th>\"['AACI', 'ABCB', 'IBTX']\"</th>\n",
       "      <td>0.146507</td>\n",
       "      <td>0.908812</td>\n",
       "      <td>0.814591</td>\n",
       "      <td>Finance</td>\n",
       "    </tr>\n",
       "    <tr>\n",
       "      <th>\"['AACI', 'ACNB', 'HBCP']\"</th>\n",
       "      <td>0.222253</td>\n",
       "      <td>0.908634</td>\n",
       "      <td>0.844039</td>\n",
       "      <td>Finance</td>\n",
       "    </tr>\n",
       "    <tr>\n",
       "      <th>\"['AACI', 'ABCB', 'LKFN']\"</th>\n",
       "      <td>0.230362</td>\n",
       "      <td>0.906252</td>\n",
       "      <td>0.861965</td>\n",
       "      <td>Finance</td>\n",
       "    </tr>\n",
       "    <tr>\n",
       "      <th>\"['AACI', 'ABCB', 'TOWN']\"</th>\n",
       "      <td>0.136815</td>\n",
       "      <td>0.906185</td>\n",
       "      <td>0.889837</td>\n",
       "      <td>Finance</td>\n",
       "    </tr>\n",
       "    <tr>\n",
       "      <th>\"['AACI', 'ABCB', 'FITB']\"</th>\n",
       "      <td>0.156714</td>\n",
       "      <td>0.903833</td>\n",
       "      <td>0.88136</td>\n",
       "      <td>Finance</td>\n",
       "    </tr>\n",
       "    <tr>\n",
       "      <th>\"['AACI', 'ABCB', 'STBA']\"</th>\n",
       "      <td>0.11293</td>\n",
       "      <td>0.900593</td>\n",
       "      <td>0.856426</td>\n",
       "      <td>Finance</td>\n",
       "    </tr>\n",
       "    <tr>\n",
       "      <th>\"['AADI', 'ABOS', 'TXMD']\"</th>\n",
       "      <td>0.179459</td>\n",
       "      <td>0.930812</td>\n",
       "      <td>0.916438</td>\n",
       "      <td>Health-Care</td>\n",
       "    </tr>\n",
       "    <tr>\n",
       "      <th>\"['AADI', 'ABSI', 'CARA']\"</th>\n",
       "      <td>0.124332</td>\n",
       "      <td>0.923457</td>\n",
       "      <td>0.807761</td>\n",
       "      <td>Health-Care</td>\n",
       "    </tr>\n",
       "    <tr>\n",
       "      <th>\"['AADI', 'ABVC', 'BNR']\"</th>\n",
       "      <td>0.120475</td>\n",
       "      <td>0.905057</td>\n",
       "      <td>0.883745</td>\n",
       "      <td>Health-Care</td>\n",
       "    </tr>\n",
       "    <tr>\n",
       "      <th>\"['AADI', 'ABCL', 'SXTC']\"</th>\n",
       "      <td>0.221293</td>\n",
       "      <td>0.933242</td>\n",
       "      <td>0.843425</td>\n",
       "      <td>Health-Care</td>\n",
       "    </tr>\n",
       "    <tr>\n",
       "      <th>\"['AADI', 'ABCL', 'GNPX']\"</th>\n",
       "      <td>0.141919</td>\n",
       "      <td>0.922798</td>\n",
       "      <td>0.885791</td>\n",
       "      <td>Health-Care</td>\n",
       "    </tr>\n",
       "    <tr>\n",
       "      <th>\"['AADI', 'ACET', 'NUWE']\"</th>\n",
       "      <td>0.139228</td>\n",
       "      <td>0.905306</td>\n",
       "      <td>0.835643</td>\n",
       "      <td>Health-Care</td>\n",
       "    </tr>\n",
       "  </tbody>\n",
       "</table>\n",
       "</div>"
      ],
      "text/plain": [
       "                             Sharpe Ratio Train R Squared Train  \\\n",
       "\"['AAON', 'BYU', 'LIN']\"               0.233415        0.906579   \n",
       "\"['AAOI', 'ALKT', 'VRNS']\"              0.12389        0.907314   \n",
       "\"['AAL', 'ADSE', 'MNRO']\"              0.126397        0.908631   \n",
       "\"['AAL', 'ADSE', 'ULCC']\"              0.108865        0.922391   \n",
       "\"['AACI', 'ABCB', 'MCBS']\"              0.10521        0.921624   \n",
       "\"['AACI', 'ACGLN', 'ACGLO']\"           0.157725        0.902047   \n",
       "\"['AACI', 'ABCB', 'ORRF']\"              0.27127        0.932771   \n",
       "\"['AACI', 'ABCB', 'SSBK']\"             0.205262        0.922001   \n",
       "\"['AACI', 'ABCB', 'THFF']\"             0.254669        0.949822   \n",
       "\"['AACI', 'ABCB', 'ESSA']\"             0.226887        0.926881   \n",
       "\"['AACI', 'ABCB', 'QCRH']\"             0.197067        0.920513   \n",
       "\"['AACI', 'ABCB', 'HOPE']\"             0.178348        0.964588   \n",
       "\"['AACI', 'ABCB', 'CBAN']\"             0.173116        0.963773   \n",
       "\"['AACI', 'ABCB', 'PPBI']\"              0.18893        0.950242   \n",
       "\"['AACI', 'ABCB', 'HBNC']\"             0.129961        0.943436   \n",
       "\"['AACI', 'AEI', 'MCAA']\"               0.20956        0.943381   \n",
       "\"['AACI', 'ABCB', 'MOFG']\"             0.194472        0.921173   \n",
       "\"['AACI', 'ABCB', 'BRKL']\"             0.109449        0.913191   \n",
       "\"['AACI', 'ABCB', 'HFWA']\"             0.207699        0.905052   \n",
       "\"['AACI', 'ABCB', 'FMBH']\"             0.110529        0.948482   \n",
       "\"['AACI', 'ABCB', 'MBWM']\"             0.165353        0.917849   \n",
       "\"['AACI', 'AEAE', 'DPCS']\"              0.10355        0.915423   \n",
       "\"['AACI', 'AEAE', 'IGIC']\"             0.171342        0.903828   \n",
       "\"['AACI', 'ABCB', 'MSBI']\"             0.135207        0.969617   \n",
       "\"['AACI', 'ABCB', 'PNFP']\"             0.130694        0.966421   \n",
       "\"['AACI', 'ABCB', 'CATY']\"             0.180491        0.962263   \n",
       "\"['AACI', 'ABCB', 'FRME']\"             0.154657        0.951043   \n",
       "\"['AACI', 'ABCB', 'BWFG']\"             0.231822        0.950647   \n",
       "\"['AACI', 'ABCB', 'CNOB']\"             0.170329        0.945875   \n",
       "\"['AACI', 'ABCB', 'FULT']\"              0.14674        0.939687   \n",
       "\"['AACI', 'ABCB', 'FISI']\"             0.212206        0.937149   \n",
       "\"['AACI', 'ABCB', 'GABC']\"             0.125731        0.932636   \n",
       "\"['AACI', 'AEAE', 'FNVT']\"             0.109458        0.931927   \n",
       "\"['AACI', 'ABCB', 'AMAL']\"              0.15502        0.926372   \n",
       "\"['AACI', 'ABCB', 'RBB']\"              0.133542        0.925598   \n",
       "\"['AACI', 'ABCB', 'WSBC']\"             0.160888        0.922836   \n",
       "\"['AACI', 'ABCB', 'BUSE']\"             0.174627        0.921564   \n",
       "\"['AACI', 'ABCB', 'UBSI']\"             0.164691        0.918686   \n",
       "\"['AACI', 'ABCB', 'PFBC']\"             0.102166        0.915832   \n",
       "\"['AACI', 'ABCB', 'SMBC']\"             0.155782        0.914279   \n",
       "\"['AACI', 'ABCB', 'UMBF']\"             0.117482        0.913851   \n",
       "\"['AACI', 'ABCB', 'EWBC']\"             0.130812         0.91036   \n",
       "\"['AACI', 'ABCB', 'IBTX']\"             0.146507        0.908812   \n",
       "\"['AACI', 'ACNB', 'HBCP']\"             0.222253        0.908634   \n",
       "\"['AACI', 'ABCB', 'LKFN']\"             0.230362        0.906252   \n",
       "\"['AACI', 'ABCB', 'TOWN']\"             0.136815        0.906185   \n",
       "\"['AACI', 'ABCB', 'FITB']\"             0.156714        0.903833   \n",
       "\"['AACI', 'ABCB', 'STBA']\"              0.11293        0.900593   \n",
       "\"['AADI', 'ABOS', 'TXMD']\"             0.179459        0.930812   \n",
       "\"['AADI', 'ABSI', 'CARA']\"             0.124332        0.923457   \n",
       "\"['AADI', 'ABVC', 'BNR']\"              0.120475        0.905057   \n",
       "\"['AADI', 'ABCL', 'SXTC']\"             0.221293        0.933242   \n",
       "\"['AADI', 'ABCL', 'GNPX']\"             0.141919        0.922798   \n",
       "\"['AADI', 'ACET', 'NUWE']\"             0.139228        0.905306   \n",
       "\n",
       "                             R Squared Test                  sector  \n",
       "\"['AAON', 'BYU', 'LIN']\"           0.847332             Industrials  \n",
       "\"['AAOI', 'ALKT', 'VRNS']\"         0.871865              Technology  \n",
       "\"['AAL', 'ADSE', 'MNRO']\"            0.8718  Consumer-Discretionary  \n",
       "\"['AAL', 'ADSE', 'ULCC']\"          0.810463  Consumer-Discretionary  \n",
       "\"['AACI', 'ABCB', 'MCBS']\"         0.925172                 Finance  \n",
       "\"['AACI', 'ACGLN', 'ACGLO']\"       0.930397                 Finance  \n",
       "\"['AACI', 'ABCB', 'ORRF']\"         0.940806                 Finance  \n",
       "\"['AACI', 'ABCB', 'SSBK']\"         0.859661                 Finance  \n",
       "\"['AACI', 'ABCB', 'THFF']\"         0.879611                 Finance  \n",
       "\"['AACI', 'ABCB', 'ESSA']\"         0.899703                 Finance  \n",
       "\"['AACI', 'ABCB', 'QCRH']\"         0.880331                 Finance  \n",
       "\"['AACI', 'ABCB', 'HOPE']\"         0.919389                 Finance  \n",
       "\"['AACI', 'ABCB', 'CBAN']\"         0.904862                 Finance  \n",
       "\"['AACI', 'ABCB', 'PPBI']\"          0.87721                 Finance  \n",
       "\"['AACI', 'ABCB', 'HBNC']\"         0.914654                 Finance  \n",
       "\"['AACI', 'AEI', 'MCAA']\"          0.858946                 Finance  \n",
       "\"['AACI', 'ABCB', 'MOFG']\"         0.867501                 Finance  \n",
       "\"['AACI', 'ABCB', 'BRKL']\"         0.821099                 Finance  \n",
       "\"['AACI', 'ABCB', 'HFWA']\"          0.88552                 Finance  \n",
       "\"['AACI', 'ABCB', 'FMBH']\"          0.91102                 Finance  \n",
       "\"['AACI', 'ABCB', 'MBWM']\"         0.929476                 Finance  \n",
       "\"['AACI', 'AEAE', 'DPCS']\"         0.905986                 Finance  \n",
       "\"['AACI', 'AEAE', 'IGIC']\"          0.82254                 Finance  \n",
       "\"['AACI', 'ABCB', 'MSBI']\"         0.891587                 Finance  \n",
       "\"['AACI', 'ABCB', 'PNFP']\"         0.910434                 Finance  \n",
       "\"['AACI', 'ABCB', 'CATY']\"         0.893034                 Finance  \n",
       "\"['AACI', 'ABCB', 'FRME']\"         0.891895                 Finance  \n",
       "\"['AACI', 'ABCB', 'BWFG']\"           0.8354                 Finance  \n",
       "\"['AACI', 'ABCB', 'CNOB']\"         0.877485                 Finance  \n",
       "\"['AACI', 'ABCB', 'FULT']\"         0.949126                 Finance  \n",
       "\"['AACI', 'ABCB', 'FISI']\"         0.891783                 Finance  \n",
       "\"['AACI', 'ABCB', 'GABC']\"         0.867743                 Finance  \n",
       "\"['AACI', 'AEAE', 'FNVT']\"         0.887759                 Finance  \n",
       "\"['AACI', 'ABCB', 'AMAL']\"         0.951622                 Finance  \n",
       "\"['AACI', 'ABCB', 'RBB']\"           0.94789                 Finance  \n",
       "\"['AACI', 'ABCB', 'WSBC']\"         0.848734                 Finance  \n",
       "\"['AACI', 'ABCB', 'BUSE']\"         0.884031                 Finance  \n",
       "\"['AACI', 'ABCB', 'UBSI']\"         0.878053                 Finance  \n",
       "\"['AACI', 'ABCB', 'PFBC']\"         0.917476                 Finance  \n",
       "\"['AACI', 'ABCB', 'SMBC']\"         0.834004                 Finance  \n",
       "\"['AACI', 'ABCB', 'UMBF']\"         0.908452                 Finance  \n",
       "\"['AACI', 'ABCB', 'EWBC']\"         0.862345                 Finance  \n",
       "\"['AACI', 'ABCB', 'IBTX']\"         0.814591                 Finance  \n",
       "\"['AACI', 'ACNB', 'HBCP']\"         0.844039                 Finance  \n",
       "\"['AACI', 'ABCB', 'LKFN']\"         0.861965                 Finance  \n",
       "\"['AACI', 'ABCB', 'TOWN']\"         0.889837                 Finance  \n",
       "\"['AACI', 'ABCB', 'FITB']\"          0.88136                 Finance  \n",
       "\"['AACI', 'ABCB', 'STBA']\"         0.856426                 Finance  \n",
       "\"['AADI', 'ABOS', 'TXMD']\"         0.916438     Health-Care          \n",
       "\"['AADI', 'ABSI', 'CARA']\"         0.807761     Health-Care          \n",
       "\"['AADI', 'ABVC', 'BNR']\"          0.883745     Health-Care          \n",
       "\"['AADI', 'ABCL', 'SXTC']\"         0.843425     Health-Care          \n",
       "\"['AADI', 'ABCL', 'GNPX']\"         0.885791     Health-Care          \n",
       "\"['AADI', 'ACET', 'NUWE']\"         0.835643     Health-Care          "
      ]
     },
     "execution_count": 17,
     "metadata": {},
     "output_type": "execute_result"
    }
   ],
   "source": [
    "condition1 = overall['R Squared Train'] > 0.9\n",
    "condition2 = overall['R Squared Test'] > 0.8\n",
    "condition3 = overall['Sharpe Ratio Train'] > 0.1\n",
    "\n",
    "chosen = overall[condition1 & condition2  & condition3]\n",
    "chosen"
   ]
  },
  {
   "cell_type": "markdown",
   "metadata": {},
   "source": [
    "## Action to trade\n",
    "\n",
    "When spread is more than 0.5 sigma (std), we make an trade action. This is due to the fact that there is a consideration on transaction cost in reality. Otherwise, Ideally the trading strategy would be trade whenever there is a spread.\n",
    "\n",
    "In this case, let's suppose we choose the combinations of ***META, AVGO, LRCX***."
   ]
  },
  {
   "cell_type": "code",
   "execution_count": 18,
   "metadata": {},
   "outputs": [
    {
     "name": "stderr",
     "output_type": "stream",
     "text": [
      "[*********************100%%**********************]  9 of 9 completed\n"
     ]
    }
   ],
   "source": [
    "start = datetime(2023, 1, 1)\n",
    "end = datetime(2024, 7, 30)\n",
    "\n",
    "train_date_end = datetime(2024,1,1)\n",
    "valid_date_end = datetime(2024,7,1)\n",
    "\n",
    "all_tickers = ['AAOI', 'ALKT', 'VRNS','AAL', 'ADSE', 'ULCC','AACI', 'ABCB', 'ORRF']\n",
    "\n",
    "tickers = ['AAON', 'BYU', 'LIN']\n",
    "sector = ['Consumer', 'Technology', 'Healthcare']\n",
    "\n",
    "#['AADI', 'ABUS', 'SILK'] - Healthcare\n",
    "#['AAOI', 'AAPL', 'LRCX'] - Technology\n",
    "#['AAL', 'AMZN', 'WINA'] - Consumer\n",
    "\n",
    "df = get_multiple_stock_data(all_tickers, start, end)\n",
    "df = df[all_tickers]\n",
    "df_train = df.loc[:train_date_end - relativedelta(days=1)]\n",
    "df_valid = df.loc[train_date_end:valid_date_end - relativedelta(days=1)]\n",
    "df_test = df.loc[valid_date_end:]\n",
    "df_valid_test = df.loc[train_date_end:]"
   ]
  },
  {
   "cell_type": "markdown",
   "metadata": {},
   "source": [
    "## Determine weight for each triplet in portfolio\n"
   ]
  },
  {
   "cell_type": "code",
   "execution_count": 19,
   "metadata": {},
   "outputs": [
    {
     "name": "stdout",
     "output_type": "stream",
     "text": [
      "Assuming intial capital for each sector is 1000000\n",
      "alpha 2745.009493347819\n",
      "Train profit for sector Consumer: 1222947.2234215224\n",
      "alpha 13323.851842897408\n",
      "Train profit for sector Technology: 1502614.3662225239\n",
      "alpha 2576.4022448301603\n",
      "Train profit for sector Healthcare: 1117332.9798858433\n",
      "1222947.2234215224 1502614.3662225239 1117332.9798858433\n",
      "0.3182359550319717 0.3910110826710351 0.29075296229699304\n"
     ]
    }
   ],
   "source": [
    "print('Assuming intial capital for each sector is 1000000')\n",
    "r1 = trade_train_zscore(df_train.iloc[:,0:3], 1000000, (0,0,0))\n",
    "print(f\"Train profit for sector {sector[0]}: {r1[-3][-1]}\")\n",
    "\n",
    "r2 = trade_train_zscore(df_train.iloc[:,3:6], 1000000, (0,0,0))\n",
    "print(f\"Train profit for sector {sector[1]}: {r2[-3][-1]}\")\n",
    "\n",
    "r3 = trade_train_zscore(df_train.iloc[:,6:9], 1000000, (0,0,0))\n",
    "print(f\"Train profit for sector {sector[2]}: {r3[-3][-1]}\")\n",
    "\n",
    "w1 = r1[-3][-1]\n",
    "w2 = r2[-3][-1]\n",
    "w3 = r3[-3][-1]\n",
    "print(w1,w2,w3)\n",
    "w1p = w1/(w1+w2+w3)\n",
    "w2p = w2/(w1+w2+w3)\n",
    "w3p = w3/(w1+w2+w3)\n",
    "print(w1p, w2p, w3p)"
   ]
  },
  {
   "cell_type": "markdown",
   "metadata": {},
   "source": [
    "## Train set result"
   ]
  },
  {
   "cell_type": "code",
   "execution_count": 20,
   "metadata": {},
   "outputs": [
    {
     "name": "stdout",
     "output_type": "stream",
     "text": [
      "alpha 873.5607176873721\n",
      "alpha 5209.773734439782\n",
      "alpha 749.0965847529919\n",
      "Initial capital 1000000.0\n",
      "R squared [0.9073135444224628, 0.9223908264957374, 0.9327714451541478]\n",
      "final Capital 1301592.5215469028\n",
      "Sharpe Ratio 1 0.12413869487990269\n",
      "Sharpe Ratio 2 0.10908361316516546\n",
      "Sharpe Ratio 3 0.27181448849535705\n",
      "Volatility 0.4549824663791915\n",
      "Daily Return 0.06210602717845451\n",
      "Annualized Return 15.650718848970536\n",
      "Daily Sharpe Ratio 0.13650202319377755\n",
      "Annualized Sharpe Ratio 2.1669024409674367\n"
     ]
    }
   ],
   "source": [
    "capital = 1000000\n",
    "position = (0,0,0)\n",
    "capital_progress_train_1, count1, count2, count3, zcore_train_1, action, value_list_train_1, return_daily_train_1, r1_train = trade_train_zscore(df_train.iloc[:,0:3], capital*w1p, position)\n",
    "capital_progress_train_2, count4, count5, count6, zcore_train_2, action, value_list_train_2, return_daily_train_2, r2_train = trade_train_zscore(df_train.iloc[:,3:6], capital*w2p, position)\n",
    "capital_progress_train_3, count7, count8, count9, zcore_train_3, action, value_list_train_3, return_daily_train_3, r3_train = trade_train_zscore(df_train.iloc[:,6:9], capital*w3p, position)\n",
    "\n",
    "print(\"Initial capital\", capital*w1p + capital*w2p + capital*w3p)\n",
    "capital_progress_train = np.sum([capital_progress_train_1, capital_progress_train_2, capital_progress_train_3], axis=0)\n",
    "assert len(capital_progress_train) == len(df_train)\n",
    "value_list_train = np.sum([value_list_train_1, value_list_train_2, value_list_train_3], axis=0)\n",
    "return_daily_train = np.sum([return_daily_train_1, return_daily_train_2, return_daily_train_3], axis=0)\n",
    "r_train = [r1_train, r2_train, r3_train]\n",
    "count = pd.DataFrame(np.array([count1, count2, count3, count4, count5, count6, count7, count8, count9]).T)\n",
    "volatility_train = compute_volatility(df_train, count)\n",
    "print(\"R squared\", r_train)\n",
    "print(\"final Capital\", value_list_train[-1])\n",
    "print(\"Sharpe Ratio 1\", np.mean(return_daily_train_1)/np.std(return_daily_train_1))\n",
    "print(\"Sharpe Ratio 2\", np.mean(return_daily_train_2)/np.std(return_daily_train_2))\n",
    "print(\"Sharpe Ratio 3\", np.mean(return_daily_train_3)/np.std(return_daily_train_3))\n",
    "\n",
    "#add by Shihan \n",
    "print(\"Volatility\",np.std(return_daily_train))\n",
    "\n",
    "print(\"Daily Return\",np.mean(return_daily_train))\n",
    "print(\"Annualized Return\", np.mean(return_daily_train)*252) #simple return\n",
    "      \n",
    "print(\"Daily Sharpe Ratio\", np.mean(return_daily_train)/np.std(return_daily_train))\n",
    "print(\"Annualized Sharpe Ratio\", np.mean(return_daily_train*252)/(np.std(return_daily_train)*np.sqrt(252))) ## daily return is independent, so portfolio var is 252*daily var     \n",
    "\n",
    "\n",
    "#print(\"Volatility\", np.mean(volatility_train))"
   ]
  },
  {
   "cell_type": "markdown",
   "metadata": {},
   "source": [
    "## Validation set result (with varying coefficients)"
   ]
  },
  {
   "cell_type": "code",
   "execution_count": 21,
   "metadata": {},
   "outputs": [
    {
     "name": "stdout",
     "output_type": "stream",
     "text": [
      "R-squared:  0.9073135444224628\n",
      "alpha 873\n",
      "R-squared:  0.9223908264957374\n",
      "alpha 5209\n",
      "R-squared:  0.9327714451541478\n",
      "alpha 750\n",
      "Profit as of month 2024-01-01 00:00:00 1031031.6664642154\n",
      "R-squared:  0.9304056384755947\n",
      "alpha 873\n",
      "R-squared:  0.9169243174154185\n",
      "alpha 5209\n",
      "R-squared:  0.9468654279102753\n",
      "alpha 750\n",
      "Profit as of month 2024-02-01 00:00:00 1063110.3211359144\n",
      "R-squared:  0.9375737592063652\n",
      "alpha 873\n",
      "R-squared:  0.83995912992975\n",
      "alpha 5209\n",
      "R-squared:  0.9605724584011917\n",
      "alpha 750\n",
      "Profit as of month 2024-03-01 00:00:00 1081037.8386368216\n",
      "R-squared:  0.9280665242491644\n",
      "alpha 873\n",
      "R-squared:  0.7051989493840165\n",
      "alpha 5209\n",
      "R-squared:  0.970512973217948\n",
      "alpha 750\n",
      "Profit as of month 2024-04-01 00:00:00 1107034.187119947\n",
      "R-squared:  0.9368735123971516\n",
      "alpha 873\n",
      "R-squared:  0.7444579018797086\n",
      "alpha 5209\n",
      "R-squared:  0.9693113605664718\n",
      "alpha 750\n",
      "Profit as of month 2024-05-01 00:00:00 1128565.5496209543\n",
      "R-squared:  0.9031692534836773\n",
      "alpha 873\n",
      "R-squared:  0.8045076684490372\n",
      "alpha 5209\n",
      "R-squared:  0.9558964460205389\n",
      "alpha 750\n",
      "Profit as of month 2024-06-01 00:00:00 1148697.2070553824\n",
      "Total profit 1148697.2070553824\n",
      "Volatility 0.5042510653749497\n",
      "Daily Return 0.1391107867168546\n",
      "Annualized Return 35.05591825264736\n",
      "Daily Sharpe Ratio 0.27587603927701165\n",
      "Annualized Sharpe Ratio 0.017378556966868092\n"
     ]
    }
   ],
   "source": [
    "# Validation set\n",
    "# Loop through 12 months since 2024 with month start date\n",
    "date_range = pd.date_range(start='2023-01-01', end='2024-07-01', freq='MS')\n",
    "\n",
    "capital = 1000000\n",
    "capital1 = capital*w1p\n",
    "capital2 = capital*w2p\n",
    "capital3 = capital*w3p\n",
    "\n",
    "position1 = (0,0,0)\n",
    "position2 = (0,0,0)\n",
    "position3 = (0,0,0)\n",
    "total_capital_progress_valid = []\n",
    "value_list_valid = []\n",
    "zscore_list_valid = []\n",
    "weightage_list = []\n",
    "date_index = []\n",
    "return_daily_valid = []\n",
    "r_valid_list = []\n",
    "volatility_valid_list = []\n",
    "for i in range(len(date_range)-1):\n",
    "    if date_range[i] >= train_date_end:\n",
    "        train_data = df.loc[date_range[i-12]:date_range[i] - relativedelta(minutes=1)]\n",
    "        test_data = df.loc[date_range[i]:date_range[i+1]- relativedelta(minutes=1)]\n",
    "        capital_progress_valid_1, count1, count2, count3, value_list_1, zscore_valid_1, w_1,action,return_daily_1,r1_valid = trade_test_zscore(train_data.iloc[:,0:3], test_data.iloc[:,0:3], capital1, position1, alpha = 873)\n",
    "        capital_progress_valid_2, count4, count5, count6, value_list_2, zscore_valid_2, w_2,action,return_daily_2,r2_valid = trade_test_zscore(train_data.iloc[:,3:6], test_data.iloc[:,3:6], capital2, position2, alpha = 5209)\n",
    "        capital_progress_valid_3, count7, count8, count9, value_list_3, zscore_valid_3, w_3,action,return_daily_3,r3_valid = trade_test_zscore(train_data.iloc[:,6:9], test_data.iloc[:,6:9], capital3, position3, alpha = 750)\n",
    "        #print(len(capital_progress_valid_1), len(capital_progress_valid_2), len(capital_progress_valid_3))\n",
    "        position1 = (count1[-1], count2[-1], count3[-1])\n",
    "        position2 = (count4[-1], count5[-1], count6[-1])\n",
    "        position3 = (count7[-1], count8[-1], count9[-1])\n",
    "        capital1 = capital_progress_valid_1[-1]\n",
    "        capital2 = capital_progress_valid_2[-1]\n",
    "        capital3 = capital_progress_valid_3[-1]    \n",
    "        \n",
    "        \n",
    "        total_capital_progress_valid += list(np.sum([capital_progress_valid_1, capital_progress_valid_2, capital_progress_valid_3], axis=0))\n",
    "        value_list_valid += list(np.sum([value_list_1, value_list_2, value_list_3], axis=0))\n",
    "        zscore_list_valid += list(np.sum([zscore_valid_1, zscore_valid_2, zscore_valid_3], axis=0))\n",
    "        weightage_list.append([w_1,w_2,w_3])\n",
    "        date_index += test_data.index.tolist()\n",
    "        return_daily_valid += list(np.sum([return_daily_1, return_daily_2, return_daily_3], axis=0))\n",
    "        r_valid_list.append([r1_valid, r2_valid, r3_valid])\n",
    "        count = pd.DataFrame(np.array([count1, count2, count3, count4, count5, count6, count7, count8, count9]).T)\n",
    "        volatility_valid = compute_volatility(test_data, count)\n",
    "        volatility_valid_list += list(volatility_valid)\n",
    "        #print('Adjusted weightage!')\n",
    "        print('Profit as of month', date_range[i], value_list_valid[-1])\n",
    "r_valid_list = np.array(r_valid_list)\n",
    "r_valid_list = np.mean(r_valid_list, axis=0)\n",
    "print(\"Total profit\", value_list_valid[-1])\n",
    "#print(\"Sharpe Ratio\", np.mean(return_daily_valid)/np.std(return_daily_valid))\n",
    "#print(\"Volatility valid\", np.mean(volatility_valid_list))\n",
    "\n",
    "###add by Shihan \n",
    "print(\"Volatility\",np.std(return_daily_valid))\n",
    "\n",
    "print(\"Daily Return\",np.mean(return_daily_valid))\n",
    "print(\"Annualized Return\", np.mean(return_daily_valid)*252) #simple return\n",
    "      \n",
    "print(\"Daily Sharpe Ratio\", np.mean(return_daily_valid)/np.std(return_daily_valid))\n",
    "print(\"Annualized Sharpe Ratio\", np.mean(return_daily_valid*252)/(np.std(return_daily_valid)*np.sqrt(252))) ## daily return is independent, so portfolio var is 252*daily var     \n",
    "\n"
   ]
  },
  {
   "cell_type": "markdown",
   "metadata": {},
   "source": [
    "## Test set result"
   ]
  },
  {
   "cell_type": "code",
   "execution_count": 22,
   "metadata": {},
   "outputs": [
    {
     "name": "stdout",
     "output_type": "stream",
     "text": [
      "R-squared:  0.8718649766189422\n",
      "alpha 873\n",
      "R-squared:  0.8104627500389892\n",
      "alpha 5209\n",
      "R-squared:  0.9408059358266601\n",
      "alpha 750\n",
      "Initial capital 1000000.0\n",
      "R squared [0.8718649766189422, 0.8104627500389892, 0.9408059358266601]\n",
      "final Capital 1040144.9217056148\n",
      "Sharpe Ratio 1 0.3584587203763022\n",
      "Sharpe Ratio 2 0.2622223709402193\n",
      "Sharpe Ratio 3 0.3911364099453592\n",
      "Sharpe Ratio 0.5106915570713647\n",
      "Volatility 0.3615553465874794\n",
      "Daily Return 0.18464326291623678\n",
      "Annualized Return 46.530102254891666\n",
      "Daily Sharpe Ratio 0.5106915570713647\n",
      "Annualized Sharpe Ratio 8.106977140027082\n"
     ]
    }
   ],
   "source": [
    "capital = 1000000\n",
    "position = (0,0,0)\n",
    "\n",
    "date_july = datetime(2024,7,1)\n",
    "train_data = df.loc[date_july - relativedelta(months = 12):date_july - relativedelta(minutes=1)]\n",
    "test_data = df.loc[date_july:]\n",
    "capital_progress_test_1, count1, count2, count3, value_list_test_1, zscore_test_1, w_1,action,return_daily_test_1,r1_test = trade_test_zscore(train_data.iloc[:,0:3], test_data.iloc[:,0:3], capital*w1p, position, alpha = 873)\n",
    "capital_progress_test_2, count4, count5, count6, value_list_test_2, zscore_test_2, w_2,action,return_daily_test_2,r2_test = trade_test_zscore(train_data.iloc[:,3:6], test_data.iloc[:,3:6], capital*w2p, position, alpha = 5209)\n",
    "capital_progress_test_3, count7, count8, count9, value_list_test_3, zscore_test_3, w_3,action,return_daily_test_3,r3_test = trade_test_zscore(train_data.iloc[:,6:9], test_data.iloc[:,6:9], capital*w3p, position, alpha = 750)\n",
    "\n",
    "print(\"Initial capital\", capital*w1p + capital*w2p + capital*w3p)\n",
    "capital_progress_test = np.sum([capital_progress_test_1, capital_progress_test_2, capital_progress_test_3], axis=0)\n",
    "assert len(capital_progress_test) == len(df_test)\n",
    "value_list_test = np.sum([value_list_test_1, value_list_test_2, value_list_test_3], axis=0)\n",
    "return_daily_test = np.sum([return_daily_test_1, return_daily_test_2, return_daily_test_3], axis=0)\n",
    "r_test = [r1_test, r2_test, r3_test]\n",
    "\n",
    "count = pd.DataFrame(np.array([count1, count2, count3, count4, count5, count6, count7, count8, count9]).T)\n",
    "volatility_test = compute_volatility(test_data, count)\n",
    "print(\"R squared\", r_test)\n",
    "print(\"final Capital\", value_list_test[-1])\n",
    "print(\"Sharpe Ratio 1\", np.mean(return_daily_test_1)/np.std(return_daily_test_1))\n",
    "print(\"Sharpe Ratio 2\", np.mean(return_daily_test_2)/np.std(return_daily_test_2))\n",
    "print(\"Sharpe Ratio 3\", np.mean(return_daily_test_3)/np.std(return_daily_test_3))\n",
    "print(\"Sharpe Ratio\", np.mean(return_daily_test)/np.std(return_daily_test))\n",
    "#print(\"Volatility test\", np.mean(volatility_test))\n",
    "\n",
    "\n",
    "###add by Shihan \n",
    "print(\"Volatility\",np.std(return_daily_test))\n",
    "\n",
    "print(\"Daily Return\",np.mean(return_daily_test))\n",
    "print(\"Annualized Return\", np.mean(return_daily_test)*252) #simple return\n",
    "      \n",
    "print(\"Daily Sharpe Ratio\", np.mean(return_daily_test)/np.std(return_daily_test))\n",
    "print(\"Annualized Sharpe Ratio\", np.mean(return_daily_test*252)/(np.std(return_daily_test)*np.sqrt(252))) ## daily return is independent, so portfolio var is 252*daily var     \n"
   ]
  },
  {
   "cell_type": "code",
   "execution_count": null,
   "metadata": {},
   "outputs": [],
   "source": []
  },
  {
   "cell_type": "markdown",
   "metadata": {},
   "source": [
    "## End Summary of Result (Train，Validation, Test)\n",
    "\n"
   ]
  },
  {
   "cell_type": "code",
   "execution_count": 23,
   "metadata": {},
   "outputs": [
    {
     "data": {
      "text/markdown": [
       "\n",
       "# Final Result\n",
       "\n",
       "### Stocks selected: **['AAOI', 'ALKT', 'VRNS', 'AAL', 'ADSE', 'ULCC', 'AACI', 'ABCB', 'ORRF']**\n",
       "\n",
       "### Training set\n",
       "\n",
       "Total Profit: **1,301,593**\n",
       "\n",
       "Profit Margin: **30.16%**\n",
       "\n",
       "r-squared: **[0.9073135444224628, 0.9223908264957374, 0.9327714451541478]**\n",
       "\n",
       "\n",
       "Daily Return:**6.21 %**\n",
       "\n",
       "Annual Return: **1565.07 %**\n",
       "\n",
       "\n",
       "Volatility: **45.50 %**\n",
       "\n",
       "      \n",
       "Daily Sharpe Ratio: **13.65 %**\n",
       "\n",
       "Annualized Sharpe Ratio: **216.69 %**\n",
       "\n",
       "\n",
       "### Validation set\n",
       "\n",
       "Total Profit: **1,148,697**\n",
       "\n",
       "Profit Margin: **14.87%**\n",
       "\n",
       "r-squared: **[0.92390037 0.8222398  0.95598835]**\n",
       "\n",
       "\n",
       "Daily Return:**13.91 %**\n",
       "\n",
       "Annual Return: **3505.59 %**\n",
       "\n",
       "\n",
       "Volatility: **50.43 %**\n",
       "\n",
       "      \n",
       "Daily Sharpe Ratio: **27.59 %**\n",
       "\n",
       "Annualized Sharpe Ratio: **437.94 %**\n",
       "\n",
       "\n",
       "\n",
       "\n",
       "### Test set\n",
       "\n",
       "Total Profit: **1,040,145**\n",
       "\n",
       "Profit Margin: **4.01%**\n",
       "\n",
       "r-squared: **[0.8718649766189422, 0.8104627500389892, 0.9408059358266601]**\n",
       "\n",
       "\n",
       "Daily Return:**18.46 %**\n",
       "\n",
       "Annual Return: **4653.01 %**\n",
       "\n",
       "\n",
       "Volatility: **36.16 %**\n",
       "\n",
       "      \n",
       "Daily Sharpe Ratio: **51.07 %**\n",
       "\n",
       "Annualized Sharpe Ratio: **810.70 %**\n",
       "\n",
       "\n"
      ],
      "text/plain": [
       "<IPython.core.display.Markdown object>"
      ]
     },
     "metadata": {},
     "output_type": "display_data"
    }
   ],
   "source": [
    "from IPython.display import Markdown\n",
    "\n",
    "print_md = lambda x: display(Markdown(x))\n",
    "\n",
    "print_md(f\"\"\"\n",
    "# Final Result\n",
    "\n",
    "### Stocks selected: **{all_tickers}**\n",
    "\n",
    "### Training set\n",
    "\n",
    "Profit Margin: **{((value_list_train[-1]/(capital*w1p + capital*w2p + capital*w3p)) - 1)*100:.2f}%**\n",
    "\n",
    "r-squared: **{r_train}**\n",
    "\n",
    "\n",
    "Daily Return:**{np.mean(return_daily_train)*100:.2f} %**\n",
    "\n",
    "Annual Return: **{np.mean(return_daily_train)*252*100:.2f} %**\n",
    "\n",
    "\n",
    "Volatility: **{ np.std(return_daily_train)*100:.2f} %**\n",
    "\n",
    "      \n",
    "Daily Sharpe Ratio: **{ np.mean(return_daily_train)/np.std(return_daily_train)*100:.2f} %**\n",
    "\n",
    "Annualized Sharpe Ratio: **{ np.mean(return_daily_train)*252/(np.std(return_daily_train)*np.sqrt(252))*100:.2f} %**\n",
    "\n",
    "\n",
    "### Validation set\n",
    "\n",
    "Profit Margin: **{((value_list_valid[-1]/(capital*w1p + capital*w2p + capital*w3p))-1)*100:.2f}%**\n",
    "\n",
    "r-squared: **{r_valid_list}**\n",
    "\n",
    "\n",
    "Daily Return:**{np.mean(return_daily_valid)*100:.2f} %**\n",
    "\n",
    "Annual Return: **{np.mean(return_daily_valid)*252*100:.2f} %**\n",
    "\n",
    "\n",
    "Volatility: **{ np.std(return_daily_valid)*100:.2f} %**\n",
    "\n",
    "      \n",
    "Daily Sharpe Ratio: **{ np.mean(return_daily_valid)/np.std(return_daily_valid)*100:.2f} %**\n",
    "\n",
    "Annualized Sharpe Ratio: **{ 100*np.mean(return_daily_valid)*252/(np.std(return_daily_valid)*np.sqrt(252)):.2f} %**\n",
    "\n",
    "\n",
    "\n",
    "\n",
    "### Test set\n",
    "\n",
    "Profit Margin: **{(value_list_test[-1]/(capital*w1p + capital*w2p + capital*w3p)-1)*100:.2f}%**\n",
    "\n",
    "r-squared: **{r_test}**\n",
    "\n",
    "\n",
    "Daily Return:**{np.mean(return_daily_test)*100:.2f} %**\n",
    "\n",
    "Annual Return: **{np.mean(return_daily_test)*252*100:.2f} %**\n",
    "\n",
    "\n",
    "Volatility: **{ np.std(return_daily_test)*100:.2f} %**\n",
    "\n",
    "      \n",
    "Daily Sharpe Ratio: **{ np.mean(return_daily_test)/np.std(return_daily_test)*100:.2f} %**\n",
    "\n",
    "Annualized Sharpe Ratio: **{ np.mean(return_daily_test)*252/(np.std(return_daily_test)*np.sqrt(252))*100:.2f} %**\n",
    "\n",
    "\n",
    "\"\"\")"
   ]
  },
  {
   "cell_type": "markdown",
   "metadata": {},
   "source": [
    "## Appendix (Plotting)"
   ]
  },
  {
   "cell_type": "markdown",
   "metadata": {},
   "source": [
    "# Train plot"
   ]
  },
  {
   "cell_type": "code",
   "execution_count": 345,
   "metadata": {},
   "outputs": [
    {
     "data": {
      "application/vnd.plotly.v1+json": {
       "config": {
        "plotlyServerURL": "https://plot.ly"
       },
       "data": [
        {
         "hovertemplate": "x=%{x}<br>y=%{y}<extra></extra>",
         "legendgroup": "",
         "line": {
          "color": "#636efa",
          "dash": "solid"
         },
         "marker": {
          "symbol": "circle"
         },
         "mode": "lines",
         "name": "",
         "orientation": "v",
         "showlegend": false,
         "type": "scatter",
         "x": [
          "2023-01-03T00:00:00",
          "2023-01-04T00:00:00",
          "2023-01-05T00:00:00",
          "2023-01-06T00:00:00",
          "2023-01-09T00:00:00",
          "2023-01-10T00:00:00",
          "2023-01-11T00:00:00",
          "2023-01-12T00:00:00",
          "2023-01-13T00:00:00",
          "2023-01-17T00:00:00",
          "2023-01-18T00:00:00",
          "2023-01-19T00:00:00",
          "2023-01-20T00:00:00",
          "2023-01-23T00:00:00",
          "2023-01-24T00:00:00",
          "2023-01-25T00:00:00",
          "2023-01-26T00:00:00",
          "2023-01-27T00:00:00",
          "2023-01-30T00:00:00",
          "2023-01-31T00:00:00",
          "2023-02-01T00:00:00",
          "2023-02-02T00:00:00",
          "2023-02-03T00:00:00",
          "2023-02-06T00:00:00",
          "2023-02-07T00:00:00",
          "2023-02-08T00:00:00",
          "2023-02-09T00:00:00",
          "2023-02-10T00:00:00",
          "2023-02-13T00:00:00",
          "2023-02-14T00:00:00",
          "2023-02-15T00:00:00",
          "2023-02-16T00:00:00",
          "2023-02-17T00:00:00",
          "2023-02-21T00:00:00",
          "2023-02-22T00:00:00",
          "2023-02-23T00:00:00",
          "2023-02-24T00:00:00",
          "2023-02-27T00:00:00",
          "2023-02-28T00:00:00",
          "2023-03-01T00:00:00",
          "2023-03-02T00:00:00",
          "2023-03-03T00:00:00",
          "2023-03-06T00:00:00",
          "2023-03-07T00:00:00",
          "2023-03-08T00:00:00",
          "2023-03-09T00:00:00",
          "2023-03-10T00:00:00",
          "2023-03-13T00:00:00",
          "2023-03-14T00:00:00",
          "2023-03-15T00:00:00",
          "2023-03-16T00:00:00",
          "2023-03-17T00:00:00",
          "2023-03-20T00:00:00",
          "2023-03-21T00:00:00",
          "2023-03-22T00:00:00",
          "2023-03-23T00:00:00",
          "2023-03-24T00:00:00",
          "2023-03-27T00:00:00",
          "2023-03-28T00:00:00",
          "2023-03-29T00:00:00",
          "2023-03-30T00:00:00",
          "2023-03-31T00:00:00",
          "2023-04-03T00:00:00",
          "2023-04-04T00:00:00",
          "2023-04-05T00:00:00",
          "2023-04-06T00:00:00",
          "2023-04-10T00:00:00",
          "2023-04-11T00:00:00",
          "2023-04-12T00:00:00",
          "2023-04-13T00:00:00",
          "2023-04-14T00:00:00",
          "2023-04-17T00:00:00",
          "2023-04-18T00:00:00",
          "2023-04-19T00:00:00",
          "2023-04-20T00:00:00",
          "2023-04-21T00:00:00",
          "2023-04-24T00:00:00",
          "2023-04-25T00:00:00",
          "2023-04-26T00:00:00",
          "2023-04-27T00:00:00",
          "2023-04-28T00:00:00",
          "2023-05-01T00:00:00",
          "2023-05-02T00:00:00",
          "2023-05-03T00:00:00",
          "2023-05-04T00:00:00",
          "2023-05-05T00:00:00",
          "2023-05-08T00:00:00",
          "2023-05-09T00:00:00",
          "2023-05-10T00:00:00",
          "2023-05-11T00:00:00",
          "2023-05-12T00:00:00",
          "2023-05-15T00:00:00",
          "2023-05-16T00:00:00",
          "2023-05-17T00:00:00",
          "2023-05-18T00:00:00",
          "2023-05-19T00:00:00",
          "2023-05-22T00:00:00",
          "2023-05-23T00:00:00",
          "2023-05-24T00:00:00",
          "2023-05-25T00:00:00",
          "2023-05-26T00:00:00",
          "2023-05-30T00:00:00",
          "2023-05-31T00:00:00",
          "2023-06-01T00:00:00",
          "2023-06-02T00:00:00",
          "2023-06-05T00:00:00",
          "2023-06-06T00:00:00",
          "2023-06-07T00:00:00",
          "2023-06-08T00:00:00",
          "2023-06-09T00:00:00",
          "2023-06-12T00:00:00",
          "2023-06-13T00:00:00",
          "2023-06-14T00:00:00",
          "2023-06-15T00:00:00",
          "2023-06-16T00:00:00",
          "2023-06-20T00:00:00",
          "2023-06-21T00:00:00",
          "2023-06-22T00:00:00",
          "2023-06-23T00:00:00",
          "2023-06-26T00:00:00",
          "2023-06-27T00:00:00",
          "2023-06-28T00:00:00",
          "2023-06-29T00:00:00",
          "2023-06-30T00:00:00",
          "2023-07-03T00:00:00",
          "2023-07-05T00:00:00",
          "2023-07-06T00:00:00",
          "2023-07-07T00:00:00",
          "2023-07-10T00:00:00",
          "2023-07-11T00:00:00",
          "2023-07-12T00:00:00",
          "2023-07-13T00:00:00",
          "2023-07-14T00:00:00",
          "2023-07-17T00:00:00",
          "2023-07-18T00:00:00",
          "2023-07-19T00:00:00",
          "2023-07-20T00:00:00",
          "2023-07-21T00:00:00",
          "2023-07-24T00:00:00",
          "2023-07-25T00:00:00",
          "2023-07-26T00:00:00",
          "2023-07-27T00:00:00",
          "2023-07-28T00:00:00",
          "2023-07-31T00:00:00",
          "2023-08-01T00:00:00",
          "2023-08-02T00:00:00",
          "2023-08-03T00:00:00",
          "2023-08-04T00:00:00",
          "2023-08-07T00:00:00",
          "2023-08-08T00:00:00",
          "2023-08-09T00:00:00",
          "2023-08-10T00:00:00",
          "2023-08-11T00:00:00",
          "2023-08-14T00:00:00",
          "2023-08-15T00:00:00",
          "2023-08-16T00:00:00",
          "2023-08-17T00:00:00",
          "2023-08-18T00:00:00",
          "2023-08-21T00:00:00",
          "2023-08-22T00:00:00",
          "2023-08-23T00:00:00",
          "2023-08-24T00:00:00",
          "2023-08-25T00:00:00",
          "2023-08-28T00:00:00",
          "2023-08-29T00:00:00",
          "2023-08-30T00:00:00",
          "2023-08-31T00:00:00",
          "2023-09-01T00:00:00",
          "2023-09-05T00:00:00",
          "2023-09-06T00:00:00",
          "2023-09-07T00:00:00",
          "2023-09-08T00:00:00",
          "2023-09-11T00:00:00",
          "2023-09-12T00:00:00",
          "2023-09-13T00:00:00",
          "2023-09-14T00:00:00",
          "2023-09-15T00:00:00",
          "2023-09-18T00:00:00",
          "2023-09-19T00:00:00",
          "2023-09-20T00:00:00",
          "2023-09-21T00:00:00",
          "2023-09-22T00:00:00",
          "2023-09-25T00:00:00",
          "2023-09-26T00:00:00",
          "2023-09-27T00:00:00",
          "2023-09-28T00:00:00",
          "2023-09-29T00:00:00",
          "2023-10-02T00:00:00",
          "2023-10-03T00:00:00",
          "2023-10-04T00:00:00",
          "2023-10-05T00:00:00",
          "2023-10-06T00:00:00",
          "2023-10-09T00:00:00",
          "2023-10-10T00:00:00",
          "2023-10-11T00:00:00",
          "2023-10-12T00:00:00",
          "2023-10-13T00:00:00",
          "2023-10-16T00:00:00",
          "2023-10-17T00:00:00",
          "2023-10-18T00:00:00",
          "2023-10-19T00:00:00",
          "2023-10-20T00:00:00",
          "2023-10-23T00:00:00",
          "2023-10-24T00:00:00",
          "2023-10-25T00:00:00",
          "2023-10-26T00:00:00",
          "2023-10-27T00:00:00",
          "2023-10-30T00:00:00",
          "2023-10-31T00:00:00",
          "2023-11-01T00:00:00",
          "2023-11-02T00:00:00",
          "2023-11-03T00:00:00",
          "2023-11-06T00:00:00",
          "2023-11-07T00:00:00",
          "2023-11-08T00:00:00",
          "2023-11-09T00:00:00",
          "2023-11-10T00:00:00",
          "2023-11-13T00:00:00",
          "2023-11-14T00:00:00",
          "2023-11-15T00:00:00",
          "2023-11-16T00:00:00",
          "2023-11-17T00:00:00",
          "2023-11-20T00:00:00",
          "2023-11-21T00:00:00",
          "2023-11-22T00:00:00",
          "2023-11-24T00:00:00",
          "2023-11-27T00:00:00",
          "2023-11-28T00:00:00",
          "2023-11-29T00:00:00",
          "2023-11-30T00:00:00",
          "2023-12-01T00:00:00",
          "2023-12-04T00:00:00",
          "2023-12-05T00:00:00",
          "2023-12-06T00:00:00",
          "2023-12-07T00:00:00",
          "2023-12-08T00:00:00",
          "2023-12-11T00:00:00",
          "2023-12-12T00:00:00",
          "2023-12-13T00:00:00",
          "2023-12-14T00:00:00",
          "2023-12-15T00:00:00",
          "2023-12-18T00:00:00",
          "2023-12-19T00:00:00",
          "2023-12-20T00:00:00",
          "2023-12-21T00:00:00",
          "2023-12-22T00:00:00",
          "2023-12-26T00:00:00",
          "2023-12-27T00:00:00",
          "2023-12-28T00:00:00",
          "2023-12-29T00:00:00"
         ],
         "xaxis": "x",
         "y": [
          1000000,
          1000000,
          1000000,
          1001404.1207051182,
          1006030.1649821904,
          1007497.9323538501,
          1001944.9791784545,
          1016526.0557558849,
          1014150.6938748923,
          1016791.5176203577,
          1013297.9392850106,
          1010382.5282469387,
          1007865.5708191707,
          1001371.9692957124,
          992817.8941511831,
          1010211.5417877436,
          1022148.4584308458,
          1027397.1002325742,
          1007728.979609567,
          998808.8775315078,
          1009357.7070321944,
          995734.1542170716,
          974625.5630459276,
          976012.5168963736,
          981120.0375833935,
          980933.7119291634,
          1000163.7744002508,
          1000163.7744002508,
          1000163.7744002508,
          1000163.7744002508,
          1000163.7744002508,
          1000168.226728312,
          1000697.7523391041,
          1000857.9957375864,
          1000807.9642779913,
          1000777.6349610158,
          1000026.3925122935,
          1000178.8338415761,
          1000139.7373197316,
          1001292.6013751116,
          1002377.6686815798,
          1001517.3005578364,
          999297.3070609642,
          1005380.3406341486,
          1005380.3406341486,
          1005380.3406341486,
          1005380.3406341486,
          1005380.3406341486,
          1005656.8777725691,
          1005223.3790076687,
          1007023.6483723075,
          1008645.2088639082,
          1004770.6195363419,
          1004770.6195363419,
          1004770.6195363419,
          1004685.2841469274,
          1006143.272786461,
          1006570.7906055982,
          1008997.3740403531,
          1010976.8071552106,
          1011458.5399094496,
          1008242.9834690194,
          1011459.1534014428,
          1008445.430358605,
          1016158.6209084303,
          1011433.8347849709,
          1016312.8512820023,
          1015304.020184289,
          1018101.8784326952,
          1017467.6982757725,
          1016460.8519792828,
          1018804.4622361647,
          1012891.187612533,
          1012988.0349223884,
          1024052.9967983352,
          1020941.4940221229,
          1028611.1732093423,
          1035550.0050598042,
          1032323.6500737761,
          1043065.9220387298,
          1040530.3021058093,
          1035789.5249949859,
          1019419.0858084876,
          1031680.5281005817,
          1046316.6209738876,
          1047511.9921590597,
          1049288.8152063643,
          1047778.4122635967,
          1048089.6348480039,
          1055039.7555354137,
          1056096.2806872556,
          1057239.064331519,
          1065404.2429419663,
          1066271.93538044,
          1071846.4886140665,
          1081737.9558334758,
          1082645.834073379,
          1081572.3972237192,
          1080670.814533277,
          1083470.648428681,
          1078076.7898441446,
          1084314.462379824,
          1087892.3930750727,
          1083173.5044072296,
          1062833.5739704722,
          1062833.5739704722,
          1060871.4975614573,
          1060871.4975614573,
          1062239.7174858742,
          1063874.415167472,
          1069706.6348306285,
          1067571.3383275464,
          1072387.7394409901,
          1074876.6025601977,
          1073559.6748479523,
          1078854.1064737565,
          1083176.3060752412,
          1090710.5067726143,
          1089910.1578425472,
          1089335.401743373,
          1088143.1539971305,
          1089925.4327239702,
          1093997.5303844602,
          1095598.3695997833,
          1094922.1373505117,
          1093920.1209941236,
          1098121.478677175,
          1095716.9893511094,
          1097755.363506992,
          1078630.7272940457,
          1077284.433330869,
          1077999.8084190732,
          1078009.6516077411,
          1073924.7451700598,
          1068620.4704881199,
          1079319.94108096,
          1108735.8317506718,
          1099484.409455087,
          1118274.8765819331,
          1122178.9940293632,
          1126373.5794369944,
          1135365.903473428,
          1133346.5033045413,
          1136431.3248547988,
          1156369.1592004197,
          1157096.067223366,
          1157096.067223366,
          1157096.067223366,
          1157096.067223366,
          1157096.0672233661,
          1160918.1427508672,
          1164515.3524459617,
          1164515.3524459617,
          1164515.3524459617,
          1164515.3524459617,
          1164515.3524459617,
          1164515.3524459617,
          1164515.3524459614,
          1166039.7338921798,
          1163932.2545368276,
          1162121.8678117716,
          1161240.2213745215,
          1169466.2389472649,
          1171912.83888989,
          1171993.3660205656,
          1172207.057382568,
          1178170.7936470984,
          1174120.8906640548,
          1173705.536631636,
          1180313.23734084,
          1177184.1345525873,
          1174224.2032736735,
          1173593.1407363426,
          1172224.1832079533,
          1169272.1261140304,
          1173596.5538580758,
          1179439.589036307,
          1185427.5035704058,
          1180778.9349571527,
          1182365.0028353895,
          1185690.433684299,
          1185562.067505973,
          1187266.4215806844,
          1182961.6608198015,
          1182741.1543636168,
          1184605.0417632237,
          1189734.793486158,
          1200105.6616811194,
          1202172.1056872471,
          1204885.1483601453,
          1204556.8916661758,
          1206836.6064919285,
          1207648.5177592374,
          1207685.0041425002,
          1207738.895949542,
          1208296.516338915,
          1208168.9783423874,
          1207988.600443197,
          1208306.3848046716,
          1207737.366381607,
          1208429.4772040055,
          1209326.4038400596,
          1210071.2420313847,
          1210522.1710942008,
          1211221.0016851225,
          1211221.0016851225,
          1211221.0016851225,
          1211221.0016851225,
          1211221.0016851225,
          1211034.2446624448,
          1215557.2544328978,
          1216016.5611630054,
          1215898.9575264868,
          1215954.7790219593,
          1215704.5721515026,
          1215858.0390882408,
          1216009.0098825935,
          1216012.938456866,
          1216692.6022749427,
          1217072.8186415357,
          1217429.650201281,
          1217004.839105415,
          1217220.5304168917,
          1217220.5304168917,
          1217220.5304168917,
          1217220.5304168917,
          1217220.5304168917,
          1217220.5304168917,
          1217220.5304168917,
          1216438.0811624387,
          1215999.1197045706,
          1211555.087779741,
          1219932.5501936527,
          1218172.6620456232,
          1216804.1362606727,
          1217869.8830585412,
          1218537.4760554682,
          1199863.7738456067,
          1218887.42857603,
          1201918.7370996024,
          1200744.4291357663,
          1219946.283152253,
          1214269.296027999,
          1231946.7916414228,
          1228515.6761918196,
          1251532.8364932616,
          1272874.0672855214,
          1275047.3624717952,
          1293433.008454964,
          1301592.5215469028
         ],
         "yaxis": "y"
        }
       ],
       "layout": {
        "legend": {
         "tracegroupgap": 0
        },
        "template": {
         "data": {
          "bar": [
           {
            "error_x": {
             "color": "#2a3f5f"
            },
            "error_y": {
             "color": "#2a3f5f"
            },
            "marker": {
             "line": {
              "color": "#E5ECF6",
              "width": 0.5
             },
             "pattern": {
              "fillmode": "overlay",
              "size": 10,
              "solidity": 0.2
             }
            },
            "type": "bar"
           }
          ],
          "barpolar": [
           {
            "marker": {
             "line": {
              "color": "#E5ECF6",
              "width": 0.5
             },
             "pattern": {
              "fillmode": "overlay",
              "size": 10,
              "solidity": 0.2
             }
            },
            "type": "barpolar"
           }
          ],
          "carpet": [
           {
            "aaxis": {
             "endlinecolor": "#2a3f5f",
             "gridcolor": "white",
             "linecolor": "white",
             "minorgridcolor": "white",
             "startlinecolor": "#2a3f5f"
            },
            "baxis": {
             "endlinecolor": "#2a3f5f",
             "gridcolor": "white",
             "linecolor": "white",
             "minorgridcolor": "white",
             "startlinecolor": "#2a3f5f"
            },
            "type": "carpet"
           }
          ],
          "choropleth": [
           {
            "colorbar": {
             "outlinewidth": 0,
             "ticks": ""
            },
            "type": "choropleth"
           }
          ],
          "contour": [
           {
            "colorbar": {
             "outlinewidth": 0,
             "ticks": ""
            },
            "colorscale": [
             [
              0,
              "#0d0887"
             ],
             [
              0.1111111111111111,
              "#46039f"
             ],
             [
              0.2222222222222222,
              "#7201a8"
             ],
             [
              0.3333333333333333,
              "#9c179e"
             ],
             [
              0.4444444444444444,
              "#bd3786"
             ],
             [
              0.5555555555555556,
              "#d8576b"
             ],
             [
              0.6666666666666666,
              "#ed7953"
             ],
             [
              0.7777777777777778,
              "#fb9f3a"
             ],
             [
              0.8888888888888888,
              "#fdca26"
             ],
             [
              1,
              "#f0f921"
             ]
            ],
            "type": "contour"
           }
          ],
          "contourcarpet": [
           {
            "colorbar": {
             "outlinewidth": 0,
             "ticks": ""
            },
            "type": "contourcarpet"
           }
          ],
          "heatmap": [
           {
            "colorbar": {
             "outlinewidth": 0,
             "ticks": ""
            },
            "colorscale": [
             [
              0,
              "#0d0887"
             ],
             [
              0.1111111111111111,
              "#46039f"
             ],
             [
              0.2222222222222222,
              "#7201a8"
             ],
             [
              0.3333333333333333,
              "#9c179e"
             ],
             [
              0.4444444444444444,
              "#bd3786"
             ],
             [
              0.5555555555555556,
              "#d8576b"
             ],
             [
              0.6666666666666666,
              "#ed7953"
             ],
             [
              0.7777777777777778,
              "#fb9f3a"
             ],
             [
              0.8888888888888888,
              "#fdca26"
             ],
             [
              1,
              "#f0f921"
             ]
            ],
            "type": "heatmap"
           }
          ],
          "heatmapgl": [
           {
            "colorbar": {
             "outlinewidth": 0,
             "ticks": ""
            },
            "colorscale": [
             [
              0,
              "#0d0887"
             ],
             [
              0.1111111111111111,
              "#46039f"
             ],
             [
              0.2222222222222222,
              "#7201a8"
             ],
             [
              0.3333333333333333,
              "#9c179e"
             ],
             [
              0.4444444444444444,
              "#bd3786"
             ],
             [
              0.5555555555555556,
              "#d8576b"
             ],
             [
              0.6666666666666666,
              "#ed7953"
             ],
             [
              0.7777777777777778,
              "#fb9f3a"
             ],
             [
              0.8888888888888888,
              "#fdca26"
             ],
             [
              1,
              "#f0f921"
             ]
            ],
            "type": "heatmapgl"
           }
          ],
          "histogram": [
           {
            "marker": {
             "pattern": {
              "fillmode": "overlay",
              "size": 10,
              "solidity": 0.2
             }
            },
            "type": "histogram"
           }
          ],
          "histogram2d": [
           {
            "colorbar": {
             "outlinewidth": 0,
             "ticks": ""
            },
            "colorscale": [
             [
              0,
              "#0d0887"
             ],
             [
              0.1111111111111111,
              "#46039f"
             ],
             [
              0.2222222222222222,
              "#7201a8"
             ],
             [
              0.3333333333333333,
              "#9c179e"
             ],
             [
              0.4444444444444444,
              "#bd3786"
             ],
             [
              0.5555555555555556,
              "#d8576b"
             ],
             [
              0.6666666666666666,
              "#ed7953"
             ],
             [
              0.7777777777777778,
              "#fb9f3a"
             ],
             [
              0.8888888888888888,
              "#fdca26"
             ],
             [
              1,
              "#f0f921"
             ]
            ],
            "type": "histogram2d"
           }
          ],
          "histogram2dcontour": [
           {
            "colorbar": {
             "outlinewidth": 0,
             "ticks": ""
            },
            "colorscale": [
             [
              0,
              "#0d0887"
             ],
             [
              0.1111111111111111,
              "#46039f"
             ],
             [
              0.2222222222222222,
              "#7201a8"
             ],
             [
              0.3333333333333333,
              "#9c179e"
             ],
             [
              0.4444444444444444,
              "#bd3786"
             ],
             [
              0.5555555555555556,
              "#d8576b"
             ],
             [
              0.6666666666666666,
              "#ed7953"
             ],
             [
              0.7777777777777778,
              "#fb9f3a"
             ],
             [
              0.8888888888888888,
              "#fdca26"
             ],
             [
              1,
              "#f0f921"
             ]
            ],
            "type": "histogram2dcontour"
           }
          ],
          "mesh3d": [
           {
            "colorbar": {
             "outlinewidth": 0,
             "ticks": ""
            },
            "type": "mesh3d"
           }
          ],
          "parcoords": [
           {
            "line": {
             "colorbar": {
              "outlinewidth": 0,
              "ticks": ""
             }
            },
            "type": "parcoords"
           }
          ],
          "pie": [
           {
            "automargin": true,
            "type": "pie"
           }
          ],
          "scatter": [
           {
            "fillpattern": {
             "fillmode": "overlay",
             "size": 10,
             "solidity": 0.2
            },
            "type": "scatter"
           }
          ],
          "scatter3d": [
           {
            "line": {
             "colorbar": {
              "outlinewidth": 0,
              "ticks": ""
             }
            },
            "marker": {
             "colorbar": {
              "outlinewidth": 0,
              "ticks": ""
             }
            },
            "type": "scatter3d"
           }
          ],
          "scattercarpet": [
           {
            "marker": {
             "colorbar": {
              "outlinewidth": 0,
              "ticks": ""
             }
            },
            "type": "scattercarpet"
           }
          ],
          "scattergeo": [
           {
            "marker": {
             "colorbar": {
              "outlinewidth": 0,
              "ticks": ""
             }
            },
            "type": "scattergeo"
           }
          ],
          "scattergl": [
           {
            "marker": {
             "colorbar": {
              "outlinewidth": 0,
              "ticks": ""
             }
            },
            "type": "scattergl"
           }
          ],
          "scattermapbox": [
           {
            "marker": {
             "colorbar": {
              "outlinewidth": 0,
              "ticks": ""
             }
            },
            "type": "scattermapbox"
           }
          ],
          "scatterpolar": [
           {
            "marker": {
             "colorbar": {
              "outlinewidth": 0,
              "ticks": ""
             }
            },
            "type": "scatterpolar"
           }
          ],
          "scatterpolargl": [
           {
            "marker": {
             "colorbar": {
              "outlinewidth": 0,
              "ticks": ""
             }
            },
            "type": "scatterpolargl"
           }
          ],
          "scatterternary": [
           {
            "marker": {
             "colorbar": {
              "outlinewidth": 0,
              "ticks": ""
             }
            },
            "type": "scatterternary"
           }
          ],
          "surface": [
           {
            "colorbar": {
             "outlinewidth": 0,
             "ticks": ""
            },
            "colorscale": [
             [
              0,
              "#0d0887"
             ],
             [
              0.1111111111111111,
              "#46039f"
             ],
             [
              0.2222222222222222,
              "#7201a8"
             ],
             [
              0.3333333333333333,
              "#9c179e"
             ],
             [
              0.4444444444444444,
              "#bd3786"
             ],
             [
              0.5555555555555556,
              "#d8576b"
             ],
             [
              0.6666666666666666,
              "#ed7953"
             ],
             [
              0.7777777777777778,
              "#fb9f3a"
             ],
             [
              0.8888888888888888,
              "#fdca26"
             ],
             [
              1,
              "#f0f921"
             ]
            ],
            "type": "surface"
           }
          ],
          "table": [
           {
            "cells": {
             "fill": {
              "color": "#EBF0F8"
             },
             "line": {
              "color": "white"
             }
            },
            "header": {
             "fill": {
              "color": "#C8D4E3"
             },
             "line": {
              "color": "white"
             }
            },
            "type": "table"
           }
          ]
         },
         "layout": {
          "annotationdefaults": {
           "arrowcolor": "#2a3f5f",
           "arrowhead": 0,
           "arrowwidth": 1
          },
          "autotypenumbers": "strict",
          "coloraxis": {
           "colorbar": {
            "outlinewidth": 0,
            "ticks": ""
           }
          },
          "colorscale": {
           "diverging": [
            [
             0,
             "#8e0152"
            ],
            [
             0.1,
             "#c51b7d"
            ],
            [
             0.2,
             "#de77ae"
            ],
            [
             0.3,
             "#f1b6da"
            ],
            [
             0.4,
             "#fde0ef"
            ],
            [
             0.5,
             "#f7f7f7"
            ],
            [
             0.6,
             "#e6f5d0"
            ],
            [
             0.7,
             "#b8e186"
            ],
            [
             0.8,
             "#7fbc41"
            ],
            [
             0.9,
             "#4d9221"
            ],
            [
             1,
             "#276419"
            ]
           ],
           "sequential": [
            [
             0,
             "#0d0887"
            ],
            [
             0.1111111111111111,
             "#46039f"
            ],
            [
             0.2222222222222222,
             "#7201a8"
            ],
            [
             0.3333333333333333,
             "#9c179e"
            ],
            [
             0.4444444444444444,
             "#bd3786"
            ],
            [
             0.5555555555555556,
             "#d8576b"
            ],
            [
             0.6666666666666666,
             "#ed7953"
            ],
            [
             0.7777777777777778,
             "#fb9f3a"
            ],
            [
             0.8888888888888888,
             "#fdca26"
            ],
            [
             1,
             "#f0f921"
            ]
           ],
           "sequentialminus": [
            [
             0,
             "#0d0887"
            ],
            [
             0.1111111111111111,
             "#46039f"
            ],
            [
             0.2222222222222222,
             "#7201a8"
            ],
            [
             0.3333333333333333,
             "#9c179e"
            ],
            [
             0.4444444444444444,
             "#bd3786"
            ],
            [
             0.5555555555555556,
             "#d8576b"
            ],
            [
             0.6666666666666666,
             "#ed7953"
            ],
            [
             0.7777777777777778,
             "#fb9f3a"
            ],
            [
             0.8888888888888888,
             "#fdca26"
            ],
            [
             1,
             "#f0f921"
            ]
           ]
          },
          "colorway": [
           "#636efa",
           "#EF553B",
           "#00cc96",
           "#ab63fa",
           "#FFA15A",
           "#19d3f3",
           "#FF6692",
           "#B6E880",
           "#FF97FF",
           "#FECB52"
          ],
          "font": {
           "color": "#2a3f5f"
          },
          "geo": {
           "bgcolor": "white",
           "lakecolor": "white",
           "landcolor": "#E5ECF6",
           "showlakes": true,
           "showland": true,
           "subunitcolor": "white"
          },
          "hoverlabel": {
           "align": "left"
          },
          "hovermode": "closest",
          "mapbox": {
           "style": "light"
          },
          "paper_bgcolor": "white",
          "plot_bgcolor": "#E5ECF6",
          "polar": {
           "angularaxis": {
            "gridcolor": "white",
            "linecolor": "white",
            "ticks": ""
           },
           "bgcolor": "#E5ECF6",
           "radialaxis": {
            "gridcolor": "white",
            "linecolor": "white",
            "ticks": ""
           }
          },
          "scene": {
           "xaxis": {
            "backgroundcolor": "#E5ECF6",
            "gridcolor": "white",
            "gridwidth": 2,
            "linecolor": "white",
            "showbackground": true,
            "ticks": "",
            "zerolinecolor": "white"
           },
           "yaxis": {
            "backgroundcolor": "#E5ECF6",
            "gridcolor": "white",
            "gridwidth": 2,
            "linecolor": "white",
            "showbackground": true,
            "ticks": "",
            "zerolinecolor": "white"
           },
           "zaxis": {
            "backgroundcolor": "#E5ECF6",
            "gridcolor": "white",
            "gridwidth": 2,
            "linecolor": "white",
            "showbackground": true,
            "ticks": "",
            "zerolinecolor": "white"
           }
          },
          "shapedefaults": {
           "line": {
            "color": "#2a3f5f"
           }
          },
          "ternary": {
           "aaxis": {
            "gridcolor": "white",
            "linecolor": "white",
            "ticks": ""
           },
           "baxis": {
            "gridcolor": "white",
            "linecolor": "white",
            "ticks": ""
           },
           "bgcolor": "#E5ECF6",
           "caxis": {
            "gridcolor": "white",
            "linecolor": "white",
            "ticks": ""
           }
          },
          "title": {
           "x": 0.05
          },
          "xaxis": {
           "automargin": true,
           "gridcolor": "white",
           "linecolor": "white",
           "ticks": "",
           "title": {
            "standoff": 15
           },
           "zerolinecolor": "white",
           "zerolinewidth": 2
          },
          "yaxis": {
           "automargin": true,
           "gridcolor": "white",
           "linecolor": "white",
           "ticks": "",
           "title": {
            "standoff": 15
           },
           "zerolinecolor": "white",
           "zerolinewidth": 2
          }
         }
        },
        "title": {
         "text": "Capital Progress"
        },
        "xaxis": {
         "anchor": "y",
         "domain": [
          0,
          1
         ],
         "title": {
          "text": "x"
         }
        },
        "yaxis": {
         "anchor": "x",
         "domain": [
          0,
          1
         ],
         "title": {
          "text": "y"
         }
        }
       }
      }
     },
     "metadata": {},
     "output_type": "display_data"
    }
   ],
   "source": [
    "px.line(x = df_train.index, y = value_list_train, title = 'Capital Progress')"
   ]
  },
  {
   "cell_type": "code",
   "execution_count": 346,
   "metadata": {},
   "outputs": [
    {
     "data": {
      "application/vnd.plotly.v1+json": {
       "config": {
        "plotlyServerURL": "https://plot.ly"
       },
       "data": [
        {
         "hovertemplate": "x=%{x}<br>y=%{y}<extra></extra>",
         "legendgroup": "",
         "line": {
          "color": "#636efa",
          "dash": "solid"
         },
         "marker": {
          "symbol": "circle"
         },
         "mode": "lines",
         "name": "",
         "orientation": "v",
         "showlegend": false,
         "type": "scatter",
         "x": [
          "2023-01-03T00:00:00",
          "2023-01-04T00:00:00",
          "2023-01-05T00:00:00",
          "2023-01-06T00:00:00",
          "2023-01-09T00:00:00",
          "2023-01-10T00:00:00",
          "2023-01-11T00:00:00",
          "2023-01-12T00:00:00",
          "2023-01-13T00:00:00",
          "2023-01-17T00:00:00",
          "2023-01-18T00:00:00",
          "2023-01-19T00:00:00",
          "2023-01-20T00:00:00",
          "2023-01-23T00:00:00",
          "2023-01-24T00:00:00",
          "2023-01-25T00:00:00",
          "2023-01-26T00:00:00",
          "2023-01-27T00:00:00",
          "2023-01-30T00:00:00",
          "2023-01-31T00:00:00",
          "2023-02-01T00:00:00",
          "2023-02-02T00:00:00",
          "2023-02-03T00:00:00",
          "2023-02-06T00:00:00",
          "2023-02-07T00:00:00",
          "2023-02-08T00:00:00",
          "2023-02-09T00:00:00",
          "2023-02-10T00:00:00",
          "2023-02-13T00:00:00",
          "2023-02-14T00:00:00",
          "2023-02-15T00:00:00",
          "2023-02-16T00:00:00",
          "2023-02-17T00:00:00",
          "2023-02-21T00:00:00",
          "2023-02-22T00:00:00",
          "2023-02-23T00:00:00",
          "2023-02-24T00:00:00",
          "2023-02-27T00:00:00",
          "2023-02-28T00:00:00",
          "2023-03-01T00:00:00",
          "2023-03-02T00:00:00",
          "2023-03-03T00:00:00",
          "2023-03-06T00:00:00",
          "2023-03-07T00:00:00",
          "2023-03-08T00:00:00",
          "2023-03-09T00:00:00",
          "2023-03-10T00:00:00",
          "2023-03-13T00:00:00",
          "2023-03-14T00:00:00",
          "2023-03-15T00:00:00",
          "2023-03-16T00:00:00",
          "2023-03-17T00:00:00",
          "2023-03-20T00:00:00",
          "2023-03-21T00:00:00",
          "2023-03-22T00:00:00",
          "2023-03-23T00:00:00",
          "2023-03-24T00:00:00",
          "2023-03-27T00:00:00",
          "2023-03-28T00:00:00",
          "2023-03-29T00:00:00",
          "2023-03-30T00:00:00",
          "2023-03-31T00:00:00",
          "2023-04-03T00:00:00",
          "2023-04-04T00:00:00",
          "2023-04-05T00:00:00",
          "2023-04-06T00:00:00",
          "2023-04-10T00:00:00",
          "2023-04-11T00:00:00",
          "2023-04-12T00:00:00",
          "2023-04-13T00:00:00",
          "2023-04-14T00:00:00",
          "2023-04-17T00:00:00",
          "2023-04-18T00:00:00",
          "2023-04-19T00:00:00",
          "2023-04-20T00:00:00",
          "2023-04-21T00:00:00",
          "2023-04-24T00:00:00",
          "2023-04-25T00:00:00",
          "2023-04-26T00:00:00",
          "2023-04-27T00:00:00",
          "2023-04-28T00:00:00",
          "2023-05-01T00:00:00",
          "2023-05-02T00:00:00",
          "2023-05-03T00:00:00",
          "2023-05-04T00:00:00",
          "2023-05-05T00:00:00",
          "2023-05-08T00:00:00",
          "2023-05-09T00:00:00",
          "2023-05-10T00:00:00",
          "2023-05-11T00:00:00",
          "2023-05-12T00:00:00",
          "2023-05-15T00:00:00",
          "2023-05-16T00:00:00",
          "2023-05-17T00:00:00",
          "2023-05-18T00:00:00",
          "2023-05-19T00:00:00",
          "2023-05-22T00:00:00",
          "2023-05-23T00:00:00",
          "2023-05-24T00:00:00",
          "2023-05-25T00:00:00",
          "2023-05-26T00:00:00",
          "2023-05-30T00:00:00",
          "2023-05-31T00:00:00",
          "2023-06-01T00:00:00",
          "2023-06-02T00:00:00",
          "2023-06-05T00:00:00",
          "2023-06-06T00:00:00",
          "2023-06-07T00:00:00",
          "2023-06-08T00:00:00",
          "2023-06-09T00:00:00",
          "2023-06-12T00:00:00",
          "2023-06-13T00:00:00",
          "2023-06-14T00:00:00",
          "2023-06-15T00:00:00",
          "2023-06-16T00:00:00",
          "2023-06-20T00:00:00",
          "2023-06-21T00:00:00",
          "2023-06-22T00:00:00",
          "2023-06-23T00:00:00",
          "2023-06-26T00:00:00",
          "2023-06-27T00:00:00",
          "2023-06-28T00:00:00",
          "2023-06-29T00:00:00",
          "2023-06-30T00:00:00",
          "2023-07-03T00:00:00",
          "2023-07-05T00:00:00",
          "2023-07-06T00:00:00",
          "2023-07-07T00:00:00",
          "2023-07-10T00:00:00",
          "2023-07-11T00:00:00",
          "2023-07-12T00:00:00",
          "2023-07-13T00:00:00",
          "2023-07-14T00:00:00",
          "2023-07-17T00:00:00",
          "2023-07-18T00:00:00",
          "2023-07-19T00:00:00",
          "2023-07-20T00:00:00",
          "2023-07-21T00:00:00",
          "2023-07-24T00:00:00",
          "2023-07-25T00:00:00",
          "2023-07-26T00:00:00",
          "2023-07-27T00:00:00",
          "2023-07-28T00:00:00",
          "2023-07-31T00:00:00",
          "2023-08-01T00:00:00",
          "2023-08-02T00:00:00",
          "2023-08-03T00:00:00",
          "2023-08-04T00:00:00",
          "2023-08-07T00:00:00",
          "2023-08-08T00:00:00",
          "2023-08-09T00:00:00",
          "2023-08-10T00:00:00",
          "2023-08-11T00:00:00",
          "2023-08-14T00:00:00",
          "2023-08-15T00:00:00",
          "2023-08-16T00:00:00",
          "2023-08-17T00:00:00",
          "2023-08-18T00:00:00",
          "2023-08-21T00:00:00",
          "2023-08-22T00:00:00",
          "2023-08-23T00:00:00",
          "2023-08-24T00:00:00",
          "2023-08-25T00:00:00",
          "2023-08-28T00:00:00",
          "2023-08-29T00:00:00",
          "2023-08-30T00:00:00",
          "2023-08-31T00:00:00",
          "2023-09-01T00:00:00",
          "2023-09-05T00:00:00",
          "2023-09-06T00:00:00",
          "2023-09-07T00:00:00",
          "2023-09-08T00:00:00",
          "2023-09-11T00:00:00",
          "2023-09-12T00:00:00",
          "2023-09-13T00:00:00",
          "2023-09-14T00:00:00",
          "2023-09-15T00:00:00",
          "2023-09-18T00:00:00",
          "2023-09-19T00:00:00",
          "2023-09-20T00:00:00",
          "2023-09-21T00:00:00",
          "2023-09-22T00:00:00",
          "2023-09-25T00:00:00",
          "2023-09-26T00:00:00",
          "2023-09-27T00:00:00",
          "2023-09-28T00:00:00",
          "2023-09-29T00:00:00",
          "2023-10-02T00:00:00",
          "2023-10-03T00:00:00",
          "2023-10-04T00:00:00",
          "2023-10-05T00:00:00",
          "2023-10-06T00:00:00",
          "2023-10-09T00:00:00",
          "2023-10-10T00:00:00",
          "2023-10-11T00:00:00",
          "2023-10-12T00:00:00",
          "2023-10-13T00:00:00",
          "2023-10-16T00:00:00",
          "2023-10-17T00:00:00",
          "2023-10-18T00:00:00",
          "2023-10-19T00:00:00",
          "2023-10-20T00:00:00",
          "2023-10-23T00:00:00",
          "2023-10-24T00:00:00",
          "2023-10-25T00:00:00",
          "2023-10-26T00:00:00",
          "2023-10-27T00:00:00",
          "2023-10-30T00:00:00",
          "2023-10-31T00:00:00",
          "2023-11-01T00:00:00",
          "2023-11-02T00:00:00",
          "2023-11-03T00:00:00",
          "2023-11-06T00:00:00",
          "2023-11-07T00:00:00",
          "2023-11-08T00:00:00",
          "2023-11-09T00:00:00",
          "2023-11-10T00:00:00",
          "2023-11-13T00:00:00",
          "2023-11-14T00:00:00",
          "2023-11-15T00:00:00",
          "2023-11-16T00:00:00",
          "2023-11-17T00:00:00",
          "2023-11-20T00:00:00",
          "2023-11-21T00:00:00",
          "2023-11-22T00:00:00",
          "2023-11-24T00:00:00",
          "2023-11-27T00:00:00",
          "2023-11-28T00:00:00",
          "2023-11-29T00:00:00",
          "2023-11-30T00:00:00",
          "2023-12-01T00:00:00",
          "2023-12-04T00:00:00",
          "2023-12-05T00:00:00",
          "2023-12-06T00:00:00",
          "2023-12-07T00:00:00",
          "2023-12-08T00:00:00",
          "2023-12-11T00:00:00",
          "2023-12-12T00:00:00",
          "2023-12-13T00:00:00",
          "2023-12-14T00:00:00",
          "2023-12-15T00:00:00",
          "2023-12-18T00:00:00",
          "2023-12-19T00:00:00",
          "2023-12-20T00:00:00",
          "2023-12-21T00:00:00",
          "2023-12-22T00:00:00",
          "2023-12-26T00:00:00",
          "2023-12-27T00:00:00",
          "2023-12-28T00:00:00",
          "2023-12-29T00:00:00"
         ],
         "xaxis": "x",
         "y": [
          0,
          0,
          4594.840546487795,
          8541.181682885073,
          8622.129118172865,
          8733.55857452255,
          12638.508398511332,
          12638.508398511332,
          12638.508398511332,
          12638.508398511332,
          12738.01355493699,
          12738.01355493699,
          16675.82314976046,
          20645.3833643639,
          24631.348297325483,
          28494.208680527543,
          28494.208680527543,
          28494.208680527543,
          32928.05170941213,
          36917.68022562048,
          40926.21471128962,
          44950.150775093585,
          4686.860389959405,
          4686.860389959405,
          4020.1174201220697,
          8040.234840244139,
          0,
          0,
          0,
          0,
          521.8279667568014,
          1043.6559335136028,
          1043.6559335136028,
          1043.6559335136028,
          1043.6559335136028,
          1043.6559335136028,
          1565.4839002704052,
          2087.3118670272056,
          2609.139833784006,
          3130.967800540809,
          3130.967800540809,
          3130.967800540809,
          3652.795767297607,
          0,
          0,
          0,
          0,
          521.8279667568014,
          1786.7162602043807,
          3573.4325204087613,
          4560.814964902934,
          6249.147186612542,
          0,
          0,
          1562.2867966531355,
          3315.7028865779475,
          4865.891114650776,
          8215.301847264791,
          9614.969101890956,
          11058.280033032119,
          12530.162162461791,
          14021.62081987012,
          15692.847932972569,
          17387.058752633948,
          17185.154763184484,
          18907.421713642663,
          20469.206317418277,
          22201.237791607542,
          22382.28828940967,
          24130.52031473919,
          25884.008619972166,
          27439.440155670978,
          28121.16233975644,
          29683.449136409592,
          29683.449136409592,
          31245.735933062708,
          31245.735933062708,
          31245.735933062708,
          31245.735933062708,
          31245.735933062708,
          31403.097444001047,
          31568.301395702998,
          33129.844785479945,
          32808.02272971583,
          32808.02272971583,
          32658.43135663434,
          32808.02272971583,
          32808.02272971583,
          32658.43135663434,
          4142.156395163667,
          8096.195998095049,
          12144.293997142551,
          12144.293997142551,
          12144.293997142551,
          12144.293997142551,
          1565.4839002704052,
          4020.1174201220697,
          4020.1174201220697,
          4020.1174201220697,
          8040.234840244139,
          12060.352260366199,
          16080.469680488279,
          16080.469680488279,
          20100.587100610348,
          0,
          4020.1174201220697,
          0,
          4020.1174201220697,
          8040.234840244139,
          12060.352260366199,
          12060.352260366199,
          16080.469680488279,
          16083.146620538191,
          16102.742441712644,
          16102.742441712644,
          16456.680566817704,
          16947.797393242916,
          3055.7874249426886,
          4483.704424205946,
          5979.201787098643,
          7811.433983265674,
          9373.720779918807,
          10871.259218638344,
          12498.294373225077,
          14060.581169878224,
          15333.96857178249,
          17185.154763184484,
          18222.769595822945,
          19750.89989199714,
          8040.234840244139,
          12060.352260366199,
          16083.146620538191,
          20100.587100610348,
          24120.559373115182,
          27878.289547492255,
          31698.263183439918,
          31581.309270287376,
          31541.397902985293,
          31578.82119701981,
          9540.168178933014,
          10936.007576571938,
          10794.13694621209,
          10675.913636129806,
          10936.007576571938,
          1562.2867966531355,
          0,
          0,
          0,
          0,
          4059.5812083297933,
          4059.5812083297933,
          0,
          0,
          0,
          0,
          0,
          0,
          4020.1174201220697,
          4594.840546487795,
          9147.175508055248,
          12065.850479983239,
          16452.08001696027,
          16452.08001696027,
          16464.025854706066,
          16464.025854706066,
          16983.176075568153,
          16983.176075568153,
          17024.846532644235,
          17082.363365770147,
          16983.176075568153,
          16983.176075568153,
          17024.846532644235,
          17082.363365770147,
          16983.176075568153,
          20100.587100610348,
          20100.587100610348,
          20100.587100610348,
          20100.587100610348,
          20100.587100610348,
          20100.587100610348,
          20100.587100610348,
          20100.587100610348,
          20100.587100610348,
          20100.587100610348,
          20470.142147274724,
          20949.97177420621,
          21532.70524621636,
          6249.147186612542,
          6421.945742312593,
          6631.405773155895,
          6631.405773155895,
          6631.405773155895,
          1043.6559335136028,
          1043.6559335136028,
          1043.6559335136028,
          1043.6559335136028,
          1043.6559335136028,
          1043.6559335136028,
          1603.5387982116044,
          1858.3724812924686,
          2209.1556610749312,
          2209.1556610749312,
          2209.1556610749312,
          1562.2867966531355,
          0,
          0,
          0,
          0,
          1562.2867966531355,
          3124.573593306271,
          521.8279667568014,
          521.8279667568014,
          521.8279667568014,
          521.8279667568014,
          521.8279667568014,
          521.8279667568014,
          521.8279667568014,
          521.8279667568014,
          521.8279667568014,
          521.8279667568014,
          521.8279667568014,
          521.8279667568014,
          0,
          0,
          0,
          0,
          0,
          0,
          1562.2867966531355,
          5562.845970698911,
          10083.396741561943,
          12060.352260366199,
          16464.025854706066,
          20100.587100610348,
          24480.849247074224,
          28927.76308707642,
          33391.70642542772,
          36184.529400151856,
          40532.449685082844,
          44559.831728214,
          48577.77262116816,
          52974.545512946934,
          56988.41736105509,
          61410.42644182419,
          65856.10341882425,
          65856.10341882425,
          65856.10341882425,
          65856.10341882425,
          65856.10341882425,
          7811.433983265674
         ],
         "yaxis": "y"
        }
       ],
       "layout": {
        "legend": {
         "tracegroupgap": 0
        },
        "template": {
         "data": {
          "bar": [
           {
            "error_x": {
             "color": "#2a3f5f"
            },
            "error_y": {
             "color": "#2a3f5f"
            },
            "marker": {
             "line": {
              "color": "#E5ECF6",
              "width": 0.5
             },
             "pattern": {
              "fillmode": "overlay",
              "size": 10,
              "solidity": 0.2
             }
            },
            "type": "bar"
           }
          ],
          "barpolar": [
           {
            "marker": {
             "line": {
              "color": "#E5ECF6",
              "width": 0.5
             },
             "pattern": {
              "fillmode": "overlay",
              "size": 10,
              "solidity": 0.2
             }
            },
            "type": "barpolar"
           }
          ],
          "carpet": [
           {
            "aaxis": {
             "endlinecolor": "#2a3f5f",
             "gridcolor": "white",
             "linecolor": "white",
             "minorgridcolor": "white",
             "startlinecolor": "#2a3f5f"
            },
            "baxis": {
             "endlinecolor": "#2a3f5f",
             "gridcolor": "white",
             "linecolor": "white",
             "minorgridcolor": "white",
             "startlinecolor": "#2a3f5f"
            },
            "type": "carpet"
           }
          ],
          "choropleth": [
           {
            "colorbar": {
             "outlinewidth": 0,
             "ticks": ""
            },
            "type": "choropleth"
           }
          ],
          "contour": [
           {
            "colorbar": {
             "outlinewidth": 0,
             "ticks": ""
            },
            "colorscale": [
             [
              0,
              "#0d0887"
             ],
             [
              0.1111111111111111,
              "#46039f"
             ],
             [
              0.2222222222222222,
              "#7201a8"
             ],
             [
              0.3333333333333333,
              "#9c179e"
             ],
             [
              0.4444444444444444,
              "#bd3786"
             ],
             [
              0.5555555555555556,
              "#d8576b"
             ],
             [
              0.6666666666666666,
              "#ed7953"
             ],
             [
              0.7777777777777778,
              "#fb9f3a"
             ],
             [
              0.8888888888888888,
              "#fdca26"
             ],
             [
              1,
              "#f0f921"
             ]
            ],
            "type": "contour"
           }
          ],
          "contourcarpet": [
           {
            "colorbar": {
             "outlinewidth": 0,
             "ticks": ""
            },
            "type": "contourcarpet"
           }
          ],
          "heatmap": [
           {
            "colorbar": {
             "outlinewidth": 0,
             "ticks": ""
            },
            "colorscale": [
             [
              0,
              "#0d0887"
             ],
             [
              0.1111111111111111,
              "#46039f"
             ],
             [
              0.2222222222222222,
              "#7201a8"
             ],
             [
              0.3333333333333333,
              "#9c179e"
             ],
             [
              0.4444444444444444,
              "#bd3786"
             ],
             [
              0.5555555555555556,
              "#d8576b"
             ],
             [
              0.6666666666666666,
              "#ed7953"
             ],
             [
              0.7777777777777778,
              "#fb9f3a"
             ],
             [
              0.8888888888888888,
              "#fdca26"
             ],
             [
              1,
              "#f0f921"
             ]
            ],
            "type": "heatmap"
           }
          ],
          "heatmapgl": [
           {
            "colorbar": {
             "outlinewidth": 0,
             "ticks": ""
            },
            "colorscale": [
             [
              0,
              "#0d0887"
             ],
             [
              0.1111111111111111,
              "#46039f"
             ],
             [
              0.2222222222222222,
              "#7201a8"
             ],
             [
              0.3333333333333333,
              "#9c179e"
             ],
             [
              0.4444444444444444,
              "#bd3786"
             ],
             [
              0.5555555555555556,
              "#d8576b"
             ],
             [
              0.6666666666666666,
              "#ed7953"
             ],
             [
              0.7777777777777778,
              "#fb9f3a"
             ],
             [
              0.8888888888888888,
              "#fdca26"
             ],
             [
              1,
              "#f0f921"
             ]
            ],
            "type": "heatmapgl"
           }
          ],
          "histogram": [
           {
            "marker": {
             "pattern": {
              "fillmode": "overlay",
              "size": 10,
              "solidity": 0.2
             }
            },
            "type": "histogram"
           }
          ],
          "histogram2d": [
           {
            "colorbar": {
             "outlinewidth": 0,
             "ticks": ""
            },
            "colorscale": [
             [
              0,
              "#0d0887"
             ],
             [
              0.1111111111111111,
              "#46039f"
             ],
             [
              0.2222222222222222,
              "#7201a8"
             ],
             [
              0.3333333333333333,
              "#9c179e"
             ],
             [
              0.4444444444444444,
              "#bd3786"
             ],
             [
              0.5555555555555556,
              "#d8576b"
             ],
             [
              0.6666666666666666,
              "#ed7953"
             ],
             [
              0.7777777777777778,
              "#fb9f3a"
             ],
             [
              0.8888888888888888,
              "#fdca26"
             ],
             [
              1,
              "#f0f921"
             ]
            ],
            "type": "histogram2d"
           }
          ],
          "histogram2dcontour": [
           {
            "colorbar": {
             "outlinewidth": 0,
             "ticks": ""
            },
            "colorscale": [
             [
              0,
              "#0d0887"
             ],
             [
              0.1111111111111111,
              "#46039f"
             ],
             [
              0.2222222222222222,
              "#7201a8"
             ],
             [
              0.3333333333333333,
              "#9c179e"
             ],
             [
              0.4444444444444444,
              "#bd3786"
             ],
             [
              0.5555555555555556,
              "#d8576b"
             ],
             [
              0.6666666666666666,
              "#ed7953"
             ],
             [
              0.7777777777777778,
              "#fb9f3a"
             ],
             [
              0.8888888888888888,
              "#fdca26"
             ],
             [
              1,
              "#f0f921"
             ]
            ],
            "type": "histogram2dcontour"
           }
          ],
          "mesh3d": [
           {
            "colorbar": {
             "outlinewidth": 0,
             "ticks": ""
            },
            "type": "mesh3d"
           }
          ],
          "parcoords": [
           {
            "line": {
             "colorbar": {
              "outlinewidth": 0,
              "ticks": ""
             }
            },
            "type": "parcoords"
           }
          ],
          "pie": [
           {
            "automargin": true,
            "type": "pie"
           }
          ],
          "scatter": [
           {
            "fillpattern": {
             "fillmode": "overlay",
             "size": 10,
             "solidity": 0.2
            },
            "type": "scatter"
           }
          ],
          "scatter3d": [
           {
            "line": {
             "colorbar": {
              "outlinewidth": 0,
              "ticks": ""
             }
            },
            "marker": {
             "colorbar": {
              "outlinewidth": 0,
              "ticks": ""
             }
            },
            "type": "scatter3d"
           }
          ],
          "scattercarpet": [
           {
            "marker": {
             "colorbar": {
              "outlinewidth": 0,
              "ticks": ""
             }
            },
            "type": "scattercarpet"
           }
          ],
          "scattergeo": [
           {
            "marker": {
             "colorbar": {
              "outlinewidth": 0,
              "ticks": ""
             }
            },
            "type": "scattergeo"
           }
          ],
          "scattergl": [
           {
            "marker": {
             "colorbar": {
              "outlinewidth": 0,
              "ticks": ""
             }
            },
            "type": "scattergl"
           }
          ],
          "scattermapbox": [
           {
            "marker": {
             "colorbar": {
              "outlinewidth": 0,
              "ticks": ""
             }
            },
            "type": "scattermapbox"
           }
          ],
          "scatterpolar": [
           {
            "marker": {
             "colorbar": {
              "outlinewidth": 0,
              "ticks": ""
             }
            },
            "type": "scatterpolar"
           }
          ],
          "scatterpolargl": [
           {
            "marker": {
             "colorbar": {
              "outlinewidth": 0,
              "ticks": ""
             }
            },
            "type": "scatterpolargl"
           }
          ],
          "scatterternary": [
           {
            "marker": {
             "colorbar": {
              "outlinewidth": 0,
              "ticks": ""
             }
            },
            "type": "scatterternary"
           }
          ],
          "surface": [
           {
            "colorbar": {
             "outlinewidth": 0,
             "ticks": ""
            },
            "colorscale": [
             [
              0,
              "#0d0887"
             ],
             [
              0.1111111111111111,
              "#46039f"
             ],
             [
              0.2222222222222222,
              "#7201a8"
             ],
             [
              0.3333333333333333,
              "#9c179e"
             ],
             [
              0.4444444444444444,
              "#bd3786"
             ],
             [
              0.5555555555555556,
              "#d8576b"
             ],
             [
              0.6666666666666666,
              "#ed7953"
             ],
             [
              0.7777777777777778,
              "#fb9f3a"
             ],
             [
              0.8888888888888888,
              "#fdca26"
             ],
             [
              1,
              "#f0f921"
             ]
            ],
            "type": "surface"
           }
          ],
          "table": [
           {
            "cells": {
             "fill": {
              "color": "#EBF0F8"
             },
             "line": {
              "color": "white"
             }
            },
            "header": {
             "fill": {
              "color": "#C8D4E3"
             },
             "line": {
              "color": "white"
             }
            },
            "type": "table"
           }
          ]
         },
         "layout": {
          "annotationdefaults": {
           "arrowcolor": "#2a3f5f",
           "arrowhead": 0,
           "arrowwidth": 1
          },
          "autotypenumbers": "strict",
          "coloraxis": {
           "colorbar": {
            "outlinewidth": 0,
            "ticks": ""
           }
          },
          "colorscale": {
           "diverging": [
            [
             0,
             "#8e0152"
            ],
            [
             0.1,
             "#c51b7d"
            ],
            [
             0.2,
             "#de77ae"
            ],
            [
             0.3,
             "#f1b6da"
            ],
            [
             0.4,
             "#fde0ef"
            ],
            [
             0.5,
             "#f7f7f7"
            ],
            [
             0.6,
             "#e6f5d0"
            ],
            [
             0.7,
             "#b8e186"
            ],
            [
             0.8,
             "#7fbc41"
            ],
            [
             0.9,
             "#4d9221"
            ],
            [
             1,
             "#276419"
            ]
           ],
           "sequential": [
            [
             0,
             "#0d0887"
            ],
            [
             0.1111111111111111,
             "#46039f"
            ],
            [
             0.2222222222222222,
             "#7201a8"
            ],
            [
             0.3333333333333333,
             "#9c179e"
            ],
            [
             0.4444444444444444,
             "#bd3786"
            ],
            [
             0.5555555555555556,
             "#d8576b"
            ],
            [
             0.6666666666666666,
             "#ed7953"
            ],
            [
             0.7777777777777778,
             "#fb9f3a"
            ],
            [
             0.8888888888888888,
             "#fdca26"
            ],
            [
             1,
             "#f0f921"
            ]
           ],
           "sequentialminus": [
            [
             0,
             "#0d0887"
            ],
            [
             0.1111111111111111,
             "#46039f"
            ],
            [
             0.2222222222222222,
             "#7201a8"
            ],
            [
             0.3333333333333333,
             "#9c179e"
            ],
            [
             0.4444444444444444,
             "#bd3786"
            ],
            [
             0.5555555555555556,
             "#d8576b"
            ],
            [
             0.6666666666666666,
             "#ed7953"
            ],
            [
             0.7777777777777778,
             "#fb9f3a"
            ],
            [
             0.8888888888888888,
             "#fdca26"
            ],
            [
             1,
             "#f0f921"
            ]
           ]
          },
          "colorway": [
           "#636efa",
           "#EF553B",
           "#00cc96",
           "#ab63fa",
           "#FFA15A",
           "#19d3f3",
           "#FF6692",
           "#B6E880",
           "#FF97FF",
           "#FECB52"
          ],
          "font": {
           "color": "#2a3f5f"
          },
          "geo": {
           "bgcolor": "white",
           "lakecolor": "white",
           "landcolor": "#E5ECF6",
           "showlakes": true,
           "showland": true,
           "subunitcolor": "white"
          },
          "hoverlabel": {
           "align": "left"
          },
          "hovermode": "closest",
          "mapbox": {
           "style": "light"
          },
          "paper_bgcolor": "white",
          "plot_bgcolor": "#E5ECF6",
          "polar": {
           "angularaxis": {
            "gridcolor": "white",
            "linecolor": "white",
            "ticks": ""
           },
           "bgcolor": "#E5ECF6",
           "radialaxis": {
            "gridcolor": "white",
            "linecolor": "white",
            "ticks": ""
           }
          },
          "scene": {
           "xaxis": {
            "backgroundcolor": "#E5ECF6",
            "gridcolor": "white",
            "gridwidth": 2,
            "linecolor": "white",
            "showbackground": true,
            "ticks": "",
            "zerolinecolor": "white"
           },
           "yaxis": {
            "backgroundcolor": "#E5ECF6",
            "gridcolor": "white",
            "gridwidth": 2,
            "linecolor": "white",
            "showbackground": true,
            "ticks": "",
            "zerolinecolor": "white"
           },
           "zaxis": {
            "backgroundcolor": "#E5ECF6",
            "gridcolor": "white",
            "gridwidth": 2,
            "linecolor": "white",
            "showbackground": true,
            "ticks": "",
            "zerolinecolor": "white"
           }
          },
          "shapedefaults": {
           "line": {
            "color": "#2a3f5f"
           }
          },
          "ternary": {
           "aaxis": {
            "gridcolor": "white",
            "linecolor": "white",
            "ticks": ""
           },
           "baxis": {
            "gridcolor": "white",
            "linecolor": "white",
            "ticks": ""
           },
           "bgcolor": "#E5ECF6",
           "caxis": {
            "gridcolor": "white",
            "linecolor": "white",
            "ticks": ""
           }
          },
          "title": {
           "x": 0.05
          },
          "xaxis": {
           "automargin": true,
           "gridcolor": "white",
           "linecolor": "white",
           "ticks": "",
           "title": {
            "standoff": 15
           },
           "zerolinecolor": "white",
           "zerolinewidth": 2
          },
          "yaxis": {
           "automargin": true,
           "gridcolor": "white",
           "linecolor": "white",
           "ticks": "",
           "title": {
            "standoff": 15
           },
           "zerolinecolor": "white",
           "zerolinewidth": 2
          }
         }
        },
        "title": {
         "text": "daily_return"
        },
        "xaxis": {
         "anchor": "y",
         "domain": [
          0,
          1
         ],
         "title": {
          "text": "x"
         }
        },
        "yaxis": {
         "anchor": "x",
         "domain": [
          0,
          1
         ],
         "title": {
          "text": "y"
         }
        }
       }
      }
     },
     "metadata": {},
     "output_type": "display_data"
    }
   ],
   "source": [
    "px.line(x = df_train.index, y = volatility_train, title = 'daily_return')"
   ]
  },
  {
   "cell_type": "markdown",
   "metadata": {},
   "source": [
    "## Validation Plot"
   ]
  },
  {
   "cell_type": "code",
   "execution_count": 347,
   "metadata": {},
   "outputs": [
    {
     "data": {
      "application/vnd.plotly.v1+json": {
       "config": {
        "plotlyServerURL": "https://plot.ly"
       },
       "data": [
        {
         "hovertemplate": "x=%{x}<br>y=%{y}<extra></extra>",
         "legendgroup": "",
         "line": {
          "color": "#636efa",
          "dash": "solid"
         },
         "marker": {
          "symbol": "circle"
         },
         "mode": "lines",
         "name": "",
         "orientation": "v",
         "showlegend": false,
         "type": "scatter",
         "x": [
          "2024-01-02T00:00:00",
          "2024-01-03T00:00:00",
          "2024-01-04T00:00:00",
          "2024-01-05T00:00:00",
          "2024-01-08T00:00:00",
          "2024-01-09T00:00:00",
          "2024-01-10T00:00:00",
          "2024-01-11T00:00:00",
          "2024-01-12T00:00:00",
          "2024-01-16T00:00:00",
          "2024-01-17T00:00:00",
          "2024-01-18T00:00:00",
          "2024-01-19T00:00:00",
          "2024-01-22T00:00:00",
          "2024-01-23T00:00:00",
          "2024-01-24T00:00:00",
          "2024-01-25T00:00:00",
          "2024-01-26T00:00:00",
          "2024-01-29T00:00:00",
          "2024-01-30T00:00:00",
          "2024-01-31T00:00:00",
          "2024-02-01T00:00:00",
          "2024-02-02T00:00:00",
          "2024-02-05T00:00:00",
          "2024-02-06T00:00:00",
          "2024-02-07T00:00:00",
          "2024-02-08T00:00:00",
          "2024-02-09T00:00:00",
          "2024-02-12T00:00:00",
          "2024-02-13T00:00:00",
          "2024-02-14T00:00:00",
          "2024-02-15T00:00:00",
          "2024-02-16T00:00:00",
          "2024-02-20T00:00:00",
          "2024-02-21T00:00:00",
          "2024-02-22T00:00:00",
          "2024-02-23T00:00:00",
          "2024-02-26T00:00:00",
          "2024-02-27T00:00:00",
          "2024-02-28T00:00:00",
          "2024-02-29T00:00:00",
          "2024-03-01T00:00:00",
          "2024-03-04T00:00:00",
          "2024-03-05T00:00:00",
          "2024-03-06T00:00:00",
          "2024-03-07T00:00:00",
          "2024-03-08T00:00:00",
          "2024-03-11T00:00:00",
          "2024-03-12T00:00:00",
          "2024-03-13T00:00:00",
          "2024-03-14T00:00:00",
          "2024-03-15T00:00:00",
          "2024-03-18T00:00:00",
          "2024-03-19T00:00:00",
          "2024-03-20T00:00:00",
          "2024-03-21T00:00:00",
          "2024-03-22T00:00:00",
          "2024-03-25T00:00:00",
          "2024-03-26T00:00:00",
          "2024-03-27T00:00:00",
          "2024-03-28T00:00:00",
          "2024-04-01T00:00:00",
          "2024-04-02T00:00:00",
          "2024-04-03T00:00:00",
          "2024-04-04T00:00:00",
          "2024-04-05T00:00:00",
          "2024-04-08T00:00:00",
          "2024-04-09T00:00:00",
          "2024-04-10T00:00:00",
          "2024-04-11T00:00:00",
          "2024-04-12T00:00:00",
          "2024-04-15T00:00:00",
          "2024-04-16T00:00:00",
          "2024-04-17T00:00:00",
          "2024-04-18T00:00:00",
          "2024-04-19T00:00:00",
          "2024-04-22T00:00:00",
          "2024-04-23T00:00:00",
          "2024-04-24T00:00:00",
          "2024-04-25T00:00:00",
          "2024-04-26T00:00:00",
          "2024-04-29T00:00:00",
          "2024-04-30T00:00:00",
          "2024-05-01T00:00:00",
          "2024-05-02T00:00:00",
          "2024-05-03T00:00:00",
          "2024-05-06T00:00:00",
          "2024-05-07T00:00:00",
          "2024-05-08T00:00:00",
          "2024-05-09T00:00:00",
          "2024-05-10T00:00:00",
          "2024-05-13T00:00:00",
          "2024-05-14T00:00:00",
          "2024-05-15T00:00:00",
          "2024-05-16T00:00:00",
          "2024-05-17T00:00:00",
          "2024-05-20T00:00:00",
          "2024-05-21T00:00:00",
          "2024-05-22T00:00:00",
          "2024-05-23T00:00:00",
          "2024-05-24T00:00:00",
          "2024-05-28T00:00:00",
          "2024-05-29T00:00:00",
          "2024-05-30T00:00:00",
          "2024-05-31T00:00:00",
          "2024-06-03T00:00:00",
          "2024-06-04T00:00:00",
          "2024-06-05T00:00:00",
          "2024-06-06T00:00:00",
          "2024-06-07T00:00:00",
          "2024-06-10T00:00:00",
          "2024-06-11T00:00:00",
          "2024-06-12T00:00:00",
          "2024-06-13T00:00:00",
          "2024-06-14T00:00:00",
          "2024-06-17T00:00:00",
          "2024-06-18T00:00:00",
          "2024-06-20T00:00:00",
          "2024-06-21T00:00:00",
          "2024-06-24T00:00:00",
          "2024-06-25T00:00:00",
          "2024-06-26T00:00:00",
          "2024-06-27T00:00:00",
          "2024-06-28T00:00:00"
         ],
         "xaxis": "x",
         "y": [
          979122.1698957682,
          958090.0087466103,
          936996.5201913081,
          917929.1928711691,
          959743.5956749137,
          959743.5956749137,
          1012690.0899358492,
          1022589.4026294923,
          1032856.9009391441,
          1032856.9009391441,
          1032856.9009391441,
          1023513.7209327181,
          1036256.050835261,
          1048987.4809928173,
          1061596.8169945949,
          1061596.8169945949,
          1025447.0377045779,
          1044687.2584366472,
          1044687.2584366472,
          1044687.2584366472,
          1031031.6664642154,
          1042501.0669996641,
          1038251.5549635806,
          1060155.1411803702,
          1088634.532809522,
          1104236.9500176783,
          1123489.317269349,
          1138932.7681396122,
          1064102.1947766305,
          1064102.1947766305,
          1064102.1947766305,
          1049569.9715655707,
          1057874.3528344922,
          1050261.2990066048,
          1050261.2990066048,
          1050261.2990066048,
          1050261.2990066048,
          1060858.685444938,
          1060858.685444938,
          1056937.9453144143,
          1053851.7574036643,
          1098024.88457711,
          1088181.920926006,
          1092648.4598753238,
          1102997.1708266037,
          1112307.7334907334,
          1112307.7334907334,
          1122797.044586056,
          1118527.2898814743,
          1112993.5512975822,
          1112993.5512975822,
          1133751.051771183,
          1143047.4197970172,
          1094403.2269359985,
          1092416.5445505856,
          1092416.5445505856,
          1078209.5151917094,
          1071614.3709977553,
          1076418.9083458814,
          1059153.2930686497,
          1080766.8448003577,
          1076208.6654485976,
          1076208.6654485976,
          1076869.1433577337,
          1078138.073459569,
          1079448.7541098348,
          1079955.7198302546,
          1079955.7198302546,
          1079955.7198302546,
          1087016.3463901277,
          1077729.7986624325,
          1069765.8587710336,
          1056613.2813383085,
          1052519.1674268628,
          1055670.6030701366,
          1090100.9691385268,
          1090100.9691385268,
          1109577.2017720658,
          1109577.2017720658,
          1122525.7712811865,
          1133006.20358764,
          1153090.8888568548,
          1153090.8888568548,
          1147161.2745130272,
          1147161.2745130272,
          1107933.1818707874,
          1107933.1818707874,
          1107933.1818707874,
          1107933.1818707874,
          1111374.5642968488,
          1111374.5642968488,
          1104208.5827957366,
          1139429.8041938604,
          1139429.8041938604,
          1159332.55015448,
          1171526.974194464,
          1176883.9760964753,
          1189820.6850715254,
          1189820.6850715254,
          1158565.24427613,
          1118118.1995154924,
          1115750.7629497289,
          1125632.886886998,
          1137649.4109757557,
          1155630.087271297,
          1163175.9557604822,
          1170057.8891671507,
          1170057.8891671507,
          1170057.8891671507,
          1166903.3489678027,
          1168045.7262727926,
          1169152.7314614335,
          1167164.4837193259,
          1167164.4837193259,
          1142204.7407644421,
          1142204.7407644421,
          1104556.7703708524,
          1104556.7703708524,
          1101939.7035344297,
          1101244.305926755,
          1176421.984759342,
          1222564.2305719208,
          1148697.2070553824,
          1147526.6533261284
         ],
         "yaxis": "y"
        }
       ],
       "layout": {
        "legend": {
         "tracegroupgap": 0
        },
        "template": {
         "data": {
          "bar": [
           {
            "error_x": {
             "color": "#2a3f5f"
            },
            "error_y": {
             "color": "#2a3f5f"
            },
            "marker": {
             "line": {
              "color": "#E5ECF6",
              "width": 0.5
             },
             "pattern": {
              "fillmode": "overlay",
              "size": 10,
              "solidity": 0.2
             }
            },
            "type": "bar"
           }
          ],
          "barpolar": [
           {
            "marker": {
             "line": {
              "color": "#E5ECF6",
              "width": 0.5
             },
             "pattern": {
              "fillmode": "overlay",
              "size": 10,
              "solidity": 0.2
             }
            },
            "type": "barpolar"
           }
          ],
          "carpet": [
           {
            "aaxis": {
             "endlinecolor": "#2a3f5f",
             "gridcolor": "white",
             "linecolor": "white",
             "minorgridcolor": "white",
             "startlinecolor": "#2a3f5f"
            },
            "baxis": {
             "endlinecolor": "#2a3f5f",
             "gridcolor": "white",
             "linecolor": "white",
             "minorgridcolor": "white",
             "startlinecolor": "#2a3f5f"
            },
            "type": "carpet"
           }
          ],
          "choropleth": [
           {
            "colorbar": {
             "outlinewidth": 0,
             "ticks": ""
            },
            "type": "choropleth"
           }
          ],
          "contour": [
           {
            "colorbar": {
             "outlinewidth": 0,
             "ticks": ""
            },
            "colorscale": [
             [
              0,
              "#0d0887"
             ],
             [
              0.1111111111111111,
              "#46039f"
             ],
             [
              0.2222222222222222,
              "#7201a8"
             ],
             [
              0.3333333333333333,
              "#9c179e"
             ],
             [
              0.4444444444444444,
              "#bd3786"
             ],
             [
              0.5555555555555556,
              "#d8576b"
             ],
             [
              0.6666666666666666,
              "#ed7953"
             ],
             [
              0.7777777777777778,
              "#fb9f3a"
             ],
             [
              0.8888888888888888,
              "#fdca26"
             ],
             [
              1,
              "#f0f921"
             ]
            ],
            "type": "contour"
           }
          ],
          "contourcarpet": [
           {
            "colorbar": {
             "outlinewidth": 0,
             "ticks": ""
            },
            "type": "contourcarpet"
           }
          ],
          "heatmap": [
           {
            "colorbar": {
             "outlinewidth": 0,
             "ticks": ""
            },
            "colorscale": [
             [
              0,
              "#0d0887"
             ],
             [
              0.1111111111111111,
              "#46039f"
             ],
             [
              0.2222222222222222,
              "#7201a8"
             ],
             [
              0.3333333333333333,
              "#9c179e"
             ],
             [
              0.4444444444444444,
              "#bd3786"
             ],
             [
              0.5555555555555556,
              "#d8576b"
             ],
             [
              0.6666666666666666,
              "#ed7953"
             ],
             [
              0.7777777777777778,
              "#fb9f3a"
             ],
             [
              0.8888888888888888,
              "#fdca26"
             ],
             [
              1,
              "#f0f921"
             ]
            ],
            "type": "heatmap"
           }
          ],
          "heatmapgl": [
           {
            "colorbar": {
             "outlinewidth": 0,
             "ticks": ""
            },
            "colorscale": [
             [
              0,
              "#0d0887"
             ],
             [
              0.1111111111111111,
              "#46039f"
             ],
             [
              0.2222222222222222,
              "#7201a8"
             ],
             [
              0.3333333333333333,
              "#9c179e"
             ],
             [
              0.4444444444444444,
              "#bd3786"
             ],
             [
              0.5555555555555556,
              "#d8576b"
             ],
             [
              0.6666666666666666,
              "#ed7953"
             ],
             [
              0.7777777777777778,
              "#fb9f3a"
             ],
             [
              0.8888888888888888,
              "#fdca26"
             ],
             [
              1,
              "#f0f921"
             ]
            ],
            "type": "heatmapgl"
           }
          ],
          "histogram": [
           {
            "marker": {
             "pattern": {
              "fillmode": "overlay",
              "size": 10,
              "solidity": 0.2
             }
            },
            "type": "histogram"
           }
          ],
          "histogram2d": [
           {
            "colorbar": {
             "outlinewidth": 0,
             "ticks": ""
            },
            "colorscale": [
             [
              0,
              "#0d0887"
             ],
             [
              0.1111111111111111,
              "#46039f"
             ],
             [
              0.2222222222222222,
              "#7201a8"
             ],
             [
              0.3333333333333333,
              "#9c179e"
             ],
             [
              0.4444444444444444,
              "#bd3786"
             ],
             [
              0.5555555555555556,
              "#d8576b"
             ],
             [
              0.6666666666666666,
              "#ed7953"
             ],
             [
              0.7777777777777778,
              "#fb9f3a"
             ],
             [
              0.8888888888888888,
              "#fdca26"
             ],
             [
              1,
              "#f0f921"
             ]
            ],
            "type": "histogram2d"
           }
          ],
          "histogram2dcontour": [
           {
            "colorbar": {
             "outlinewidth": 0,
             "ticks": ""
            },
            "colorscale": [
             [
              0,
              "#0d0887"
             ],
             [
              0.1111111111111111,
              "#46039f"
             ],
             [
              0.2222222222222222,
              "#7201a8"
             ],
             [
              0.3333333333333333,
              "#9c179e"
             ],
             [
              0.4444444444444444,
              "#bd3786"
             ],
             [
              0.5555555555555556,
              "#d8576b"
             ],
             [
              0.6666666666666666,
              "#ed7953"
             ],
             [
              0.7777777777777778,
              "#fb9f3a"
             ],
             [
              0.8888888888888888,
              "#fdca26"
             ],
             [
              1,
              "#f0f921"
             ]
            ],
            "type": "histogram2dcontour"
           }
          ],
          "mesh3d": [
           {
            "colorbar": {
             "outlinewidth": 0,
             "ticks": ""
            },
            "type": "mesh3d"
           }
          ],
          "parcoords": [
           {
            "line": {
             "colorbar": {
              "outlinewidth": 0,
              "ticks": ""
             }
            },
            "type": "parcoords"
           }
          ],
          "pie": [
           {
            "automargin": true,
            "type": "pie"
           }
          ],
          "scatter": [
           {
            "fillpattern": {
             "fillmode": "overlay",
             "size": 10,
             "solidity": 0.2
            },
            "type": "scatter"
           }
          ],
          "scatter3d": [
           {
            "line": {
             "colorbar": {
              "outlinewidth": 0,
              "ticks": ""
             }
            },
            "marker": {
             "colorbar": {
              "outlinewidth": 0,
              "ticks": ""
             }
            },
            "type": "scatter3d"
           }
          ],
          "scattercarpet": [
           {
            "marker": {
             "colorbar": {
              "outlinewidth": 0,
              "ticks": ""
             }
            },
            "type": "scattercarpet"
           }
          ],
          "scattergeo": [
           {
            "marker": {
             "colorbar": {
              "outlinewidth": 0,
              "ticks": ""
             }
            },
            "type": "scattergeo"
           }
          ],
          "scattergl": [
           {
            "marker": {
             "colorbar": {
              "outlinewidth": 0,
              "ticks": ""
             }
            },
            "type": "scattergl"
           }
          ],
          "scattermapbox": [
           {
            "marker": {
             "colorbar": {
              "outlinewidth": 0,
              "ticks": ""
             }
            },
            "type": "scattermapbox"
           }
          ],
          "scatterpolar": [
           {
            "marker": {
             "colorbar": {
              "outlinewidth": 0,
              "ticks": ""
             }
            },
            "type": "scatterpolar"
           }
          ],
          "scatterpolargl": [
           {
            "marker": {
             "colorbar": {
              "outlinewidth": 0,
              "ticks": ""
             }
            },
            "type": "scatterpolargl"
           }
          ],
          "scatterternary": [
           {
            "marker": {
             "colorbar": {
              "outlinewidth": 0,
              "ticks": ""
             }
            },
            "type": "scatterternary"
           }
          ],
          "surface": [
           {
            "colorbar": {
             "outlinewidth": 0,
             "ticks": ""
            },
            "colorscale": [
             [
              0,
              "#0d0887"
             ],
             [
              0.1111111111111111,
              "#46039f"
             ],
             [
              0.2222222222222222,
              "#7201a8"
             ],
             [
              0.3333333333333333,
              "#9c179e"
             ],
             [
              0.4444444444444444,
              "#bd3786"
             ],
             [
              0.5555555555555556,
              "#d8576b"
             ],
             [
              0.6666666666666666,
              "#ed7953"
             ],
             [
              0.7777777777777778,
              "#fb9f3a"
             ],
             [
              0.8888888888888888,
              "#fdca26"
             ],
             [
              1,
              "#f0f921"
             ]
            ],
            "type": "surface"
           }
          ],
          "table": [
           {
            "cells": {
             "fill": {
              "color": "#EBF0F8"
             },
             "line": {
              "color": "white"
             }
            },
            "header": {
             "fill": {
              "color": "#C8D4E3"
             },
             "line": {
              "color": "white"
             }
            },
            "type": "table"
           }
          ]
         },
         "layout": {
          "annotationdefaults": {
           "arrowcolor": "#2a3f5f",
           "arrowhead": 0,
           "arrowwidth": 1
          },
          "autotypenumbers": "strict",
          "coloraxis": {
           "colorbar": {
            "outlinewidth": 0,
            "ticks": ""
           }
          },
          "colorscale": {
           "diverging": [
            [
             0,
             "#8e0152"
            ],
            [
             0.1,
             "#c51b7d"
            ],
            [
             0.2,
             "#de77ae"
            ],
            [
             0.3,
             "#f1b6da"
            ],
            [
             0.4,
             "#fde0ef"
            ],
            [
             0.5,
             "#f7f7f7"
            ],
            [
             0.6,
             "#e6f5d0"
            ],
            [
             0.7,
             "#b8e186"
            ],
            [
             0.8,
             "#7fbc41"
            ],
            [
             0.9,
             "#4d9221"
            ],
            [
             1,
             "#276419"
            ]
           ],
           "sequential": [
            [
             0,
             "#0d0887"
            ],
            [
             0.1111111111111111,
             "#46039f"
            ],
            [
             0.2222222222222222,
             "#7201a8"
            ],
            [
             0.3333333333333333,
             "#9c179e"
            ],
            [
             0.4444444444444444,
             "#bd3786"
            ],
            [
             0.5555555555555556,
             "#d8576b"
            ],
            [
             0.6666666666666666,
             "#ed7953"
            ],
            [
             0.7777777777777778,
             "#fb9f3a"
            ],
            [
             0.8888888888888888,
             "#fdca26"
            ],
            [
             1,
             "#f0f921"
            ]
           ],
           "sequentialminus": [
            [
             0,
             "#0d0887"
            ],
            [
             0.1111111111111111,
             "#46039f"
            ],
            [
             0.2222222222222222,
             "#7201a8"
            ],
            [
             0.3333333333333333,
             "#9c179e"
            ],
            [
             0.4444444444444444,
             "#bd3786"
            ],
            [
             0.5555555555555556,
             "#d8576b"
            ],
            [
             0.6666666666666666,
             "#ed7953"
            ],
            [
             0.7777777777777778,
             "#fb9f3a"
            ],
            [
             0.8888888888888888,
             "#fdca26"
            ],
            [
             1,
             "#f0f921"
            ]
           ]
          },
          "colorway": [
           "#636efa",
           "#EF553B",
           "#00cc96",
           "#ab63fa",
           "#FFA15A",
           "#19d3f3",
           "#FF6692",
           "#B6E880",
           "#FF97FF",
           "#FECB52"
          ],
          "font": {
           "color": "#2a3f5f"
          },
          "geo": {
           "bgcolor": "white",
           "lakecolor": "white",
           "landcolor": "#E5ECF6",
           "showlakes": true,
           "showland": true,
           "subunitcolor": "white"
          },
          "hoverlabel": {
           "align": "left"
          },
          "hovermode": "closest",
          "mapbox": {
           "style": "light"
          },
          "paper_bgcolor": "white",
          "plot_bgcolor": "#E5ECF6",
          "polar": {
           "angularaxis": {
            "gridcolor": "white",
            "linecolor": "white",
            "ticks": ""
           },
           "bgcolor": "#E5ECF6",
           "radialaxis": {
            "gridcolor": "white",
            "linecolor": "white",
            "ticks": ""
           }
          },
          "scene": {
           "xaxis": {
            "backgroundcolor": "#E5ECF6",
            "gridcolor": "white",
            "gridwidth": 2,
            "linecolor": "white",
            "showbackground": true,
            "ticks": "",
            "zerolinecolor": "white"
           },
           "yaxis": {
            "backgroundcolor": "#E5ECF6",
            "gridcolor": "white",
            "gridwidth": 2,
            "linecolor": "white",
            "showbackground": true,
            "ticks": "",
            "zerolinecolor": "white"
           },
           "zaxis": {
            "backgroundcolor": "#E5ECF6",
            "gridcolor": "white",
            "gridwidth": 2,
            "linecolor": "white",
            "showbackground": true,
            "ticks": "",
            "zerolinecolor": "white"
           }
          },
          "shapedefaults": {
           "line": {
            "color": "#2a3f5f"
           }
          },
          "ternary": {
           "aaxis": {
            "gridcolor": "white",
            "linecolor": "white",
            "ticks": ""
           },
           "baxis": {
            "gridcolor": "white",
            "linecolor": "white",
            "ticks": ""
           },
           "bgcolor": "#E5ECF6",
           "caxis": {
            "gridcolor": "white",
            "linecolor": "white",
            "ticks": ""
           }
          },
          "title": {
           "x": 0.05
          },
          "xaxis": {
           "automargin": true,
           "gridcolor": "white",
           "linecolor": "white",
           "ticks": "",
           "title": {
            "standoff": 15
           },
           "zerolinecolor": "white",
           "zerolinewidth": 2
          },
          "yaxis": {
           "automargin": true,
           "gridcolor": "white",
           "linecolor": "white",
           "ticks": "",
           "title": {
            "standoff": 15
           },
           "zerolinecolor": "white",
           "zerolinewidth": 2
          }
         }
        },
        "title": {
         "text": "Capital Progress"
        },
        "xaxis": {
         "anchor": "y",
         "domain": [
          0,
          1
         ],
         "title": {
          "text": "x"
         }
        },
        "yaxis": {
         "anchor": "x",
         "domain": [
          0,
          1
         ],
         "title": {
          "text": "y"
         }
        }
       }
      }
     },
     "metadata": {},
     "output_type": "display_data"
    }
   ],
   "source": [
    "px.line(x = df_valid.index, y = total_capital_progress_valid, title = 'Capital Progress')"
   ]
  },
  {
   "cell_type": "code",
   "execution_count": 348,
   "metadata": {},
   "outputs": [
    {
     "data": {
      "application/vnd.plotly.v1+json": {
       "config": {
        "plotlyServerURL": "https://plot.ly"
       },
       "data": [
        {
         "hovertemplate": "x=%{x}<br>y=%{y}<extra></extra>",
         "legendgroup": "",
         "line": {
          "color": "#636efa",
          "dash": "solid"
         },
         "marker": {
          "symbol": "circle"
         },
         "mode": "lines",
         "name": "",
         "orientation": "v",
         "showlegend": false,
         "type": "scatter",
         "x": [
          "2024-01-02T00:00:00",
          "2024-01-03T00:00:00",
          "2024-01-04T00:00:00",
          "2024-01-05T00:00:00",
          "2024-01-08T00:00:00",
          "2024-01-09T00:00:00",
          "2024-01-10T00:00:00",
          "2024-01-11T00:00:00",
          "2024-01-12T00:00:00",
          "2024-01-16T00:00:00",
          "2024-01-17T00:00:00",
          "2024-01-18T00:00:00",
          "2024-01-19T00:00:00",
          "2024-01-22T00:00:00",
          "2024-01-23T00:00:00",
          "2024-01-24T00:00:00",
          "2024-01-25T00:00:00",
          "2024-01-26T00:00:00",
          "2024-01-29T00:00:00",
          "2024-01-30T00:00:00",
          "2024-01-31T00:00:00",
          "2024-02-01T00:00:00",
          "2024-02-02T00:00:00",
          "2024-02-05T00:00:00",
          "2024-02-06T00:00:00",
          "2024-02-07T00:00:00",
          "2024-02-08T00:00:00",
          "2024-02-09T00:00:00",
          "2024-02-12T00:00:00",
          "2024-02-13T00:00:00",
          "2024-02-14T00:00:00",
          "2024-02-15T00:00:00",
          "2024-02-16T00:00:00",
          "2024-02-20T00:00:00",
          "2024-02-21T00:00:00",
          "2024-02-22T00:00:00",
          "2024-02-23T00:00:00",
          "2024-02-26T00:00:00",
          "2024-02-27T00:00:00",
          "2024-02-28T00:00:00",
          "2024-02-29T00:00:00",
          "2024-03-01T00:00:00",
          "2024-03-04T00:00:00",
          "2024-03-05T00:00:00",
          "2024-03-06T00:00:00",
          "2024-03-07T00:00:00",
          "2024-03-08T00:00:00",
          "2024-03-11T00:00:00",
          "2024-03-12T00:00:00",
          "2024-03-13T00:00:00",
          "2024-03-14T00:00:00",
          "2024-03-15T00:00:00",
          "2024-03-18T00:00:00",
          "2024-03-19T00:00:00",
          "2024-03-20T00:00:00",
          "2024-03-21T00:00:00",
          "2024-03-22T00:00:00",
          "2024-03-25T00:00:00",
          "2024-03-26T00:00:00",
          "2024-03-27T00:00:00",
          "2024-03-28T00:00:00",
          "2024-04-01T00:00:00",
          "2024-04-02T00:00:00",
          "2024-04-03T00:00:00",
          "2024-04-04T00:00:00",
          "2024-04-05T00:00:00",
          "2024-04-08T00:00:00",
          "2024-04-09T00:00:00",
          "2024-04-10T00:00:00",
          "2024-04-11T00:00:00",
          "2024-04-12T00:00:00",
          "2024-04-15T00:00:00",
          "2024-04-16T00:00:00",
          "2024-04-17T00:00:00",
          "2024-04-18T00:00:00",
          "2024-04-19T00:00:00",
          "2024-04-22T00:00:00",
          "2024-04-23T00:00:00",
          "2024-04-24T00:00:00",
          "2024-04-25T00:00:00",
          "2024-04-26T00:00:00",
          "2024-04-29T00:00:00",
          "2024-04-30T00:00:00",
          "2024-05-01T00:00:00",
          "2024-05-02T00:00:00",
          "2024-05-03T00:00:00",
          "2024-05-06T00:00:00",
          "2024-05-07T00:00:00",
          "2024-05-08T00:00:00",
          "2024-05-09T00:00:00",
          "2024-05-10T00:00:00",
          "2024-05-13T00:00:00",
          "2024-05-14T00:00:00",
          "2024-05-15T00:00:00",
          "2024-05-16T00:00:00",
          "2024-05-17T00:00:00",
          "2024-05-20T00:00:00",
          "2024-05-21T00:00:00",
          "2024-05-22T00:00:00",
          "2024-05-23T00:00:00",
          "2024-05-24T00:00:00",
          "2024-05-28T00:00:00",
          "2024-05-29T00:00:00",
          "2024-05-30T00:00:00",
          "2024-05-31T00:00:00",
          "2024-06-03T00:00:00",
          "2024-06-04T00:00:00",
          "2024-06-05T00:00:00",
          "2024-06-06T00:00:00",
          "2024-06-07T00:00:00",
          "2024-06-10T00:00:00",
          "2024-06-11T00:00:00",
          "2024-06-12T00:00:00",
          "2024-06-13T00:00:00",
          "2024-06-14T00:00:00",
          "2024-06-17T00:00:00",
          "2024-06-18T00:00:00",
          "2024-06-20T00:00:00",
          "2024-06-21T00:00:00",
          "2024-06-24T00:00:00",
          "2024-06-25T00:00:00",
          "2024-06-26T00:00:00",
          "2024-06-27T00:00:00",
          "2024-06-28T00:00:00"
         ],
         "xaxis": "x",
         "y": [
          3014.7745017298066,
          6029.549003459613,
          9044.323505189419,
          9544.484935936298,
          1891.9158068419126,
          1891.9158068419126,
          989.9990279892316,
          0,
          989.9990279892316,
          989.9990279892316,
          989.9990279892316,
          0,
          378.3831613683825,
          756.766322736765,
          1135.1494841051476,
          1135.1494841051476,
          0,
          2822.471684015019,
          2822.471684015019,
          2822.471684015019,
          0,
          7166.246332828045,
          1702.781695492975,
          9150.575659406397,
          14747.766062966897,
          14965.156226308296,
          1498.7427822180678,
          1873.4284777725848,
          0,
          0,
          0,
          374.68569555451694,
          7373.883031483449,
          374.68569555451694,
          374.68569555451694,
          374.68569555451694,
          374.68569555451694,
          1702.781695492975,
          1702.781695492975,
          3405.56339098595,
          5108.345086478924,
          3597.6191050299435,
          3761.539207162688,
          5545.160049600127,
          5441.426498637577,
          6578.035379735366,
          6578.035379735366,
          6094.64721719424,
          7870.209915410385,
          10135.532720715883,
          10135.532720715883,
          9944.227457930414,
          11041.579593572924,
          5664.004762446639,
          319.138501403915,
          319.138501403915,
          3555.9403851747297,
          4522.247865158762,
          5703.805575036689,
          6740.254390222267,
          2821.605388465081,
          1411.0174491947598,
          1411.0174491947598,
          2822.0348983895196,
          4233.052347584279,
          5644.069796779039,
          7055.087245973799,
          7055.087245973799,
          7055.087245973799,
          0,
          2537.942591736288,
          5075.885183472576,
          7663.93921959104,
          7726.050186857063,
          7782.851355491225,
          3335.0690981104917,
          3335.0690981104917,
          2700.284856885116,
          2700.284856885116,
          2599.958007679845,
          5075.885183472576,
          7663.93921959104,
          7663.93921959104,
          13779.298442931786,
          13779.298442931786,
          335.7856382220125,
          335.7856382220125,
          335.7856382220125,
          335.7856382220125,
          661.0344728401111,
          661.0344728401111,
          2259.211354689068,
          7219.498506318645,
          7219.498506318645,
          4428.730572466128,
          4065.6101011663327,
          4650.962079719235,
          6031.859726477306,
          6031.859726477306,
          4266.350157442147,
          652.141317454939,
          978.2119761824085,
          2565.309777807907,
          4498.888462097381,
          4173.777211176148,
          5357.592138339527,
          7130.9096555291635,
          7130.9096555291635,
          7130.9096555291635,
          7202.782228581398,
          7279.089279314499,
          7359.329226826096,
          7130.534338829522,
          7130.534338829522,
          0,
          0,
          2022.5834823741945,
          2022.5834823741945,
          3753.5254104171777,
          3850.789908563558,
          4020.837301485465,
          1964.107329340549,
          0,
          1724.36112228027
         ],
         "yaxis": "y"
        }
       ],
       "layout": {
        "legend": {
         "tracegroupgap": 0
        },
        "template": {
         "data": {
          "bar": [
           {
            "error_x": {
             "color": "#2a3f5f"
            },
            "error_y": {
             "color": "#2a3f5f"
            },
            "marker": {
             "line": {
              "color": "#E5ECF6",
              "width": 0.5
             },
             "pattern": {
              "fillmode": "overlay",
              "size": 10,
              "solidity": 0.2
             }
            },
            "type": "bar"
           }
          ],
          "barpolar": [
           {
            "marker": {
             "line": {
              "color": "#E5ECF6",
              "width": 0.5
             },
             "pattern": {
              "fillmode": "overlay",
              "size": 10,
              "solidity": 0.2
             }
            },
            "type": "barpolar"
           }
          ],
          "carpet": [
           {
            "aaxis": {
             "endlinecolor": "#2a3f5f",
             "gridcolor": "white",
             "linecolor": "white",
             "minorgridcolor": "white",
             "startlinecolor": "#2a3f5f"
            },
            "baxis": {
             "endlinecolor": "#2a3f5f",
             "gridcolor": "white",
             "linecolor": "white",
             "minorgridcolor": "white",
             "startlinecolor": "#2a3f5f"
            },
            "type": "carpet"
           }
          ],
          "choropleth": [
           {
            "colorbar": {
             "outlinewidth": 0,
             "ticks": ""
            },
            "type": "choropleth"
           }
          ],
          "contour": [
           {
            "colorbar": {
             "outlinewidth": 0,
             "ticks": ""
            },
            "colorscale": [
             [
              0,
              "#0d0887"
             ],
             [
              0.1111111111111111,
              "#46039f"
             ],
             [
              0.2222222222222222,
              "#7201a8"
             ],
             [
              0.3333333333333333,
              "#9c179e"
             ],
             [
              0.4444444444444444,
              "#bd3786"
             ],
             [
              0.5555555555555556,
              "#d8576b"
             ],
             [
              0.6666666666666666,
              "#ed7953"
             ],
             [
              0.7777777777777778,
              "#fb9f3a"
             ],
             [
              0.8888888888888888,
              "#fdca26"
             ],
             [
              1,
              "#f0f921"
             ]
            ],
            "type": "contour"
           }
          ],
          "contourcarpet": [
           {
            "colorbar": {
             "outlinewidth": 0,
             "ticks": ""
            },
            "type": "contourcarpet"
           }
          ],
          "heatmap": [
           {
            "colorbar": {
             "outlinewidth": 0,
             "ticks": ""
            },
            "colorscale": [
             [
              0,
              "#0d0887"
             ],
             [
              0.1111111111111111,
              "#46039f"
             ],
             [
              0.2222222222222222,
              "#7201a8"
             ],
             [
              0.3333333333333333,
              "#9c179e"
             ],
             [
              0.4444444444444444,
              "#bd3786"
             ],
             [
              0.5555555555555556,
              "#d8576b"
             ],
             [
              0.6666666666666666,
              "#ed7953"
             ],
             [
              0.7777777777777778,
              "#fb9f3a"
             ],
             [
              0.8888888888888888,
              "#fdca26"
             ],
             [
              1,
              "#f0f921"
             ]
            ],
            "type": "heatmap"
           }
          ],
          "heatmapgl": [
           {
            "colorbar": {
             "outlinewidth": 0,
             "ticks": ""
            },
            "colorscale": [
             [
              0,
              "#0d0887"
             ],
             [
              0.1111111111111111,
              "#46039f"
             ],
             [
              0.2222222222222222,
              "#7201a8"
             ],
             [
              0.3333333333333333,
              "#9c179e"
             ],
             [
              0.4444444444444444,
              "#bd3786"
             ],
             [
              0.5555555555555556,
              "#d8576b"
             ],
             [
              0.6666666666666666,
              "#ed7953"
             ],
             [
              0.7777777777777778,
              "#fb9f3a"
             ],
             [
              0.8888888888888888,
              "#fdca26"
             ],
             [
              1,
              "#f0f921"
             ]
            ],
            "type": "heatmapgl"
           }
          ],
          "histogram": [
           {
            "marker": {
             "pattern": {
              "fillmode": "overlay",
              "size": 10,
              "solidity": 0.2
             }
            },
            "type": "histogram"
           }
          ],
          "histogram2d": [
           {
            "colorbar": {
             "outlinewidth": 0,
             "ticks": ""
            },
            "colorscale": [
             [
              0,
              "#0d0887"
             ],
             [
              0.1111111111111111,
              "#46039f"
             ],
             [
              0.2222222222222222,
              "#7201a8"
             ],
             [
              0.3333333333333333,
              "#9c179e"
             ],
             [
              0.4444444444444444,
              "#bd3786"
             ],
             [
              0.5555555555555556,
              "#d8576b"
             ],
             [
              0.6666666666666666,
              "#ed7953"
             ],
             [
              0.7777777777777778,
              "#fb9f3a"
             ],
             [
              0.8888888888888888,
              "#fdca26"
             ],
             [
              1,
              "#f0f921"
             ]
            ],
            "type": "histogram2d"
           }
          ],
          "histogram2dcontour": [
           {
            "colorbar": {
             "outlinewidth": 0,
             "ticks": ""
            },
            "colorscale": [
             [
              0,
              "#0d0887"
             ],
             [
              0.1111111111111111,
              "#46039f"
             ],
             [
              0.2222222222222222,
              "#7201a8"
             ],
             [
              0.3333333333333333,
              "#9c179e"
             ],
             [
              0.4444444444444444,
              "#bd3786"
             ],
             [
              0.5555555555555556,
              "#d8576b"
             ],
             [
              0.6666666666666666,
              "#ed7953"
             ],
             [
              0.7777777777777778,
              "#fb9f3a"
             ],
             [
              0.8888888888888888,
              "#fdca26"
             ],
             [
              1,
              "#f0f921"
             ]
            ],
            "type": "histogram2dcontour"
           }
          ],
          "mesh3d": [
           {
            "colorbar": {
             "outlinewidth": 0,
             "ticks": ""
            },
            "type": "mesh3d"
           }
          ],
          "parcoords": [
           {
            "line": {
             "colorbar": {
              "outlinewidth": 0,
              "ticks": ""
             }
            },
            "type": "parcoords"
           }
          ],
          "pie": [
           {
            "automargin": true,
            "type": "pie"
           }
          ],
          "scatter": [
           {
            "fillpattern": {
             "fillmode": "overlay",
             "size": 10,
             "solidity": 0.2
            },
            "type": "scatter"
           }
          ],
          "scatter3d": [
           {
            "line": {
             "colorbar": {
              "outlinewidth": 0,
              "ticks": ""
             }
            },
            "marker": {
             "colorbar": {
              "outlinewidth": 0,
              "ticks": ""
             }
            },
            "type": "scatter3d"
           }
          ],
          "scattercarpet": [
           {
            "marker": {
             "colorbar": {
              "outlinewidth": 0,
              "ticks": ""
             }
            },
            "type": "scattercarpet"
           }
          ],
          "scattergeo": [
           {
            "marker": {
             "colorbar": {
              "outlinewidth": 0,
              "ticks": ""
             }
            },
            "type": "scattergeo"
           }
          ],
          "scattergl": [
           {
            "marker": {
             "colorbar": {
              "outlinewidth": 0,
              "ticks": ""
             }
            },
            "type": "scattergl"
           }
          ],
          "scattermapbox": [
           {
            "marker": {
             "colorbar": {
              "outlinewidth": 0,
              "ticks": ""
             }
            },
            "type": "scattermapbox"
           }
          ],
          "scatterpolar": [
           {
            "marker": {
             "colorbar": {
              "outlinewidth": 0,
              "ticks": ""
             }
            },
            "type": "scatterpolar"
           }
          ],
          "scatterpolargl": [
           {
            "marker": {
             "colorbar": {
              "outlinewidth": 0,
              "ticks": ""
             }
            },
            "type": "scatterpolargl"
           }
          ],
          "scatterternary": [
           {
            "marker": {
             "colorbar": {
              "outlinewidth": 0,
              "ticks": ""
             }
            },
            "type": "scatterternary"
           }
          ],
          "surface": [
           {
            "colorbar": {
             "outlinewidth": 0,
             "ticks": ""
            },
            "colorscale": [
             [
              0,
              "#0d0887"
             ],
             [
              0.1111111111111111,
              "#46039f"
             ],
             [
              0.2222222222222222,
              "#7201a8"
             ],
             [
              0.3333333333333333,
              "#9c179e"
             ],
             [
              0.4444444444444444,
              "#bd3786"
             ],
             [
              0.5555555555555556,
              "#d8576b"
             ],
             [
              0.6666666666666666,
              "#ed7953"
             ],
             [
              0.7777777777777778,
              "#fb9f3a"
             ],
             [
              0.8888888888888888,
              "#fdca26"
             ],
             [
              1,
              "#f0f921"
             ]
            ],
            "type": "surface"
           }
          ],
          "table": [
           {
            "cells": {
             "fill": {
              "color": "#EBF0F8"
             },
             "line": {
              "color": "white"
             }
            },
            "header": {
             "fill": {
              "color": "#C8D4E3"
             },
             "line": {
              "color": "white"
             }
            },
            "type": "table"
           }
          ]
         },
         "layout": {
          "annotationdefaults": {
           "arrowcolor": "#2a3f5f",
           "arrowhead": 0,
           "arrowwidth": 1
          },
          "autotypenumbers": "strict",
          "coloraxis": {
           "colorbar": {
            "outlinewidth": 0,
            "ticks": ""
           }
          },
          "colorscale": {
           "diverging": [
            [
             0,
             "#8e0152"
            ],
            [
             0.1,
             "#c51b7d"
            ],
            [
             0.2,
             "#de77ae"
            ],
            [
             0.3,
             "#f1b6da"
            ],
            [
             0.4,
             "#fde0ef"
            ],
            [
             0.5,
             "#f7f7f7"
            ],
            [
             0.6,
             "#e6f5d0"
            ],
            [
             0.7,
             "#b8e186"
            ],
            [
             0.8,
             "#7fbc41"
            ],
            [
             0.9,
             "#4d9221"
            ],
            [
             1,
             "#276419"
            ]
           ],
           "sequential": [
            [
             0,
             "#0d0887"
            ],
            [
             0.1111111111111111,
             "#46039f"
            ],
            [
             0.2222222222222222,
             "#7201a8"
            ],
            [
             0.3333333333333333,
             "#9c179e"
            ],
            [
             0.4444444444444444,
             "#bd3786"
            ],
            [
             0.5555555555555556,
             "#d8576b"
            ],
            [
             0.6666666666666666,
             "#ed7953"
            ],
            [
             0.7777777777777778,
             "#fb9f3a"
            ],
            [
             0.8888888888888888,
             "#fdca26"
            ],
            [
             1,
             "#f0f921"
            ]
           ],
           "sequentialminus": [
            [
             0,
             "#0d0887"
            ],
            [
             0.1111111111111111,
             "#46039f"
            ],
            [
             0.2222222222222222,
             "#7201a8"
            ],
            [
             0.3333333333333333,
             "#9c179e"
            ],
            [
             0.4444444444444444,
             "#bd3786"
            ],
            [
             0.5555555555555556,
             "#d8576b"
            ],
            [
             0.6666666666666666,
             "#ed7953"
            ],
            [
             0.7777777777777778,
             "#fb9f3a"
            ],
            [
             0.8888888888888888,
             "#fdca26"
            ],
            [
             1,
             "#f0f921"
            ]
           ]
          },
          "colorway": [
           "#636efa",
           "#EF553B",
           "#00cc96",
           "#ab63fa",
           "#FFA15A",
           "#19d3f3",
           "#FF6692",
           "#B6E880",
           "#FF97FF",
           "#FECB52"
          ],
          "font": {
           "color": "#2a3f5f"
          },
          "geo": {
           "bgcolor": "white",
           "lakecolor": "white",
           "landcolor": "#E5ECF6",
           "showlakes": true,
           "showland": true,
           "subunitcolor": "white"
          },
          "hoverlabel": {
           "align": "left"
          },
          "hovermode": "closest",
          "mapbox": {
           "style": "light"
          },
          "paper_bgcolor": "white",
          "plot_bgcolor": "#E5ECF6",
          "polar": {
           "angularaxis": {
            "gridcolor": "white",
            "linecolor": "white",
            "ticks": ""
           },
           "bgcolor": "#E5ECF6",
           "radialaxis": {
            "gridcolor": "white",
            "linecolor": "white",
            "ticks": ""
           }
          },
          "scene": {
           "xaxis": {
            "backgroundcolor": "#E5ECF6",
            "gridcolor": "white",
            "gridwidth": 2,
            "linecolor": "white",
            "showbackground": true,
            "ticks": "",
            "zerolinecolor": "white"
           },
           "yaxis": {
            "backgroundcolor": "#E5ECF6",
            "gridcolor": "white",
            "gridwidth": 2,
            "linecolor": "white",
            "showbackground": true,
            "ticks": "",
            "zerolinecolor": "white"
           },
           "zaxis": {
            "backgroundcolor": "#E5ECF6",
            "gridcolor": "white",
            "gridwidth": 2,
            "linecolor": "white",
            "showbackground": true,
            "ticks": "",
            "zerolinecolor": "white"
           }
          },
          "shapedefaults": {
           "line": {
            "color": "#2a3f5f"
           }
          },
          "ternary": {
           "aaxis": {
            "gridcolor": "white",
            "linecolor": "white",
            "ticks": ""
           },
           "baxis": {
            "gridcolor": "white",
            "linecolor": "white",
            "ticks": ""
           },
           "bgcolor": "#E5ECF6",
           "caxis": {
            "gridcolor": "white",
            "linecolor": "white",
            "ticks": ""
           }
          },
          "title": {
           "x": 0.05
          },
          "xaxis": {
           "automargin": true,
           "gridcolor": "white",
           "linecolor": "white",
           "ticks": "",
           "title": {
            "standoff": 15
           },
           "zerolinecolor": "white",
           "zerolinewidth": 2
          },
          "yaxis": {
           "automargin": true,
           "gridcolor": "white",
           "linecolor": "white",
           "ticks": "",
           "title": {
            "standoff": 15
           },
           "zerolinecolor": "white",
           "zerolinewidth": 2
          }
         }
        },
        "title": {
         "text": "Total Value (Cash + current stock value)"
        },
        "xaxis": {
         "anchor": "y",
         "domain": [
          0,
          1
         ],
         "title": {
          "text": "x"
         }
        },
        "yaxis": {
         "anchor": "x",
         "domain": [
          0,
          1
         ],
         "title": {
          "text": "y"
         }
        }
       }
      }
     },
     "metadata": {},
     "output_type": "display_data"
    }
   ],
   "source": [
    "px.line(x = date_index,y = volatility_valid_list, title = 'Total Value (Cash + current stock value)').show()"
   ]
  },
  {
   "cell_type": "code",
   "execution_count": null,
   "metadata": {},
   "outputs": [],
   "source": []
  },
  {
   "cell_type": "markdown",
   "metadata": {},
   "source": [
    "## Test Plot"
   ]
  },
  {
   "cell_type": "code",
   "execution_count": 349,
   "metadata": {},
   "outputs": [
    {
     "data": {
      "application/vnd.plotly.v1+json": {
       "config": {
        "plotlyServerURL": "https://plot.ly"
       },
       "data": [
        {
         "hovertemplate": "x=%{x}<br>y=%{y}<extra></extra>",
         "legendgroup": "",
         "line": {
          "color": "#636efa",
          "dash": "solid"
         },
         "marker": {
          "symbol": "circle"
         },
         "mode": "lines",
         "name": "",
         "orientation": "v",
         "showlegend": false,
         "type": "scatter",
         "x": [
          "2024-07-01T00:00:00",
          "2024-07-02T00:00:00",
          "2024-07-03T00:00:00",
          "2024-07-05T00:00:00",
          "2024-07-08T00:00:00",
          "2024-07-09T00:00:00",
          "2024-07-10T00:00:00",
          "2024-07-11T00:00:00",
          "2024-07-12T00:00:00",
          "2024-07-15T00:00:00",
          "2024-07-16T00:00:00",
          "2024-07-17T00:00:00",
          "2024-07-18T00:00:00",
          "2024-07-19T00:00:00",
          "2024-07-22T00:00:00",
          "2024-07-23T00:00:00",
          "2024-07-24T00:00:00",
          "2024-07-25T00:00:00",
          "2024-07-26T00:00:00",
          "2024-07-29T00:00:00"
         ],
         "xaxis": "x",
         "y": [
          963838.5481017744,
          922487.0738218885,
          881511.8174783587,
          879075.278283891,
          879075.278283891,
          999531.0027216068,
          1039340.4097910468,
          1037127.4309832479,
          1034523.1234255543,
          1034523.1234255543,
          1021915.3055193739,
          1064504.9911965663,
          1064504.9911965663,
          1114305.4621192915,
          1156437.6240717613,
          1156437.6240717613,
          1048895.4727125205,
          1046405.4515271084,
          1046405.4515271084,
          1046405.4515271084
         ],
         "yaxis": "y"
        }
       ],
       "layout": {
        "legend": {
         "tracegroupgap": 0
        },
        "template": {
         "data": {
          "bar": [
           {
            "error_x": {
             "color": "#2a3f5f"
            },
            "error_y": {
             "color": "#2a3f5f"
            },
            "marker": {
             "line": {
              "color": "#E5ECF6",
              "width": 0.5
             },
             "pattern": {
              "fillmode": "overlay",
              "size": 10,
              "solidity": 0.2
             }
            },
            "type": "bar"
           }
          ],
          "barpolar": [
           {
            "marker": {
             "line": {
              "color": "#E5ECF6",
              "width": 0.5
             },
             "pattern": {
              "fillmode": "overlay",
              "size": 10,
              "solidity": 0.2
             }
            },
            "type": "barpolar"
           }
          ],
          "carpet": [
           {
            "aaxis": {
             "endlinecolor": "#2a3f5f",
             "gridcolor": "white",
             "linecolor": "white",
             "minorgridcolor": "white",
             "startlinecolor": "#2a3f5f"
            },
            "baxis": {
             "endlinecolor": "#2a3f5f",
             "gridcolor": "white",
             "linecolor": "white",
             "minorgridcolor": "white",
             "startlinecolor": "#2a3f5f"
            },
            "type": "carpet"
           }
          ],
          "choropleth": [
           {
            "colorbar": {
             "outlinewidth": 0,
             "ticks": ""
            },
            "type": "choropleth"
           }
          ],
          "contour": [
           {
            "colorbar": {
             "outlinewidth": 0,
             "ticks": ""
            },
            "colorscale": [
             [
              0,
              "#0d0887"
             ],
             [
              0.1111111111111111,
              "#46039f"
             ],
             [
              0.2222222222222222,
              "#7201a8"
             ],
             [
              0.3333333333333333,
              "#9c179e"
             ],
             [
              0.4444444444444444,
              "#bd3786"
             ],
             [
              0.5555555555555556,
              "#d8576b"
             ],
             [
              0.6666666666666666,
              "#ed7953"
             ],
             [
              0.7777777777777778,
              "#fb9f3a"
             ],
             [
              0.8888888888888888,
              "#fdca26"
             ],
             [
              1,
              "#f0f921"
             ]
            ],
            "type": "contour"
           }
          ],
          "contourcarpet": [
           {
            "colorbar": {
             "outlinewidth": 0,
             "ticks": ""
            },
            "type": "contourcarpet"
           }
          ],
          "heatmap": [
           {
            "colorbar": {
             "outlinewidth": 0,
             "ticks": ""
            },
            "colorscale": [
             [
              0,
              "#0d0887"
             ],
             [
              0.1111111111111111,
              "#46039f"
             ],
             [
              0.2222222222222222,
              "#7201a8"
             ],
             [
              0.3333333333333333,
              "#9c179e"
             ],
             [
              0.4444444444444444,
              "#bd3786"
             ],
             [
              0.5555555555555556,
              "#d8576b"
             ],
             [
              0.6666666666666666,
              "#ed7953"
             ],
             [
              0.7777777777777778,
              "#fb9f3a"
             ],
             [
              0.8888888888888888,
              "#fdca26"
             ],
             [
              1,
              "#f0f921"
             ]
            ],
            "type": "heatmap"
           }
          ],
          "heatmapgl": [
           {
            "colorbar": {
             "outlinewidth": 0,
             "ticks": ""
            },
            "colorscale": [
             [
              0,
              "#0d0887"
             ],
             [
              0.1111111111111111,
              "#46039f"
             ],
             [
              0.2222222222222222,
              "#7201a8"
             ],
             [
              0.3333333333333333,
              "#9c179e"
             ],
             [
              0.4444444444444444,
              "#bd3786"
             ],
             [
              0.5555555555555556,
              "#d8576b"
             ],
             [
              0.6666666666666666,
              "#ed7953"
             ],
             [
              0.7777777777777778,
              "#fb9f3a"
             ],
             [
              0.8888888888888888,
              "#fdca26"
             ],
             [
              1,
              "#f0f921"
             ]
            ],
            "type": "heatmapgl"
           }
          ],
          "histogram": [
           {
            "marker": {
             "pattern": {
              "fillmode": "overlay",
              "size": 10,
              "solidity": 0.2
             }
            },
            "type": "histogram"
           }
          ],
          "histogram2d": [
           {
            "colorbar": {
             "outlinewidth": 0,
             "ticks": ""
            },
            "colorscale": [
             [
              0,
              "#0d0887"
             ],
             [
              0.1111111111111111,
              "#46039f"
             ],
             [
              0.2222222222222222,
              "#7201a8"
             ],
             [
              0.3333333333333333,
              "#9c179e"
             ],
             [
              0.4444444444444444,
              "#bd3786"
             ],
             [
              0.5555555555555556,
              "#d8576b"
             ],
             [
              0.6666666666666666,
              "#ed7953"
             ],
             [
              0.7777777777777778,
              "#fb9f3a"
             ],
             [
              0.8888888888888888,
              "#fdca26"
             ],
             [
              1,
              "#f0f921"
             ]
            ],
            "type": "histogram2d"
           }
          ],
          "histogram2dcontour": [
           {
            "colorbar": {
             "outlinewidth": 0,
             "ticks": ""
            },
            "colorscale": [
             [
              0,
              "#0d0887"
             ],
             [
              0.1111111111111111,
              "#46039f"
             ],
             [
              0.2222222222222222,
              "#7201a8"
             ],
             [
              0.3333333333333333,
              "#9c179e"
             ],
             [
              0.4444444444444444,
              "#bd3786"
             ],
             [
              0.5555555555555556,
              "#d8576b"
             ],
             [
              0.6666666666666666,
              "#ed7953"
             ],
             [
              0.7777777777777778,
              "#fb9f3a"
             ],
             [
              0.8888888888888888,
              "#fdca26"
             ],
             [
              1,
              "#f0f921"
             ]
            ],
            "type": "histogram2dcontour"
           }
          ],
          "mesh3d": [
           {
            "colorbar": {
             "outlinewidth": 0,
             "ticks": ""
            },
            "type": "mesh3d"
           }
          ],
          "parcoords": [
           {
            "line": {
             "colorbar": {
              "outlinewidth": 0,
              "ticks": ""
             }
            },
            "type": "parcoords"
           }
          ],
          "pie": [
           {
            "automargin": true,
            "type": "pie"
           }
          ],
          "scatter": [
           {
            "fillpattern": {
             "fillmode": "overlay",
             "size": 10,
             "solidity": 0.2
            },
            "type": "scatter"
           }
          ],
          "scatter3d": [
           {
            "line": {
             "colorbar": {
              "outlinewidth": 0,
              "ticks": ""
             }
            },
            "marker": {
             "colorbar": {
              "outlinewidth": 0,
              "ticks": ""
             }
            },
            "type": "scatter3d"
           }
          ],
          "scattercarpet": [
           {
            "marker": {
             "colorbar": {
              "outlinewidth": 0,
              "ticks": ""
             }
            },
            "type": "scattercarpet"
           }
          ],
          "scattergeo": [
           {
            "marker": {
             "colorbar": {
              "outlinewidth": 0,
              "ticks": ""
             }
            },
            "type": "scattergeo"
           }
          ],
          "scattergl": [
           {
            "marker": {
             "colorbar": {
              "outlinewidth": 0,
              "ticks": ""
             }
            },
            "type": "scattergl"
           }
          ],
          "scattermapbox": [
           {
            "marker": {
             "colorbar": {
              "outlinewidth": 0,
              "ticks": ""
             }
            },
            "type": "scattermapbox"
           }
          ],
          "scatterpolar": [
           {
            "marker": {
             "colorbar": {
              "outlinewidth": 0,
              "ticks": ""
             }
            },
            "type": "scatterpolar"
           }
          ],
          "scatterpolargl": [
           {
            "marker": {
             "colorbar": {
              "outlinewidth": 0,
              "ticks": ""
             }
            },
            "type": "scatterpolargl"
           }
          ],
          "scatterternary": [
           {
            "marker": {
             "colorbar": {
              "outlinewidth": 0,
              "ticks": ""
             }
            },
            "type": "scatterternary"
           }
          ],
          "surface": [
           {
            "colorbar": {
             "outlinewidth": 0,
             "ticks": ""
            },
            "colorscale": [
             [
              0,
              "#0d0887"
             ],
             [
              0.1111111111111111,
              "#46039f"
             ],
             [
              0.2222222222222222,
              "#7201a8"
             ],
             [
              0.3333333333333333,
              "#9c179e"
             ],
             [
              0.4444444444444444,
              "#bd3786"
             ],
             [
              0.5555555555555556,
              "#d8576b"
             ],
             [
              0.6666666666666666,
              "#ed7953"
             ],
             [
              0.7777777777777778,
              "#fb9f3a"
             ],
             [
              0.8888888888888888,
              "#fdca26"
             ],
             [
              1,
              "#f0f921"
             ]
            ],
            "type": "surface"
           }
          ],
          "table": [
           {
            "cells": {
             "fill": {
              "color": "#EBF0F8"
             },
             "line": {
              "color": "white"
             }
            },
            "header": {
             "fill": {
              "color": "#C8D4E3"
             },
             "line": {
              "color": "white"
             }
            },
            "type": "table"
           }
          ]
         },
         "layout": {
          "annotationdefaults": {
           "arrowcolor": "#2a3f5f",
           "arrowhead": 0,
           "arrowwidth": 1
          },
          "autotypenumbers": "strict",
          "coloraxis": {
           "colorbar": {
            "outlinewidth": 0,
            "ticks": ""
           }
          },
          "colorscale": {
           "diverging": [
            [
             0,
             "#8e0152"
            ],
            [
             0.1,
             "#c51b7d"
            ],
            [
             0.2,
             "#de77ae"
            ],
            [
             0.3,
             "#f1b6da"
            ],
            [
             0.4,
             "#fde0ef"
            ],
            [
             0.5,
             "#f7f7f7"
            ],
            [
             0.6,
             "#e6f5d0"
            ],
            [
             0.7,
             "#b8e186"
            ],
            [
             0.8,
             "#7fbc41"
            ],
            [
             0.9,
             "#4d9221"
            ],
            [
             1,
             "#276419"
            ]
           ],
           "sequential": [
            [
             0,
             "#0d0887"
            ],
            [
             0.1111111111111111,
             "#46039f"
            ],
            [
             0.2222222222222222,
             "#7201a8"
            ],
            [
             0.3333333333333333,
             "#9c179e"
            ],
            [
             0.4444444444444444,
             "#bd3786"
            ],
            [
             0.5555555555555556,
             "#d8576b"
            ],
            [
             0.6666666666666666,
             "#ed7953"
            ],
            [
             0.7777777777777778,
             "#fb9f3a"
            ],
            [
             0.8888888888888888,
             "#fdca26"
            ],
            [
             1,
             "#f0f921"
            ]
           ],
           "sequentialminus": [
            [
             0,
             "#0d0887"
            ],
            [
             0.1111111111111111,
             "#46039f"
            ],
            [
             0.2222222222222222,
             "#7201a8"
            ],
            [
             0.3333333333333333,
             "#9c179e"
            ],
            [
             0.4444444444444444,
             "#bd3786"
            ],
            [
             0.5555555555555556,
             "#d8576b"
            ],
            [
             0.6666666666666666,
             "#ed7953"
            ],
            [
             0.7777777777777778,
             "#fb9f3a"
            ],
            [
             0.8888888888888888,
             "#fdca26"
            ],
            [
             1,
             "#f0f921"
            ]
           ]
          },
          "colorway": [
           "#636efa",
           "#EF553B",
           "#00cc96",
           "#ab63fa",
           "#FFA15A",
           "#19d3f3",
           "#FF6692",
           "#B6E880",
           "#FF97FF",
           "#FECB52"
          ],
          "font": {
           "color": "#2a3f5f"
          },
          "geo": {
           "bgcolor": "white",
           "lakecolor": "white",
           "landcolor": "#E5ECF6",
           "showlakes": true,
           "showland": true,
           "subunitcolor": "white"
          },
          "hoverlabel": {
           "align": "left"
          },
          "hovermode": "closest",
          "mapbox": {
           "style": "light"
          },
          "paper_bgcolor": "white",
          "plot_bgcolor": "#E5ECF6",
          "polar": {
           "angularaxis": {
            "gridcolor": "white",
            "linecolor": "white",
            "ticks": ""
           },
           "bgcolor": "#E5ECF6",
           "radialaxis": {
            "gridcolor": "white",
            "linecolor": "white",
            "ticks": ""
           }
          },
          "scene": {
           "xaxis": {
            "backgroundcolor": "#E5ECF6",
            "gridcolor": "white",
            "gridwidth": 2,
            "linecolor": "white",
            "showbackground": true,
            "ticks": "",
            "zerolinecolor": "white"
           },
           "yaxis": {
            "backgroundcolor": "#E5ECF6",
            "gridcolor": "white",
            "gridwidth": 2,
            "linecolor": "white",
            "showbackground": true,
            "ticks": "",
            "zerolinecolor": "white"
           },
           "zaxis": {
            "backgroundcolor": "#E5ECF6",
            "gridcolor": "white",
            "gridwidth": 2,
            "linecolor": "white",
            "showbackground": true,
            "ticks": "",
            "zerolinecolor": "white"
           }
          },
          "shapedefaults": {
           "line": {
            "color": "#2a3f5f"
           }
          },
          "ternary": {
           "aaxis": {
            "gridcolor": "white",
            "linecolor": "white",
            "ticks": ""
           },
           "baxis": {
            "gridcolor": "white",
            "linecolor": "white",
            "ticks": ""
           },
           "bgcolor": "#E5ECF6",
           "caxis": {
            "gridcolor": "white",
            "linecolor": "white",
            "ticks": ""
           }
          },
          "title": {
           "x": 0.05
          },
          "xaxis": {
           "automargin": true,
           "gridcolor": "white",
           "linecolor": "white",
           "ticks": "",
           "title": {
            "standoff": 15
           },
           "zerolinecolor": "white",
           "zerolinewidth": 2
          },
          "yaxis": {
           "automargin": true,
           "gridcolor": "white",
           "linecolor": "white",
           "ticks": "",
           "title": {
            "standoff": 15
           },
           "zerolinecolor": "white",
           "zerolinewidth": 2
          }
         }
        },
        "title": {
         "text": "Capital TEST"
        },
        "xaxis": {
         "anchor": "y",
         "domain": [
          0,
          1
         ],
         "title": {
          "text": "x"
         }
        },
        "yaxis": {
         "anchor": "x",
         "domain": [
          0,
          1
         ],
         "title": {
          "text": "y"
         }
        }
       }
      }
     },
     "metadata": {},
     "output_type": "display_data"
    }
   ],
   "source": [
    "px.line(x = test_data.index, y = capital_progress_test, title = 'Capital TEST').show()"
   ]
  },
  {
   "cell_type": "code",
   "execution_count": 350,
   "metadata": {},
   "outputs": [
    {
     "data": {
      "application/vnd.plotly.v1+json": {
       "config": {
        "plotlyServerURL": "https://plot.ly"
       },
       "data": [
        {
         "hovertemplate": "x=%{x}<br>y=%{y}<extra></extra>",
         "legendgroup": "",
         "line": {
          "color": "#636efa",
          "dash": "solid"
         },
         "marker": {
          "symbol": "circle"
         },
         "mode": "lines",
         "name": "",
         "orientation": "v",
         "showlegend": false,
         "type": "scatter",
         "x": [
          "2024-07-01T00:00:00",
          "2024-07-02T00:00:00",
          "2024-07-03T00:00:00",
          "2024-07-05T00:00:00",
          "2024-07-08T00:00:00",
          "2024-07-09T00:00:00",
          "2024-07-10T00:00:00",
          "2024-07-11T00:00:00",
          "2024-07-12T00:00:00",
          "2024-07-15T00:00:00",
          "2024-07-16T00:00:00",
          "2024-07-17T00:00:00",
          "2024-07-18T00:00:00",
          "2024-07-19T00:00:00",
          "2024-07-22T00:00:00",
          "2024-07-23T00:00:00",
          "2024-07-24T00:00:00",
          "2024-07-25T00:00:00",
          "2024-07-26T00:00:00",
          "2024-07-29T00:00:00"
         ],
         "xaxis": "x",
         "y": [
          3654.436381316996,
          6955.118561210711,
          10275.587936808111,
          12485.195361313326,
          12485.195361313326,
          9261.988271161232,
          8381.070316466941,
          8376.36485519753,
          10631.573257014881,
          10631.573257014881,
          1457.9446366208967,
          2434.4557253636444,
          2434.4557253636444,
          5284.018809168967,
          6525.666627536101,
          6525.666627536101,
          2283.230636866769,
          1457.9446366208967,
          1457.9446366208967,
          1457.9446366208967
         ],
         "yaxis": "y"
        }
       ],
       "layout": {
        "legend": {
         "tracegroupgap": 0
        },
        "template": {
         "data": {
          "bar": [
           {
            "error_x": {
             "color": "#2a3f5f"
            },
            "error_y": {
             "color": "#2a3f5f"
            },
            "marker": {
             "line": {
              "color": "#E5ECF6",
              "width": 0.5
             },
             "pattern": {
              "fillmode": "overlay",
              "size": 10,
              "solidity": 0.2
             }
            },
            "type": "bar"
           }
          ],
          "barpolar": [
           {
            "marker": {
             "line": {
              "color": "#E5ECF6",
              "width": 0.5
             },
             "pattern": {
              "fillmode": "overlay",
              "size": 10,
              "solidity": 0.2
             }
            },
            "type": "barpolar"
           }
          ],
          "carpet": [
           {
            "aaxis": {
             "endlinecolor": "#2a3f5f",
             "gridcolor": "white",
             "linecolor": "white",
             "minorgridcolor": "white",
             "startlinecolor": "#2a3f5f"
            },
            "baxis": {
             "endlinecolor": "#2a3f5f",
             "gridcolor": "white",
             "linecolor": "white",
             "minorgridcolor": "white",
             "startlinecolor": "#2a3f5f"
            },
            "type": "carpet"
           }
          ],
          "choropleth": [
           {
            "colorbar": {
             "outlinewidth": 0,
             "ticks": ""
            },
            "type": "choropleth"
           }
          ],
          "contour": [
           {
            "colorbar": {
             "outlinewidth": 0,
             "ticks": ""
            },
            "colorscale": [
             [
              0,
              "#0d0887"
             ],
             [
              0.1111111111111111,
              "#46039f"
             ],
             [
              0.2222222222222222,
              "#7201a8"
             ],
             [
              0.3333333333333333,
              "#9c179e"
             ],
             [
              0.4444444444444444,
              "#bd3786"
             ],
             [
              0.5555555555555556,
              "#d8576b"
             ],
             [
              0.6666666666666666,
              "#ed7953"
             ],
             [
              0.7777777777777778,
              "#fb9f3a"
             ],
             [
              0.8888888888888888,
              "#fdca26"
             ],
             [
              1,
              "#f0f921"
             ]
            ],
            "type": "contour"
           }
          ],
          "contourcarpet": [
           {
            "colorbar": {
             "outlinewidth": 0,
             "ticks": ""
            },
            "type": "contourcarpet"
           }
          ],
          "heatmap": [
           {
            "colorbar": {
             "outlinewidth": 0,
             "ticks": ""
            },
            "colorscale": [
             [
              0,
              "#0d0887"
             ],
             [
              0.1111111111111111,
              "#46039f"
             ],
             [
              0.2222222222222222,
              "#7201a8"
             ],
             [
              0.3333333333333333,
              "#9c179e"
             ],
             [
              0.4444444444444444,
              "#bd3786"
             ],
             [
              0.5555555555555556,
              "#d8576b"
             ],
             [
              0.6666666666666666,
              "#ed7953"
             ],
             [
              0.7777777777777778,
              "#fb9f3a"
             ],
             [
              0.8888888888888888,
              "#fdca26"
             ],
             [
              1,
              "#f0f921"
             ]
            ],
            "type": "heatmap"
           }
          ],
          "heatmapgl": [
           {
            "colorbar": {
             "outlinewidth": 0,
             "ticks": ""
            },
            "colorscale": [
             [
              0,
              "#0d0887"
             ],
             [
              0.1111111111111111,
              "#46039f"
             ],
             [
              0.2222222222222222,
              "#7201a8"
             ],
             [
              0.3333333333333333,
              "#9c179e"
             ],
             [
              0.4444444444444444,
              "#bd3786"
             ],
             [
              0.5555555555555556,
              "#d8576b"
             ],
             [
              0.6666666666666666,
              "#ed7953"
             ],
             [
              0.7777777777777778,
              "#fb9f3a"
             ],
             [
              0.8888888888888888,
              "#fdca26"
             ],
             [
              1,
              "#f0f921"
             ]
            ],
            "type": "heatmapgl"
           }
          ],
          "histogram": [
           {
            "marker": {
             "pattern": {
              "fillmode": "overlay",
              "size": 10,
              "solidity": 0.2
             }
            },
            "type": "histogram"
           }
          ],
          "histogram2d": [
           {
            "colorbar": {
             "outlinewidth": 0,
             "ticks": ""
            },
            "colorscale": [
             [
              0,
              "#0d0887"
             ],
             [
              0.1111111111111111,
              "#46039f"
             ],
             [
              0.2222222222222222,
              "#7201a8"
             ],
             [
              0.3333333333333333,
              "#9c179e"
             ],
             [
              0.4444444444444444,
              "#bd3786"
             ],
             [
              0.5555555555555556,
              "#d8576b"
             ],
             [
              0.6666666666666666,
              "#ed7953"
             ],
             [
              0.7777777777777778,
              "#fb9f3a"
             ],
             [
              0.8888888888888888,
              "#fdca26"
             ],
             [
              1,
              "#f0f921"
             ]
            ],
            "type": "histogram2d"
           }
          ],
          "histogram2dcontour": [
           {
            "colorbar": {
             "outlinewidth": 0,
             "ticks": ""
            },
            "colorscale": [
             [
              0,
              "#0d0887"
             ],
             [
              0.1111111111111111,
              "#46039f"
             ],
             [
              0.2222222222222222,
              "#7201a8"
             ],
             [
              0.3333333333333333,
              "#9c179e"
             ],
             [
              0.4444444444444444,
              "#bd3786"
             ],
             [
              0.5555555555555556,
              "#d8576b"
             ],
             [
              0.6666666666666666,
              "#ed7953"
             ],
             [
              0.7777777777777778,
              "#fb9f3a"
             ],
             [
              0.8888888888888888,
              "#fdca26"
             ],
             [
              1,
              "#f0f921"
             ]
            ],
            "type": "histogram2dcontour"
           }
          ],
          "mesh3d": [
           {
            "colorbar": {
             "outlinewidth": 0,
             "ticks": ""
            },
            "type": "mesh3d"
           }
          ],
          "parcoords": [
           {
            "line": {
             "colorbar": {
              "outlinewidth": 0,
              "ticks": ""
             }
            },
            "type": "parcoords"
           }
          ],
          "pie": [
           {
            "automargin": true,
            "type": "pie"
           }
          ],
          "scatter": [
           {
            "fillpattern": {
             "fillmode": "overlay",
             "size": 10,
             "solidity": 0.2
            },
            "type": "scatter"
           }
          ],
          "scatter3d": [
           {
            "line": {
             "colorbar": {
              "outlinewidth": 0,
              "ticks": ""
             }
            },
            "marker": {
             "colorbar": {
              "outlinewidth": 0,
              "ticks": ""
             }
            },
            "type": "scatter3d"
           }
          ],
          "scattercarpet": [
           {
            "marker": {
             "colorbar": {
              "outlinewidth": 0,
              "ticks": ""
             }
            },
            "type": "scattercarpet"
           }
          ],
          "scattergeo": [
           {
            "marker": {
             "colorbar": {
              "outlinewidth": 0,
              "ticks": ""
             }
            },
            "type": "scattergeo"
           }
          ],
          "scattergl": [
           {
            "marker": {
             "colorbar": {
              "outlinewidth": 0,
              "ticks": ""
             }
            },
            "type": "scattergl"
           }
          ],
          "scattermapbox": [
           {
            "marker": {
             "colorbar": {
              "outlinewidth": 0,
              "ticks": ""
             }
            },
            "type": "scattermapbox"
           }
          ],
          "scatterpolar": [
           {
            "marker": {
             "colorbar": {
              "outlinewidth": 0,
              "ticks": ""
             }
            },
            "type": "scatterpolar"
           }
          ],
          "scatterpolargl": [
           {
            "marker": {
             "colorbar": {
              "outlinewidth": 0,
              "ticks": ""
             }
            },
            "type": "scatterpolargl"
           }
          ],
          "scatterternary": [
           {
            "marker": {
             "colorbar": {
              "outlinewidth": 0,
              "ticks": ""
             }
            },
            "type": "scatterternary"
           }
          ],
          "surface": [
           {
            "colorbar": {
             "outlinewidth": 0,
             "ticks": ""
            },
            "colorscale": [
             [
              0,
              "#0d0887"
             ],
             [
              0.1111111111111111,
              "#46039f"
             ],
             [
              0.2222222222222222,
              "#7201a8"
             ],
             [
              0.3333333333333333,
              "#9c179e"
             ],
             [
              0.4444444444444444,
              "#bd3786"
             ],
             [
              0.5555555555555556,
              "#d8576b"
             ],
             [
              0.6666666666666666,
              "#ed7953"
             ],
             [
              0.7777777777777778,
              "#fb9f3a"
             ],
             [
              0.8888888888888888,
              "#fdca26"
             ],
             [
              1,
              "#f0f921"
             ]
            ],
            "type": "surface"
           }
          ],
          "table": [
           {
            "cells": {
             "fill": {
              "color": "#EBF0F8"
             },
             "line": {
              "color": "white"
             }
            },
            "header": {
             "fill": {
              "color": "#C8D4E3"
             },
             "line": {
              "color": "white"
             }
            },
            "type": "table"
           }
          ]
         },
         "layout": {
          "annotationdefaults": {
           "arrowcolor": "#2a3f5f",
           "arrowhead": 0,
           "arrowwidth": 1
          },
          "autotypenumbers": "strict",
          "coloraxis": {
           "colorbar": {
            "outlinewidth": 0,
            "ticks": ""
           }
          },
          "colorscale": {
           "diverging": [
            [
             0,
             "#8e0152"
            ],
            [
             0.1,
             "#c51b7d"
            ],
            [
             0.2,
             "#de77ae"
            ],
            [
             0.3,
             "#f1b6da"
            ],
            [
             0.4,
             "#fde0ef"
            ],
            [
             0.5,
             "#f7f7f7"
            ],
            [
             0.6,
             "#e6f5d0"
            ],
            [
             0.7,
             "#b8e186"
            ],
            [
             0.8,
             "#7fbc41"
            ],
            [
             0.9,
             "#4d9221"
            ],
            [
             1,
             "#276419"
            ]
           ],
           "sequential": [
            [
             0,
             "#0d0887"
            ],
            [
             0.1111111111111111,
             "#46039f"
            ],
            [
             0.2222222222222222,
             "#7201a8"
            ],
            [
             0.3333333333333333,
             "#9c179e"
            ],
            [
             0.4444444444444444,
             "#bd3786"
            ],
            [
             0.5555555555555556,
             "#d8576b"
            ],
            [
             0.6666666666666666,
             "#ed7953"
            ],
            [
             0.7777777777777778,
             "#fb9f3a"
            ],
            [
             0.8888888888888888,
             "#fdca26"
            ],
            [
             1,
             "#f0f921"
            ]
           ],
           "sequentialminus": [
            [
             0,
             "#0d0887"
            ],
            [
             0.1111111111111111,
             "#46039f"
            ],
            [
             0.2222222222222222,
             "#7201a8"
            ],
            [
             0.3333333333333333,
             "#9c179e"
            ],
            [
             0.4444444444444444,
             "#bd3786"
            ],
            [
             0.5555555555555556,
             "#d8576b"
            ],
            [
             0.6666666666666666,
             "#ed7953"
            ],
            [
             0.7777777777777778,
             "#fb9f3a"
            ],
            [
             0.8888888888888888,
             "#fdca26"
            ],
            [
             1,
             "#f0f921"
            ]
           ]
          },
          "colorway": [
           "#636efa",
           "#EF553B",
           "#00cc96",
           "#ab63fa",
           "#FFA15A",
           "#19d3f3",
           "#FF6692",
           "#B6E880",
           "#FF97FF",
           "#FECB52"
          ],
          "font": {
           "color": "#2a3f5f"
          },
          "geo": {
           "bgcolor": "white",
           "lakecolor": "white",
           "landcolor": "#E5ECF6",
           "showlakes": true,
           "showland": true,
           "subunitcolor": "white"
          },
          "hoverlabel": {
           "align": "left"
          },
          "hovermode": "closest",
          "mapbox": {
           "style": "light"
          },
          "paper_bgcolor": "white",
          "plot_bgcolor": "#E5ECF6",
          "polar": {
           "angularaxis": {
            "gridcolor": "white",
            "linecolor": "white",
            "ticks": ""
           },
           "bgcolor": "#E5ECF6",
           "radialaxis": {
            "gridcolor": "white",
            "linecolor": "white",
            "ticks": ""
           }
          },
          "scene": {
           "xaxis": {
            "backgroundcolor": "#E5ECF6",
            "gridcolor": "white",
            "gridwidth": 2,
            "linecolor": "white",
            "showbackground": true,
            "ticks": "",
            "zerolinecolor": "white"
           },
           "yaxis": {
            "backgroundcolor": "#E5ECF6",
            "gridcolor": "white",
            "gridwidth": 2,
            "linecolor": "white",
            "showbackground": true,
            "ticks": "",
            "zerolinecolor": "white"
           },
           "zaxis": {
            "backgroundcolor": "#E5ECF6",
            "gridcolor": "white",
            "gridwidth": 2,
            "linecolor": "white",
            "showbackground": true,
            "ticks": "",
            "zerolinecolor": "white"
           }
          },
          "shapedefaults": {
           "line": {
            "color": "#2a3f5f"
           }
          },
          "ternary": {
           "aaxis": {
            "gridcolor": "white",
            "linecolor": "white",
            "ticks": ""
           },
           "baxis": {
            "gridcolor": "white",
            "linecolor": "white",
            "ticks": ""
           },
           "bgcolor": "#E5ECF6",
           "caxis": {
            "gridcolor": "white",
            "linecolor": "white",
            "ticks": ""
           }
          },
          "title": {
           "x": 0.05
          },
          "xaxis": {
           "automargin": true,
           "gridcolor": "white",
           "linecolor": "white",
           "ticks": "",
           "title": {
            "standoff": 15
           },
           "zerolinecolor": "white",
           "zerolinewidth": 2
          },
          "yaxis": {
           "automargin": true,
           "gridcolor": "white",
           "linecolor": "white",
           "ticks": "",
           "title": {
            "standoff": 15
           },
           "zerolinecolor": "white",
           "zerolinewidth": 2
          }
         }
        },
        "title": {
         "text": "Volatility"
        },
        "xaxis": {
         "anchor": "y",
         "domain": [
          0,
          1
         ],
         "title": {
          "text": "x"
         }
        },
        "yaxis": {
         "anchor": "x",
         "domain": [
          0,
          1
         ],
         "title": {
          "text": "y"
         }
        }
       }
      }
     },
     "metadata": {},
     "output_type": "display_data"
    }
   ],
   "source": [
    "px.line(x = test_data.index,y = volatility_test, title = 'Volatility').show()"
   ]
  },
  {
   "cell_type": "code",
   "execution_count": null,
   "metadata": {},
   "outputs": [],
   "source": []
  },
  {
   "cell_type": "code",
   "execution_count": null,
   "metadata": {},
   "outputs": [],
   "source": []
  },
  {
   "cell_type": "code",
   "execution_count": null,
   "metadata": {},
   "outputs": [],
   "source": []
  },
  {
   "cell_type": "code",
   "execution_count": null,
   "metadata": {},
   "outputs": [],
   "source": []
  },
  {
   "cell_type": "code",
   "execution_count": null,
   "metadata": {},
   "outputs": [],
   "source": []
  },
  {
   "cell_type": "markdown",
   "metadata": {},
   "source": [
    "## To-do:\n",
    "\n",
    "1. Try different sector (Jiajun)\n",
    "2. Explain background, sector of stocks (Adrian, Shi Han)\n",
    "3. Try train test (Wayne)\n",
    "4. Explain why we choose 3 stocks from 3 sectors (Shi Han)\n",
    "5. Discuss how number of stocks effect profit & risk - Why we fix three stocks?\n",
    "6. Risk management \n",
    "    - Add a checking that there is no significant portion invested on single stock? (Mingrui)\n",
    "    - Filter, Add a layer of checking standard deviation of coefficient (weightage) (Mingrui)\n",
    "    - T-Copula (low priority, Jiajun/Wayne/Mingrui)\n",
    "    - TimeSeries of Sharpe ratio of portfolio(ideally > 2) (Shi Han)\n",
    "7. Add a enlargement factor - consider the case where you have a lot of capital (Wayne)\n",
    "8. Discuss brainstorm initial capital, rate of return (Group)\n",
    "9. Compute profit for top 5 R-squared - act as 2nd layer when choosing stock. (wayne)\n",
    "10. Discuss sell (short) how it operates in real world market. (Shi Han)\n",
    "11. Discuss adjusting your weightage based on rolling window. (Adrian)\n",
    "12. Implement stop-loss order (Wayne)\n",
    "\n",
    "Pair trading with extended version:\n",
    "1.\tStory: Market needs, Literature (Adrian)\n",
    "2.\tImplementation (Shi han)\n",
    "3.\tResult interpretation (Ming rui)\n",
    "4.\tRisk management (Wayne)\n",
    "5.\tAssumption, Area of improvement, Limitation (Jiajun)\n",
    "    - When to execute\n",
    "    - Short sell\n",
    "    - Transaction cost\n",
    "6.  Executive summary (Adrian)"
   ]
  },
  {
   "cell_type": "markdown",
   "metadata": {},
   "source": [
    "### Handling Risks of pair trading\n",
    "1. Reassess the Pair Trade\n",
    "Review the Fundamentals: Check if there are any fundamental changes in the assets that might have caused the weakening correlation.\n",
    "Market Conditions: Consider if current market conditions or external factors are temporarily affecting the pair relationship.\n",
    "2. Adjust Your Positions\n",
    "Reduce Exposure: Gradually reduce your positions to limit potential losses. You can sell part of your holdings to decrease your risk exposure.\n",
    "Close Positions: If the R-squared value falls below a critical threshold that you have set for your strategy, it might be wise to close the positions entirely.\n",
    "3. Monitor and Adjust Strategy\n",
    "Set Alerts: Implement alerts to notify you when the R-squared value falls below certain levels, so you can react promptly.\n",
    "Rolling Recalibration: Continuously monitor the rolling R-squared and spread to make informed decisions on adjusting your strategy.\n",
    "4. Implement Risk Management Techniques\n",
    "Stop-Loss Orders: Use stop-loss orders to automatically exit positions if the spread widens beyond a certain point.\n",
    "Hedging: Consider hedging your positions with other financial instruments to mitigate potential losses."
   ]
  },
  {
   "cell_type": "markdown",
   "metadata": {},
   "source": []
  },
  {
   "cell_type": "markdown",
   "metadata": {},
   "source": [
    "To"
   ]
  }
 ],
 "metadata": {
  "kernelspec": {
   "display_name": "Python 3 (ipykernel)",
   "language": "python",
   "name": "python3"
  },
  "language_info": {
   "codemirror_mode": {
    "name": "ipython",
    "version": 3
   },
   "file_extension": ".py",
   "mimetype": "text/x-python",
   "name": "python",
   "nbconvert_exporter": "python",
   "pygments_lexer": "ipython3",
   "version": "3.10.9"
  }
 },
 "nbformat": 4,
 "nbformat_minor": 4
}
